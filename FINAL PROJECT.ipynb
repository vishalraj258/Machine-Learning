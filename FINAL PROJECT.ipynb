{
 "cells": [
  {
   "cell_type": "code",
   "execution_count": 1215,
   "metadata": {},
   "outputs": [],
   "source": [
    "import numpy as np\n",
    "import pandas as pd\n",
    "import matplotlib.pyplot as plt\n",
    "import seaborn as sns\n",
    "from sklearn import linear_model\n",
    "from sklearn import model_selection\n",
    "from sklearn import preprocessing\n",
    "from sklearn import metrics\n",
    "from sklearn import utils\n",
    "from sklearn import feature_selection\n",
    "from sklearn import tree\n",
    "from sklearn import naive_bayes\n",
    "from sklearn import neighbors\n",
    "from sklearn import ensemble\n",
    "from IPython.display import display"
   ]
  },
  {
   "cell_type": "code",
   "execution_count": 943,
   "metadata": {},
   "outputs": [],
   "source": [
    "x_data = pd.read_csv(\"d:/rishu/projectdata_machinelearning/Interview1.csv\")\n",
    "pd.options.display.max_columns=25"
   ]
  },
  {
   "cell_type": "code",
   "execution_count": 944,
   "metadata": {},
   "outputs": [
    {
     "data": {
      "text/html": [
       "<div>\n",
       "<style scoped>\n",
       "    .dataframe tbody tr th:only-of-type {\n",
       "        vertical-align: middle;\n",
       "    }\n",
       "\n",
       "    .dataframe tbody tr th {\n",
       "        vertical-align: top;\n",
       "    }\n",
       "\n",
       "    .dataframe thead th {\n",
       "        text-align: right;\n",
       "    }\n",
       "</style>\n",
       "<table border=\"1\" class=\"dataframe\">\n",
       "  <thead>\n",
       "    <tr style=\"text-align: right;\">\n",
       "      <th></th>\n",
       "      <th>Date of Interview</th>\n",
       "      <th>Client name</th>\n",
       "      <th>Industry</th>\n",
       "      <th>Location</th>\n",
       "      <th>Position to be closed</th>\n",
       "      <th>Nature of Skillset</th>\n",
       "      <th>Interview Type</th>\n",
       "      <th>Name(Cand ID)</th>\n",
       "      <th>Gender</th>\n",
       "      <th>Candidate Current Location</th>\n",
       "      <th>Candidate Job Location</th>\n",
       "      <th>Interview Venue</th>\n",
       "      <th>Candidate Native location</th>\n",
       "      <th>Have you obtained the necessary permission to start at the required time</th>\n",
       "      <th>Hope there will be no unscheduled meetings</th>\n",
       "      <th>Can I Call you three hours before the interview and follow up on your attendance for the interview</th>\n",
       "      <th>Can I have an alternative number/ desk number. I assure you that I will not trouble you too much</th>\n",
       "      <th>Have you taken a printout of your updated resume. Have you read the JD and understood the same</th>\n",
       "      <th>Are you clear with the venue details and the landmark.</th>\n",
       "      <th>Has the call letter been shared</th>\n",
       "      <th>Expected Attendance</th>\n",
       "      <th>Observed Attendance</th>\n",
       "      <th>Marital Status</th>\n",
       "    </tr>\n",
       "  </thead>\n",
       "  <tbody>\n",
       "    <tr>\n",
       "      <th>0</th>\n",
       "      <td>13.02.2015</td>\n",
       "      <td>Hospira</td>\n",
       "      <td>Pharmaceuticals</td>\n",
       "      <td>Chennai</td>\n",
       "      <td>Production- Sterile</td>\n",
       "      <td>Routine</td>\n",
       "      <td>Scheduled Walkin</td>\n",
       "      <td>Candidate 1</td>\n",
       "      <td>Male</td>\n",
       "      <td>Chennai</td>\n",
       "      <td>Hosur</td>\n",
       "      <td>Hosur</td>\n",
       "      <td>Hosur</td>\n",
       "      <td>Yes</td>\n",
       "      <td>Yes</td>\n",
       "      <td>Yes</td>\n",
       "      <td>Yes</td>\n",
       "      <td>Yes</td>\n",
       "      <td>Yes</td>\n",
       "      <td>Yes</td>\n",
       "      <td>Yes</td>\n",
       "      <td>No</td>\n",
       "      <td>Single</td>\n",
       "    </tr>\n",
       "    <tr>\n",
       "      <th>1</th>\n",
       "      <td>13.02.2015</td>\n",
       "      <td>Hospira</td>\n",
       "      <td>Pharmaceuticals</td>\n",
       "      <td>Chennai</td>\n",
       "      <td>Production- Sterile</td>\n",
       "      <td>Routine</td>\n",
       "      <td>Scheduled Walkin</td>\n",
       "      <td>Candidate 2</td>\n",
       "      <td>Male</td>\n",
       "      <td>Chennai</td>\n",
       "      <td>Bangalore</td>\n",
       "      <td>Hosur</td>\n",
       "      <td>Trichy</td>\n",
       "      <td>Yes</td>\n",
       "      <td>Yes</td>\n",
       "      <td>Yes</td>\n",
       "      <td>Yes</td>\n",
       "      <td>Yes</td>\n",
       "      <td>Yes</td>\n",
       "      <td>Yes</td>\n",
       "      <td>Yes</td>\n",
       "      <td>No</td>\n",
       "      <td>Single</td>\n",
       "    </tr>\n",
       "    <tr>\n",
       "      <th>2</th>\n",
       "      <td>13.02.2015</td>\n",
       "      <td>Hospira</td>\n",
       "      <td>Pharmaceuticals</td>\n",
       "      <td>Chennai</td>\n",
       "      <td>Production- Sterile</td>\n",
       "      <td>Routine</td>\n",
       "      <td>Scheduled Walkin</td>\n",
       "      <td>Candidate 3</td>\n",
       "      <td>Male</td>\n",
       "      <td>Chennai</td>\n",
       "      <td>Chennai</td>\n",
       "      <td>Hosur</td>\n",
       "      <td>Chennai</td>\n",
       "      <td>NaN</td>\n",
       "      <td>Na</td>\n",
       "      <td>NaN</td>\n",
       "      <td>NaN</td>\n",
       "      <td>NaN</td>\n",
       "      <td>NaN</td>\n",
       "      <td>NaN</td>\n",
       "      <td>Uncertain</td>\n",
       "      <td>No</td>\n",
       "      <td>Single</td>\n",
       "    </tr>\n",
       "    <tr>\n",
       "      <th>3</th>\n",
       "      <td>13.02.2015</td>\n",
       "      <td>Hospira</td>\n",
       "      <td>Pharmaceuticals</td>\n",
       "      <td>Chennai</td>\n",
       "      <td>Production- Sterile</td>\n",
       "      <td>Routine</td>\n",
       "      <td>Scheduled Walkin</td>\n",
       "      <td>Candidate 4</td>\n",
       "      <td>Male</td>\n",
       "      <td>Chennai</td>\n",
       "      <td>Chennai</td>\n",
       "      <td>Hosur</td>\n",
       "      <td>Chennai</td>\n",
       "      <td>Yes</td>\n",
       "      <td>Yes</td>\n",
       "      <td>No</td>\n",
       "      <td>Yes</td>\n",
       "      <td>No</td>\n",
       "      <td>Yes</td>\n",
       "      <td>Yes</td>\n",
       "      <td>Uncertain</td>\n",
       "      <td>No</td>\n",
       "      <td>Single</td>\n",
       "    </tr>\n",
       "    <tr>\n",
       "      <th>4</th>\n",
       "      <td>13.02.2015</td>\n",
       "      <td>Hospira</td>\n",
       "      <td>Pharmaceuticals</td>\n",
       "      <td>Chennai</td>\n",
       "      <td>Production- Sterile</td>\n",
       "      <td>Routine</td>\n",
       "      <td>Scheduled Walkin</td>\n",
       "      <td>Candidate 5</td>\n",
       "      <td>Male</td>\n",
       "      <td>Chennai</td>\n",
       "      <td>Bangalore</td>\n",
       "      <td>Hosur</td>\n",
       "      <td>Chennai</td>\n",
       "      <td>Yes</td>\n",
       "      <td>Yes</td>\n",
       "      <td>Yes</td>\n",
       "      <td>No</td>\n",
       "      <td>Yes</td>\n",
       "      <td>Yes</td>\n",
       "      <td>Yes</td>\n",
       "      <td>Uncertain</td>\n",
       "      <td>No</td>\n",
       "      <td>Married</td>\n",
       "    </tr>\n",
       "    <tr>\n",
       "      <th>5</th>\n",
       "      <td>13.02.2015</td>\n",
       "      <td>Aon Hewitt</td>\n",
       "      <td>IT Services</td>\n",
       "      <td>Gurgaon</td>\n",
       "      <td>Selenium testing</td>\n",
       "      <td>Routine</td>\n",
       "      <td>Scheduled Walkin</td>\n",
       "      <td>Candidate 6</td>\n",
       "      <td>Male</td>\n",
       "      <td>Gurgaon</td>\n",
       "      <td>Gurgaon</td>\n",
       "      <td>Gurgaon</td>\n",
       "      <td>Gurgaon</td>\n",
       "      <td>Yes</td>\n",
       "      <td>Yes</td>\n",
       "      <td>Yes</td>\n",
       "      <td>Yes</td>\n",
       "      <td>Yes</td>\n",
       "      <td>Yes</td>\n",
       "      <td>Yes</td>\n",
       "      <td>Yes</td>\n",
       "      <td>Yes</td>\n",
       "      <td>Single</td>\n",
       "    </tr>\n",
       "    <tr>\n",
       "      <th>6</th>\n",
       "      <td>13.02.2015</td>\n",
       "      <td>Aon Hewitt</td>\n",
       "      <td>IT Services</td>\n",
       "      <td>Gurgaon</td>\n",
       "      <td>Selenium testing</td>\n",
       "      <td>Routine</td>\n",
       "      <td>Scheduled Walkin</td>\n",
       "      <td>Candidate 7</td>\n",
       "      <td>Male</td>\n",
       "      <td>Gurgaon</td>\n",
       "      <td>Gurgaon</td>\n",
       "      <td>Gurgaon</td>\n",
       "      <td>Gurgaon</td>\n",
       "      <td>Yes</td>\n",
       "      <td>Yes</td>\n",
       "      <td>Yes</td>\n",
       "      <td>Yes</td>\n",
       "      <td>Yes</td>\n",
       "      <td>Yes</td>\n",
       "      <td>Yes</td>\n",
       "      <td>Yes</td>\n",
       "      <td>Yes</td>\n",
       "      <td>Single</td>\n",
       "    </tr>\n",
       "    <tr>\n",
       "      <th>7</th>\n",
       "      <td>13.02.2015</td>\n",
       "      <td>Aon Hewitt</td>\n",
       "      <td>IT Services</td>\n",
       "      <td>Gurgaon</td>\n",
       "      <td>Selenium testing</td>\n",
       "      <td>Routine</td>\n",
       "      <td>Scheduled Walkin</td>\n",
       "      <td>Candidate 8</td>\n",
       "      <td>Female</td>\n",
       "      <td>Gurgaon</td>\n",
       "      <td>Gurgaon</td>\n",
       "      <td>Gurgaon</td>\n",
       "      <td>Noida</td>\n",
       "      <td>Yes</td>\n",
       "      <td>Yes</td>\n",
       "      <td>Yes</td>\n",
       "      <td>Yes</td>\n",
       "      <td>Yes</td>\n",
       "      <td>Yes</td>\n",
       "      <td>Yes</td>\n",
       "      <td>Yes</td>\n",
       "      <td>Yes</td>\n",
       "      <td>Single</td>\n",
       "    </tr>\n",
       "    <tr>\n",
       "      <th>8</th>\n",
       "      <td>13.02.2015</td>\n",
       "      <td>Aon Hewitt</td>\n",
       "      <td>IT Services</td>\n",
       "      <td>Gurgaon</td>\n",
       "      <td>Selenium testing</td>\n",
       "      <td>Routine</td>\n",
       "      <td>Scheduled Walkin</td>\n",
       "      <td>Candidate 9</td>\n",
       "      <td>Male</td>\n",
       "      <td>Gurgaon</td>\n",
       "      <td>Gurgaon</td>\n",
       "      <td>Gurgaon</td>\n",
       "      <td>Delhi /NCR</td>\n",
       "      <td>Yes</td>\n",
       "      <td>Yes</td>\n",
       "      <td>Yes</td>\n",
       "      <td>Yes</td>\n",
       "      <td>Yes</td>\n",
       "      <td>Yes</td>\n",
       "      <td>Yes</td>\n",
       "      <td>Yes</td>\n",
       "      <td>Yes</td>\n",
       "      <td>Single</td>\n",
       "    </tr>\n",
       "    <tr>\n",
       "      <th>9</th>\n",
       "      <td>13.02.2015</td>\n",
       "      <td>Aon Hewitt</td>\n",
       "      <td>IT Services</td>\n",
       "      <td>Gurgaon</td>\n",
       "      <td>Selenium testing</td>\n",
       "      <td>Routine</td>\n",
       "      <td>Scheduled Walkin</td>\n",
       "      <td>Candidate 10</td>\n",
       "      <td>Female</td>\n",
       "      <td>Gurgaon</td>\n",
       "      <td>Gurgaon</td>\n",
       "      <td>Gurgaon</td>\n",
       "      <td>Delhi /NCR</td>\n",
       "      <td>Yes</td>\n",
       "      <td>Yes</td>\n",
       "      <td>Yes</td>\n",
       "      <td>Yes</td>\n",
       "      <td>Yes</td>\n",
       "      <td>Yes</td>\n",
       "      <td>Yes</td>\n",
       "      <td>Yes</td>\n",
       "      <td>No</td>\n",
       "      <td>Single</td>\n",
       "    </tr>\n",
       "  </tbody>\n",
       "</table>\n",
       "</div>"
      ],
      "text/plain": [
       "  Date of Interview Client name         Industry Location  \\\n",
       "0        13.02.2015     Hospira  Pharmaceuticals  Chennai   \n",
       "1        13.02.2015     Hospira  Pharmaceuticals  Chennai   \n",
       "2        13.02.2015     Hospira  Pharmaceuticals  Chennai   \n",
       "3        13.02.2015     Hospira  Pharmaceuticals  Chennai   \n",
       "4        13.02.2015     Hospira  Pharmaceuticals  Chennai   \n",
       "5        13.02.2015  Aon Hewitt      IT Services  Gurgaon   \n",
       "6        13.02.2015  Aon Hewitt      IT Services  Gurgaon   \n",
       "7        13.02.2015  Aon Hewitt      IT Services  Gurgaon   \n",
       "8        13.02.2015  Aon Hewitt      IT Services  Gurgaon   \n",
       "9        13.02.2015  Aon Hewitt      IT Services  Gurgaon   \n",
       "\n",
       "  Position to be closed Nature of Skillset    Interview Type Name(Cand ID)  \\\n",
       "0   Production- Sterile            Routine  Scheduled Walkin   Candidate 1   \n",
       "1   Production- Sterile            Routine  Scheduled Walkin   Candidate 2   \n",
       "2   Production- Sterile            Routine  Scheduled Walkin   Candidate 3   \n",
       "3   Production- Sterile            Routine  Scheduled Walkin   Candidate 4   \n",
       "4   Production- Sterile            Routine  Scheduled Walkin   Candidate 5   \n",
       "5      Selenium testing            Routine  Scheduled Walkin   Candidate 6   \n",
       "6      Selenium testing            Routine  Scheduled Walkin   Candidate 7   \n",
       "7      Selenium testing            Routine  Scheduled Walkin   Candidate 8   \n",
       "8      Selenium testing            Routine  Scheduled Walkin   Candidate 9   \n",
       "9      Selenium testing            Routine  Scheduled Walkin  Candidate 10   \n",
       "\n",
       "   Gender Candidate Current Location Candidate Job Location Interview Venue  \\\n",
       "0    Male                    Chennai                  Hosur           Hosur   \n",
       "1    Male                    Chennai              Bangalore           Hosur   \n",
       "2    Male                    Chennai                Chennai           Hosur   \n",
       "3    Male                    Chennai                Chennai           Hosur   \n",
       "4    Male                    Chennai              Bangalore           Hosur   \n",
       "5    Male                    Gurgaon                Gurgaon         Gurgaon   \n",
       "6    Male                    Gurgaon                Gurgaon         Gurgaon   \n",
       "7  Female                    Gurgaon                Gurgaon         Gurgaon   \n",
       "8    Male                    Gurgaon                Gurgaon         Gurgaon   \n",
       "9  Female                    Gurgaon                Gurgaon         Gurgaon   \n",
       "\n",
       "  Candidate Native location  \\\n",
       "0                     Hosur   \n",
       "1                    Trichy   \n",
       "2                   Chennai   \n",
       "3                   Chennai   \n",
       "4                   Chennai   \n",
       "5                   Gurgaon   \n",
       "6                   Gurgaon   \n",
       "7                     Noida   \n",
       "8                Delhi /NCR   \n",
       "9                Delhi /NCR   \n",
       "\n",
       "  Have you obtained the necessary permission to start at the required time  \\\n",
       "0                                                Yes                         \n",
       "1                                                Yes                         \n",
       "2                                                NaN                         \n",
       "3                                                Yes                         \n",
       "4                                                Yes                         \n",
       "5                                                Yes                         \n",
       "6                                                Yes                         \n",
       "7                                                Yes                         \n",
       "8                                                Yes                         \n",
       "9                                                Yes                         \n",
       "\n",
       "  Hope there will be no unscheduled meetings  \\\n",
       "0                                        Yes   \n",
       "1                                        Yes   \n",
       "2                                         Na   \n",
       "3                                        Yes   \n",
       "4                                        Yes   \n",
       "5                                        Yes   \n",
       "6                                        Yes   \n",
       "7                                        Yes   \n",
       "8                                        Yes   \n",
       "9                                        Yes   \n",
       "\n",
       "  Can I Call you three hours before the interview and follow up on your attendance for the interview  \\\n",
       "0                                                Yes                                                   \n",
       "1                                                Yes                                                   \n",
       "2                                                NaN                                                   \n",
       "3                                                 No                                                   \n",
       "4                                                Yes                                                   \n",
       "5                                                Yes                                                   \n",
       "6                                                Yes                                                   \n",
       "7                                                Yes                                                   \n",
       "8                                                Yes                                                   \n",
       "9                                                Yes                                                   \n",
       "\n",
       "  Can I have an alternative number/ desk number. I assure you that I will not trouble you too much  \\\n",
       "0                                                Yes                                                 \n",
       "1                                                Yes                                                 \n",
       "2                                                NaN                                                 \n",
       "3                                                Yes                                                 \n",
       "4                                                 No                                                 \n",
       "5                                                Yes                                                 \n",
       "6                                                Yes                                                 \n",
       "7                                                Yes                                                 \n",
       "8                                                Yes                                                 \n",
       "9                                                Yes                                                 \n",
       "\n",
       "  Have you taken a printout of your updated resume. Have you read the JD and understood the same  \\\n",
       "0                                                Yes                                               \n",
       "1                                                Yes                                               \n",
       "2                                                NaN                                               \n",
       "3                                                 No                                               \n",
       "4                                                Yes                                               \n",
       "5                                                Yes                                               \n",
       "6                                                Yes                                               \n",
       "7                                                Yes                                               \n",
       "8                                                Yes                                               \n",
       "9                                                Yes                                               \n",
       "\n",
       "  Are you clear with the venue details and the landmark.  \\\n",
       "0                                                Yes       \n",
       "1                                                Yes       \n",
       "2                                                NaN       \n",
       "3                                                Yes       \n",
       "4                                                Yes       \n",
       "5                                                Yes       \n",
       "6                                                Yes       \n",
       "7                                                Yes       \n",
       "8                                                Yes       \n",
       "9                                                Yes       \n",
       "\n",
       "  Has the call letter been shared Expected Attendance Observed Attendance  \\\n",
       "0                             Yes                 Yes                  No   \n",
       "1                             Yes                 Yes                  No   \n",
       "2                             NaN           Uncertain                  No   \n",
       "3                             Yes           Uncertain                  No   \n",
       "4                             Yes           Uncertain                  No   \n",
       "5                             Yes                 Yes                 Yes   \n",
       "6                             Yes                 Yes                 Yes   \n",
       "7                             Yes                 Yes                 Yes   \n",
       "8                             Yes                 Yes                 Yes   \n",
       "9                             Yes                 Yes                  No   \n",
       "\n",
       "  Marital Status  \n",
       "0         Single  \n",
       "1         Single  \n",
       "2         Single  \n",
       "3         Single  \n",
       "4        Married  \n",
       "5         Single  \n",
       "6         Single  \n",
       "7         Single  \n",
       "8         Single  \n",
       "9         Single  "
      ]
     },
     "execution_count": 944,
     "metadata": {},
     "output_type": "execute_result"
    }
   ],
   "source": [
    "x_data.head(10)"
   ]
  },
  {
   "cell_type": "markdown",
   "metadata": {},
   "source": [
    "# Data Cleaning"
   ]
  },
  {
   "cell_type": "code",
   "execution_count": 945,
   "metadata": {},
   "outputs": [
    {
     "name": "stdout",
     "output_type": "stream",
     "text": [
      "<class 'pandas.core.frame.DataFrame'>\n",
      "RangeIndex: 1233 entries, 0 to 1232\n",
      "Data columns (total 23 columns):\n",
      "Date of Interview                                                                                     1233 non-null object\n",
      "Client name                                                                                           1233 non-null object\n",
      "Industry                                                                                              1233 non-null object\n",
      "Location                                                                                              1233 non-null object\n",
      "Position to be closed                                                                                 1233 non-null object\n",
      "Nature of Skillset                                                                                    1233 non-null object\n",
      "Interview Type                                                                                        1233 non-null object\n",
      "Name(Cand ID)                                                                                         1233 non-null object\n",
      "Gender                                                                                                1233 non-null object\n",
      "Candidate Current Location                                                                            1233 non-null object\n",
      "Candidate Job Location                                                                                1233 non-null object\n",
      "Interview Venue                                                                                       1233 non-null object\n",
      "Candidate Native location                                                                             1233 non-null object\n",
      "Have you obtained the necessary permission to start at the required time                              1029 non-null object\n",
      "Hope there will be no unscheduled meetings                                                            986 non-null object\n",
      "Can I Call you three hours before the interview and follow up on your attendance for the interview    986 non-null object\n",
      "Can I have an alternative number/ desk number. I assure you that I will not trouble you too much      986 non-null object\n",
      "Have you taken a printout of your updated resume. Have you read the JD and understood the same        985 non-null object\n",
      "Are you clear with the venue details and the landmark.                                                985 non-null object\n",
      "Has the call letter been shared                                                                       988 non-null object\n",
      "Expected Attendance                                                                                   1228 non-null object\n",
      "Observed Attendance                                                                                   1233 non-null object\n",
      "Marital Status                                                                                        1233 non-null object\n",
      "dtypes: object(23)\n",
      "memory usage: 110.8+ KB\n"
     ]
    }
   ],
   "source": [
    "x_data.info() # FOR GETTING THE FEATURES WITH NAN VALUES"
   ]
  },
  {
   "cell_type": "code",
   "execution_count": 946,
   "metadata": {},
   "outputs": [],
   "source": [
    "# TOTAL CONTINUOUS COLUMNS = 0\n",
    "# TOTAL CATEGORICAL COLUMNS = 23 (Including dependent variable)"
   ]
  },
  {
   "cell_type": "code",
   "execution_count": 947,
   "metadata": {
    "scrolled": true
   },
   "outputs": [
    {
     "data": {
      "text/plain": [
       "Chennai       754\n",
       "Bangalore     292\n",
       "chennai        86\n",
       "Hyderabad      38\n",
       "Gurgaon        33\n",
       "Noida          15\n",
       "- Cochin-       9\n",
       "chennai         3\n",
       "Gurgaonr        1\n",
       "Delhi           1\n",
       "CHENNAI         1\n",
       "Name: Location, dtype: int64"
      ]
     },
     "execution_count": 947,
     "metadata": {},
     "output_type": "execute_result"
    }
   ],
   "source": [
    "x_data[\"Location\"].value_counts()"
   ]
  },
  {
   "cell_type": "code",
   "execution_count": 948,
   "metadata": {},
   "outputs": [],
   "source": [
    "x_data[\"Location\"].replace({'chennai':'Chennai','CHENNAI':'Chennai','Gurgaonr':'Gurgaon','chennai ':'Chennai','- Cochin- ':'Cochin'},inplace=True)"
   ]
  },
  {
   "cell_type": "code",
   "execution_count": 949,
   "metadata": {},
   "outputs": [],
   "source": [
    "x_data[\"Location\"] = x_data[\"Location\"].str.upper()"
   ]
  },
  {
   "cell_type": "code",
   "execution_count": 950,
   "metadata": {
    "scrolled": false
   },
   "outputs": [
    {
     "data": {
      "text/plain": [
       "CHENNAI      844\n",
       "BANGALORE    292\n",
       "HYDERABAD     38\n",
       "GURGAON       34\n",
       "NOIDA         15\n",
       "COCHIN         9\n",
       "DELHI          1\n",
       "Name: Location, dtype: int64"
      ]
     },
     "execution_count": 950,
     "metadata": {},
     "output_type": "execute_result"
    }
   ],
   "source": [
    "x_data[\"Location\"].value_counts()"
   ]
  },
  {
   "cell_type": "code",
   "execution_count": 951,
   "metadata": {
    "scrolled": true
   },
   "outputs": [
    {
     "data": {
      "text/plain": [
       "BFSI                        949\n",
       "Pharmaceuticals             165\n",
       "IT Products and Services     45\n",
       "Electronics                  23\n",
       "IT Services                  23\n",
       "Telecom                      17\n",
       "IT                           11\n",
       "Name: Industry, dtype: int64"
      ]
     },
     "execution_count": 951,
     "metadata": {},
     "output_type": "execute_result"
    }
   ],
   "source": [
    "x_data[\"Industry\"].value_counts()"
   ]
  },
  {
   "cell_type": "code",
   "execution_count": 952,
   "metadata": {},
   "outputs": [],
   "source": [
    "x_data[\"Industry\"] = x_data[\"Industry\"].str.upper()"
   ]
  },
  {
   "cell_type": "code",
   "execution_count": 953,
   "metadata": {
    "scrolled": true
   },
   "outputs": [
    {
     "data": {
      "text/plain": [
       "BFSI                        949\n",
       "PHARMACEUTICALS             165\n",
       "IT PRODUCTS AND SERVICES     45\n",
       "ELECTRONICS                  23\n",
       "IT SERVICES                  23\n",
       "TELECOM                      17\n",
       "IT                           11\n",
       "Name: Industry, dtype: int64"
      ]
     },
     "execution_count": 953,
     "metadata": {},
     "output_type": "execute_result"
    }
   ],
   "source": [
    "x_data[\"Industry\"].value_counts()"
   ]
  },
  {
   "cell_type": "code",
   "execution_count": 954,
   "metadata": {},
   "outputs": [
    {
     "data": {
      "text/plain": [
       "Routine                1023\n",
       "Niche                   163\n",
       "Dot Net                  18\n",
       "Trade Finance            11\n",
       "AML                       8\n",
       "Production- Sterile       5\n",
       "Selenium testing          5\n",
       "Name: Position to be closed, dtype: int64"
      ]
     },
     "execution_count": 954,
     "metadata": {},
     "output_type": "execute_result"
    }
   ],
   "source": [
    "x_data[\"Position to be closed\"].value_counts()"
   ]
  },
  {
   "cell_type": "code",
   "execution_count": 955,
   "metadata": {},
   "outputs": [],
   "source": [
    "x_data[\"Position to be closed\"] = x_data[\"Position to be closed\"].str.upper()"
   ]
  },
  {
   "cell_type": "code",
   "execution_count": 956,
   "metadata": {},
   "outputs": [
    {
     "data": {
      "text/plain": [
       "ROUTINE                1023\n",
       "NICHE                   163\n",
       "DOT NET                  18\n",
       "TRADE FINANCE            11\n",
       "AML                       8\n",
       "SELENIUM TESTING          5\n",
       "PRODUCTION- STERILE       5\n",
       "Name: Position to be closed, dtype: int64"
      ]
     },
     "execution_count": 956,
     "metadata": {},
     "output_type": "execute_result"
    }
   ],
   "source": [
    "x_data[\"Position to be closed\"].value_counts()"
   ]
  },
  {
   "cell_type": "code",
   "execution_count": 957,
   "metadata": {
    "scrolled": true
   },
   "outputs": [
    {
     "data": {
      "text/plain": [
       "JAVA/J2EE/Struts/Hibernate                220\n",
       "Fresher                                    86\n",
       "Accounting Operations                      86\n",
       "AML/KYC/CDD                                84\n",
       "CDD KYC                                    52\n",
       "Routine                                    47\n",
       "Oracle                                     43\n",
       "JAVA/SPRING/HIBERNATE/JSF                  42\n",
       "Java J2EE                                  33\n",
       "SAS                                        27\n",
       "Java Developer                             25\n",
       "Oracle Plsql                               25\n",
       "Lending and Liabilities                    22\n",
       "Banking Operations                         22\n",
       "Java                                       21\n",
       "Core Java                                  17\n",
       "Java J2ee                                  16\n",
       "T-24 developer                             15\n",
       "ALS Testing                                15\n",
       "Senior software engineer-Mednet            15\n",
       "SCCM                                       14\n",
       "Sr Automation Testing                      13\n",
       "Analytical R & D                           13\n",
       "COTS Developer                             13\n",
       "Hadoop                                     12\n",
       "Regulatory                                 12\n",
       "testing                                    11\n",
       "Java                                       10\n",
       "ETL                                         9\n",
       "Dot Net                                     9\n",
       "                                         ... \n",
       "Lending And Liabilities                     3\n",
       "TL                                          3\n",
       "11.30 AM                                    2\n",
       "Lending&Liablities                          2\n",
       "Java, Spring, Hibernate                     2\n",
       "Submission Management                       2\n",
       "LCM -Manager                                2\n",
       "Banking operations                          2\n",
       "Production Support - SCCM                   2\n",
       "RA Label                                    2\n",
       "L & L                                       2\n",
       "12.30 Pm                                    1\n",
       "JAVA,J2ee                                   1\n",
       "SCCM – Sharepoint                           1\n",
       "11.30 Am                                    1\n",
       "Java, J2Ee                                  1\n",
       "10.00 AM                                    1\n",
       "SCCM-(Network, sharepoint,ms exchange)      1\n",
       "JAVA, J2ee                                  1\n",
       "Sccm- networking                            1\n",
       "BaseSAS Program/ Reporting                  1\n",
       "SCCM – SQL                                  1\n",
       "Tech Lead- Mednet                           1\n",
       "Biosimilars                                 1\n",
       "9.00 Am                                     1\n",
       "Manager                                     1\n",
       "Production                                  1\n",
       "Technical Lead                              1\n",
       "9.30 AM                                     1\n",
       "sccm                                        1\n",
       "Name: Nature of Skillset, Length: 92, dtype: int64"
      ]
     },
     "execution_count": 957,
     "metadata": {},
     "output_type": "execute_result"
    }
   ],
   "source": [
    "x_data[\"Nature of Skillset\"].value_counts()"
   ]
  },
  {
   "cell_type": "code",
   "execution_count": 958,
   "metadata": {},
   "outputs": [],
   "source": [
    "x_data[\"Nature of Skillset\"] = x_data[\"Nature of Skillset\"].str.upper()"
   ]
  },
  {
   "cell_type": "code",
   "execution_count": 959,
   "metadata": {},
   "outputs": [],
   "source": [
    "x_data[\"Nature of Skillset\"]=x_data[\"Nature of Skillset\"].str.upper()\n",
    "x_data[\"Nature of Skillset\"]=x_data[\"Nature of Skillset\"].replace({\"11.30 AM\":np.nan ,\"10.00 AM\":np.nan ,\"9.00 AM\":np.nan ,\"12.30 PM\":np.nan ,\"9.30 AM\":np.nan})\n",
    "x_data[\"Nature of Skillset\"].fillna(\"NA\",inplace=True)"
   ]
  },
  {
   "cell_type": "code",
   "execution_count": 960,
   "metadata": {},
   "outputs": [],
   "source": [
    "x_data[\"Nature of Skillset\"].replace({'LENDING & LIABILITY':'LENDING AND LIABILITIES' , 'L & L':'LENDING AND LIABILITIES' ,\n",
    "       'LENDING&LIABLITIES':'LENDING AND LIABILITIES','JAVA ':'JAVA','JAVA,SPRING,HIBERNATE':'JAVA, SPRING, HIBERNATE','ANALYTICAL R & D':'ANALYTICAL R&D', 'BIOSIMILIARS':'BIOSIMILARS','BIOSIMILLAR':'BIOSIMILARS','JAVA ,J2EE':'JAVA,J2EE', 'JAVA, J2EE':'JAVA,J2EE',\n",
    "       'JAVA/J2EE':'JAVA,J2EE','JAVA J2EE':'JAVA,J2EE','TL':'TECHNICAL LEAD','TECH LEAD- MEDNET':'TECH LEAD-MEDNET','JAVA, SQL':'JAVA,SQL' },inplace=True)"
   ]
  },
  {
   "cell_type": "code",
   "execution_count": 961,
   "metadata": {
    "scrolled": false
   },
   "outputs": [
    {
     "data": {
      "text/plain": [
       "JAVA/J2EE/STRUTS/HIBERNATE                220\n",
       "ACCOUNTING OPERATIONS                      86\n",
       "FRESHER                                    86\n",
       "AML/KYC/CDD                                84\n",
       "JAVA,J2EE                                  71\n",
       "CDD KYC                                    52\n",
       "ROUTINE                                    47\n",
       "ORACLE                                     43\n",
       "JAVA/SPRING/HIBERNATE/JSF                  42\n",
       "LENDING AND LIABILITIES                    33\n",
       "JAVA                                       31\n",
       "SAS                                        27\n",
       "ORACLE PLSQL                               25\n",
       "JAVA DEVELOPER                             25\n",
       "BANKING OPERATIONS                         24\n",
       "CORE JAVA                                  17\n",
       "ANALYTICAL R&D                             16\n",
       "SCCM                                       15\n",
       "ALS TESTING                                15\n",
       "SENIOR SOFTWARE ENGINEER-MEDNET            15\n",
       "T-24 DEVELOPER                             15\n",
       "COTS DEVELOPER                             13\n",
       "SR AUTOMATION TESTING                      13\n",
       "HADOOP                                     12\n",
       "REGULATORY                                 12\n",
       "JAVA,SQL                                   11\n",
       "TESTING                                    11\n",
       "BIOSIMILARS                                10\n",
       "TECH LEAD-MEDNET                            9\n",
       "ETL                                         9\n",
       "                                         ... \n",
       "PRODUCTION                                  8\n",
       "AUTOMATION TESTING JAVA                     7\n",
       "NA                                          7\n",
       "JAVA,J2EE, JSF                              6\n",
       "JAVA TECH LEAD                              6\n",
       "JAVA/J2EE/CORE JAVA                         6\n",
       "EMEA                                        6\n",
       "GLOBAL LABELLING                            6\n",
       "JAVA-SAS                                    5\n",
       "JAVA, SPRING, HIBERNATE                     5\n",
       "PRODUCT CONTROL                             5\n",
       "SENIOR ANALYST                              5\n",
       "COTS                                        4\n",
       "#NAME?                                      4\n",
       "SCCM- DESKTOP SUPPORT                       4\n",
       "GENERIC DRUGS – RA                          4\n",
       "JAVA JSF                                    4\n",
       "TECHNICAL LEAD                              4\n",
       "LICENSING – RA                              4\n",
       "JAVA, XML, STRUTS, HIBERNATE                3\n",
       "SUBMISSION MANAGEMENT                       2\n",
       "PRODUCTION SUPPORT - SCCM                   2\n",
       "LCM -MANAGER                                2\n",
       "RA LABEL                                    2\n",
       "SCCM-(NETWORK, SHAREPOINT,MS EXCHANGE)      1\n",
       "MANAGER                                     1\n",
       "SCCM- NETWORKING                            1\n",
       "SCCM – SQL                                  1\n",
       "SCCM – SHAREPOINT                           1\n",
       "BASESAS PROGRAM/ REPORTING                  1\n",
       "Name: Nature of Skillset, Length: 63, dtype: int64"
      ]
     },
     "execution_count": 961,
     "metadata": {},
     "output_type": "execute_result"
    }
   ],
   "source": [
    "x_data[\"Nature of Skillset\"].value_counts()"
   ]
  },
  {
   "cell_type": "code",
   "execution_count": 962,
   "metadata": {},
   "outputs": [
    {
     "data": {
      "text/plain": [
       "Scheduled Walk In    456\n",
       "Scheduled            371\n",
       "Scheduled Walkin     189\n",
       "Walkin               189\n",
       "Walkin                27\n",
       "Sceduled walkin        1\n",
       "Name: Interview Type, dtype: int64"
      ]
     },
     "execution_count": 962,
     "metadata": {},
     "output_type": "execute_result"
    }
   ],
   "source": [
    "x_data[\"Interview Type\"].value_counts()"
   ]
  },
  {
   "cell_type": "code",
   "execution_count": 963,
   "metadata": {},
   "outputs": [],
   "source": [
    "x_data[\"Interview Type\"] = x_data[\"Interview Type\"].str.upper()"
   ]
  },
  {
   "cell_type": "code",
   "execution_count": 964,
   "metadata": {},
   "outputs": [],
   "source": [
    "x_data[\"Interview Type\"].replace({\"SCHEDULED WALKIN\":\"SCHEDULED WALK IN\",\"WALKIN \":\"WALKIN\",\"SCEDULED WALKIN\":\"SCHEDULED WALK IN\"}, inplace=True)"
   ]
  },
  {
   "cell_type": "code",
   "execution_count": 965,
   "metadata": {},
   "outputs": [
    {
     "data": {
      "text/plain": [
       "SCHEDULED WALK IN    646\n",
       "SCHEDULED            371\n",
       "WALKIN               216\n",
       "Name: Interview Type, dtype: int64"
      ]
     },
     "execution_count": 965,
     "metadata": {},
     "output_type": "execute_result"
    }
   ],
   "source": [
    "x_data[\"Interview Type\"].value_counts()"
   ]
  },
  {
   "cell_type": "code",
   "execution_count": 966,
   "metadata": {},
   "outputs": [
    {
     "data": {
      "text/plain": [
       "Yes                          936\n",
       "No                            27\n",
       "Na                            19\n",
       "No I have only thi number      2\n",
       "yes                            1\n",
       "na                             1\n",
       "Name: Can I have an alternative number/ desk number. I assure you that I will not trouble you too much, dtype: int64"
      ]
     },
     "execution_count": 966,
     "metadata": {},
     "output_type": "execute_result"
    }
   ],
   "source": [
    "x_data[\"Can I have an alternative number/ desk number. I assure you that I will not trouble you too much\"].value_counts()"
   ]
  },
  {
   "cell_type": "code",
   "execution_count": 967,
   "metadata": {},
   "outputs": [],
   "source": [
    "x_data[\"Can I have an alternative number/ desk number. I assure you that I will not trouble you too much\"].fillna(\"NA\", inplace=True)"
   ]
  },
  {
   "cell_type": "code",
   "execution_count": 968,
   "metadata": {},
   "outputs": [],
   "source": [
    "x_data[\"Can I have an alternative number/ desk number. I assure you that I will not trouble you too much\"] = x_data[\"Can I have an alternative number/ desk number. I assure you that I will not trouble you too much\"].str.upper()"
   ]
  },
  {
   "cell_type": "code",
   "execution_count": 969,
   "metadata": {},
   "outputs": [],
   "source": [
    "x_data[\"Can I have an alternative number/ desk number. I assure you that I will not trouble you too much\"] = x_data[\"Can I have an alternative number/ desk number. I assure you that I will not trouble you too much\"].replace({\"NO I HAVE ONLY THI NUMBER\":\"NO\"})"
   ]
  },
  {
   "cell_type": "code",
   "execution_count": 970,
   "metadata": {},
   "outputs": [
    {
     "data": {
      "text/plain": [
       "YES    937\n",
       "NA     267\n",
       "NO      29\n",
       "Name: Can I have an alternative number/ desk number. I assure you that I will not trouble you too much, dtype: int64"
      ]
     },
     "execution_count": 970,
     "metadata": {},
     "output_type": "execute_result"
    }
   ],
   "source": [
    "x_data[\"Can I have an alternative number/ desk number. I assure you that I will not trouble you too much\"].value_counts()"
   ]
  },
  {
   "cell_type": "code",
   "execution_count": 971,
   "metadata": {},
   "outputs": [
    {
     "data": {
      "text/plain": [
       "Yes                      940\n",
       "Na                        19\n",
       "No                        16\n",
       "Not Yet                    4\n",
       "yes                        2\n",
       "Not yet                    2\n",
       "na                         1\n",
       "No- will take it soon      1\n",
       "Name: Have you taken a printout of your updated resume. Have you read the JD and understood the same, dtype: int64"
      ]
     },
     "execution_count": 971,
     "metadata": {},
     "output_type": "execute_result"
    }
   ],
   "source": [
    "x_data[\"Have you taken a printout of your updated resume. Have you read the JD and understood the same\"].value_counts()"
   ]
  },
  {
   "cell_type": "code",
   "execution_count": 972,
   "metadata": {},
   "outputs": [],
   "source": [
    "x_data[\"Have you taken a printout of your updated resume. Have you read the JD and understood the same\"].fillna(\"NA\", inplace=True)"
   ]
  },
  {
   "cell_type": "code",
   "execution_count": 973,
   "metadata": {},
   "outputs": [],
   "source": [
    "x_data[\"Have you taken a printout of your updated resume. Have you read the JD and understood the same\"] = x_data[\"Have you taken a printout of your updated resume. Have you read the JD and understood the same\"].str.upper()"
   ]
  },
  {
   "cell_type": "code",
   "execution_count": 974,
   "metadata": {},
   "outputs": [],
   "source": [
    "x_data[\"Have you taken a printout of your updated resume. Have you read the JD and understood the same\"] = x_data[\"Have you taken a printout of your updated resume. Have you read the JD and understood the same\"].replace({\"NOT YET\":\"NO\",\"NO- WILL TAKE IT SOON\":\"NO\",})"
   ]
  },
  {
   "cell_type": "code",
   "execution_count": 975,
   "metadata": {},
   "outputs": [
    {
     "data": {
      "text/plain": [
       "YES    942\n",
       "NA     268\n",
       "NO      23\n",
       "Name: Have you taken a printout of your updated resume. Have you read the JD and understood the same, dtype: int64"
      ]
     },
     "execution_count": 975,
     "metadata": {},
     "output_type": "execute_result"
    }
   ],
   "source": [
    "x_data[\"Have you taken a printout of your updated resume. Have you read the JD and understood the same\"].value_counts()"
   ]
  },
  {
   "cell_type": "code",
   "execution_count": 976,
   "metadata": {},
   "outputs": [
    {
     "data": {
      "text/plain": [
       "Yes                    946\n",
       "Na                      19\n",
       "No                      14\n",
       "yes                      2\n",
       "No- I need to check      2\n",
       "no                       1\n",
       "na                       1\n",
       "Name: Are you clear with the venue details and the landmark., dtype: int64"
      ]
     },
     "execution_count": 976,
     "metadata": {},
     "output_type": "execute_result"
    }
   ],
   "source": [
    "x_data[\"Are you clear with the venue details and the landmark.\"].value_counts()"
   ]
  },
  {
   "cell_type": "code",
   "execution_count": 977,
   "metadata": {},
   "outputs": [],
   "source": [
    "x_data[\"Are you clear with the venue details and the landmark.\"].fillna(\"NA\",inplace=True)"
   ]
  },
  {
   "cell_type": "code",
   "execution_count": 978,
   "metadata": {},
   "outputs": [],
   "source": [
    "x_data[\"Are you clear with the venue details and the landmark.\"] = x_data[\"Are you clear with the venue details and the landmark.\"].str.upper()"
   ]
  },
  {
   "cell_type": "code",
   "execution_count": 979,
   "metadata": {},
   "outputs": [],
   "source": [
    "x_data[\"Are you clear with the venue details and the landmark.\"] = x_data[\"Are you clear with the venue details and the landmark.\"].replace({\"NO- I NEED TO CHECK\":\"NO\"})"
   ]
  },
  {
   "cell_type": "code",
   "execution_count": 980,
   "metadata": {},
   "outputs": [
    {
     "data": {
      "text/plain": [
       "YES    948\n",
       "NA     268\n",
       "NO      17\n",
       "Name: Are you clear with the venue details and the landmark., dtype: int64"
      ]
     },
     "execution_count": 980,
     "metadata": {},
     "output_type": "execute_result"
    }
   ],
   "source": [
    "x_data[\"Are you clear with the venue details and the landmark.\"].value_counts()"
   ]
  },
  {
   "cell_type": "code",
   "execution_count": 981,
   "metadata": {
    "scrolled": false
   },
   "outputs": [
    {
     "data": {
      "text/plain": [
       "Yes               932\n",
       "Na                 19\n",
       "No                 17\n",
       "Not Sure            8\n",
       "Need To Check       3\n",
       "yes                 2\n",
       "Not yet             2\n",
       "Havent Checked      1\n",
       "Yet to Check        1\n",
       "Not sure            1\n",
       "no                  1\n",
       "na                  1\n",
       "Name: Has the call letter been shared, dtype: int64"
      ]
     },
     "execution_count": 981,
     "metadata": {},
     "output_type": "execute_result"
    }
   ],
   "source": [
    "x_data[\"Has the call letter been shared\"].value_counts()"
   ]
  },
  {
   "cell_type": "code",
   "execution_count": 982,
   "metadata": {},
   "outputs": [],
   "source": [
    "x_data[\"Has the call letter been shared\"].fillna(\"NA\", inplace=True)"
   ]
  },
  {
   "cell_type": "code",
   "execution_count": 983,
   "metadata": {},
   "outputs": [],
   "source": [
    "x_data[\"Has the call letter been shared\"] = x_data[\"Has the call letter been shared\"].str.upper()"
   ]
  },
  {
   "cell_type": "code",
   "execution_count": 984,
   "metadata": {},
   "outputs": [],
   "source": [
    "x_data[\"Has the call letter been shared\"].replace({\"NOT YET\":\"NO\",\"NOT SURE\":\"UNCERTAIN\",\"YET TO CHECK\":\"UNCERTAIN\",\"NEED TO CHECK\":\"UNCERTAIN\",\"HAVENT CHECKED\":\"UNCERTAIN\"}, inplace=True)"
   ]
  },
  {
   "cell_type": "code",
   "execution_count": 985,
   "metadata": {},
   "outputs": [
    {
     "data": {
      "text/plain": [
       "YES          934\n",
       "NA           265\n",
       "NO            20\n",
       "UNCERTAIN     14\n",
       "Name: Has the call letter been shared, dtype: int64"
      ]
     },
     "execution_count": 985,
     "metadata": {},
     "output_type": "execute_result"
    }
   ],
   "source": [
    "x_data[\"Has the call letter been shared\"].value_counts()"
   ]
  },
  {
   "cell_type": "code",
   "execution_count": 986,
   "metadata": {
    "scrolled": true
   },
   "outputs": [
    {
     "data": {
      "text/plain": [
       "Yes          882\n",
       "Uncertain    250\n",
       "No            59\n",
       "NO            34\n",
       "yes            1\n",
       "10.30 Am       1\n",
       "11:00 AM       1\n",
       "Name: Expected Attendance, dtype: int64"
      ]
     },
     "execution_count": 986,
     "metadata": {},
     "output_type": "execute_result"
    }
   ],
   "source": [
    "x_data[\"Expected Attendance\"].value_counts()"
   ]
  },
  {
   "cell_type": "code",
   "execution_count": 987,
   "metadata": {},
   "outputs": [],
   "source": [
    "x_data[\"Expected Attendance\"].fillna(\"NA\", inplace=True)"
   ]
  },
  {
   "cell_type": "code",
   "execution_count": 988,
   "metadata": {},
   "outputs": [],
   "source": [
    "x_data[\"Expected Attendance\"] = x_data[\"Expected Attendance\"].str.upper()"
   ]
  },
  {
   "cell_type": "code",
   "execution_count": 989,
   "metadata": {},
   "outputs": [],
   "source": [
    "x_data[\"Expected Attendance\"].replace({\"10.30 AM\":\"YES\",\"11:00 AM\":\"YES\",\"NA\":\"UNCERTAIN\"}, inplace=True)"
   ]
  },
  {
   "cell_type": "code",
   "execution_count": 990,
   "metadata": {
    "scrolled": true
   },
   "outputs": [
    {
     "data": {
      "text/plain": [
       "YES          885\n",
       "UNCERTAIN    255\n",
       "NO            93\n",
       "Name: Expected Attendance, dtype: int64"
      ]
     },
     "execution_count": 990,
     "metadata": {},
     "output_type": "execute_result"
    }
   ],
   "source": [
    "x_data[\"Expected Attendance\"].value_counts()"
   ]
  },
  {
   "cell_type": "code",
   "execution_count": 991,
   "metadata": {},
   "outputs": [],
   "source": [
    "x_data[\"Marital Status\"] = x_data[\"Marital Status\"].str.upper()"
   ]
  },
  {
   "cell_type": "code",
   "execution_count": 992,
   "metadata": {},
   "outputs": [
    {
     "data": {
      "text/plain": [
       "SINGLE     767\n",
       "MARRIED    466\n",
       "Name: Marital Status, dtype: int64"
      ]
     },
     "execution_count": 992,
     "metadata": {},
     "output_type": "execute_result"
    }
   ],
   "source": [
    "x_data[\"Marital Status\"].value_counts()"
   ]
  },
  {
   "cell_type": "code",
   "execution_count": 993,
   "metadata": {},
   "outputs": [],
   "source": [
    "x_data[\"Gender\"] = x_data[\"Gender\"].str.upper()"
   ]
  },
  {
   "cell_type": "code",
   "execution_count": 994,
   "metadata": {},
   "outputs": [
    {
     "data": {
      "text/plain": [
       "MALE      965\n",
       "FEMALE    268\n",
       "Name: Gender, dtype: int64"
      ]
     },
     "execution_count": 994,
     "metadata": {},
     "output_type": "execute_result"
    }
   ],
   "source": [
    "x_data[\"Gender\"].value_counts()"
   ]
  },
  {
   "cell_type": "code",
   "execution_count": 995,
   "metadata": {},
   "outputs": [
    {
     "data": {
      "text/plain": [
       "Chennai       754\n",
       "Bangalore     292\n",
       "chennai        86\n",
       "Hyderabad      38\n",
       "Gurgaon        34\n",
       "Noida          15\n",
       "- Cochin-       9\n",
       "chennai         3\n",
       "Delhi           1\n",
       "CHENNAI         1\n",
       "Name: Candidate Current Location, dtype: int64"
      ]
     },
     "execution_count": 995,
     "metadata": {},
     "output_type": "execute_result"
    }
   ],
   "source": [
    "x_data[\"Candidate Current Location\"].value_counts()"
   ]
  },
  {
   "cell_type": "code",
   "execution_count": 996,
   "metadata": {},
   "outputs": [],
   "source": [
    "x_data[\"Candidate Current Location\"].fillna(\"NA\", inplace=True)"
   ]
  },
  {
   "cell_type": "code",
   "execution_count": 997,
   "metadata": {},
   "outputs": [],
   "source": [
    "x_data[\"Candidate Current Location\"]=x_data[\"Candidate Current Location\"].str.upper()"
   ]
  },
  {
   "cell_type": "code",
   "execution_count": 998,
   "metadata": {},
   "outputs": [],
   "source": [
    "x_data[\"Candidate Current Location\"].replace({'CHENNAI ':'CHENNAI','- COCHIN- ':'COCHIN'},inplace=True)"
   ]
  },
  {
   "cell_type": "code",
   "execution_count": 999,
   "metadata": {},
   "outputs": [
    {
     "data": {
      "text/plain": [
       "CHENNAI      844\n",
       "BANGALORE    292\n",
       "HYDERABAD     38\n",
       "GURGAON       34\n",
       "NOIDA         15\n",
       "COCHIN         9\n",
       "DELHI          1\n",
       "Name: Candidate Current Location, dtype: int64"
      ]
     },
     "execution_count": 999,
     "metadata": {},
     "output_type": "execute_result"
    }
   ],
   "source": [
    "x_data[\"Candidate Current Location\"].value_counts()"
   ]
  },
  {
   "cell_type": "code",
   "execution_count": 1000,
   "metadata": {
    "scrolled": false
   },
   "outputs": [
    {
     "data": {
      "text/plain": [
       "Chennai          893\n",
       "Bangalore        259\n",
       "Gurgaon           35\n",
       "Visakapatinam     21\n",
       "Noida             15\n",
       "- Cochin-          9\n",
       "Hosur              1\n",
       "Name: Candidate Job Location, dtype: int64"
      ]
     },
     "execution_count": 1000,
     "metadata": {},
     "output_type": "execute_result"
    }
   ],
   "source": [
    "x_data[\"Candidate Job Location\"].value_counts()"
   ]
  },
  {
   "cell_type": "code",
   "execution_count": 1001,
   "metadata": {},
   "outputs": [],
   "source": [
    "x_data[\"Candidate Job Location\"].fillna(\"NA\", inplace=True)"
   ]
  },
  {
   "cell_type": "code",
   "execution_count": 1002,
   "metadata": {},
   "outputs": [],
   "source": [
    "x_data[\"Candidate Job Location\"].replace({'- Cochin- ':'Cochin'},inplace=True)"
   ]
  },
  {
   "cell_type": "code",
   "execution_count": 1003,
   "metadata": {},
   "outputs": [],
   "source": [
    "x_data[\"Candidate Job Location\"] = x_data[\"Candidate Job Location\"].str.upper()"
   ]
  },
  {
   "cell_type": "code",
   "execution_count": 1004,
   "metadata": {
    "scrolled": false
   },
   "outputs": [
    {
     "data": {
      "text/plain": [
       "CHENNAI          893\n",
       "BANGALORE        259\n",
       "GURGAON           35\n",
       "VISAKAPATINAM     21\n",
       "NOIDA             15\n",
       "COCHIN             9\n",
       "HOSUR              1\n",
       "Name: Candidate Job Location, dtype: int64"
      ]
     },
     "execution_count": 1004,
     "metadata": {},
     "output_type": "execute_result"
    }
   ],
   "source": [
    "x_data[\"Candidate Job Location\"].value_counts()"
   ]
  },
  {
   "cell_type": "code",
   "execution_count": 1005,
   "metadata": {},
   "outputs": [
    {
     "data": {
      "text/plain": [
       "Chennai       852\n",
       "Bangalore     277\n",
       "Hyderabad      40\n",
       "Gurgaon        35\n",
       "Noida          15\n",
       "- Cochin-       9\n",
       "Hosur           5\n",
       "Name: Interview Venue, dtype: int64"
      ]
     },
     "execution_count": 1005,
     "metadata": {},
     "output_type": "execute_result"
    }
   ],
   "source": [
    "x_data[\"Interview Venue\"].value_counts()"
   ]
  },
  {
   "cell_type": "code",
   "execution_count": 1006,
   "metadata": {},
   "outputs": [],
   "source": [
    "x_data[\"Interview Venue\"].replace({'- Cochin- ':'Cochin'},inplace=True)"
   ]
  },
  {
   "cell_type": "code",
   "execution_count": 1007,
   "metadata": {},
   "outputs": [],
   "source": [
    "x_data[\"Interview Venue\"].fillna(\"NA\", inplace=True)"
   ]
  },
  {
   "cell_type": "code",
   "execution_count": 1008,
   "metadata": {},
   "outputs": [],
   "source": [
    "x_data[\"Interview Venue\"] = x_data[\"Interview Venue\"].str.upper()"
   ]
  },
  {
   "cell_type": "code",
   "execution_count": 1009,
   "metadata": {
    "scrolled": true
   },
   "outputs": [
    {
     "data": {
      "text/plain": [
       "CHENNAI      852\n",
       "BANGALORE    277\n",
       "HYDERABAD     40\n",
       "GURGAON       35\n",
       "NOIDA         15\n",
       "COCHIN         9\n",
       "HOSUR          5\n",
       "Name: Interview Venue, dtype: int64"
      ]
     },
     "execution_count": 1009,
     "metadata": {},
     "output_type": "execute_result"
    }
   ],
   "source": [
    "x_data[\"Interview Venue\"].value_counts()"
   ]
  },
  {
   "cell_type": "code",
   "execution_count": 1010,
   "metadata": {},
   "outputs": [
    {
     "data": {
      "text/plain": [
       "Chennai          595\n",
       "Hyderabad        172\n",
       "Bangalore        151\n",
       "Gurgaon           26\n",
       "Cuttack           25\n",
       "Cochin            24\n",
       "Pune              22\n",
       "Coimbatore        21\n",
       "Allahabad         20\n",
       "Noida             17\n",
       "Visakapatinam     16\n",
       "Nagercoil         16\n",
       "Kolkata           14\n",
       "Trivandrum        14\n",
       "Trichy            13\n",
       "Vellore           12\n",
       "Mumbai             7\n",
       "Chitoor            6\n",
       "Chandigarh         5\n",
       "- Cochin-          5\n",
       "Pondicherry        5\n",
       "Ahmedabad          5\n",
       "Tirupati           4\n",
       "Delhi              4\n",
       "Vijayawada         4\n",
       "Salem              3\n",
       "Warangal           3\n",
       "Hosur              3\n",
       "Patna              2\n",
       "Ambur              2\n",
       "Delhi /NCR         2\n",
       "Mysore             1\n",
       "Baddi              1\n",
       "Faizabad           1\n",
       "Panjim             1\n",
       "Lucknow            1\n",
       "Tuticorin          1\n",
       "Bhubaneshwar       1\n",
       "Ghaziabad          1\n",
       "Tanjore            1\n",
       "Hissar             1\n",
       "Agra               1\n",
       "Anantapur          1\n",
       "Kanpur             1\n",
       "Belgaum            1\n",
       "Kurnool            1\n",
       "Name: Candidate Native location, dtype: int64"
      ]
     },
     "execution_count": 1010,
     "metadata": {},
     "output_type": "execute_result"
    }
   ],
   "source": [
    "x_data[\"Candidate Native location\"].value_counts()"
   ]
  },
  {
   "cell_type": "code",
   "execution_count": 1011,
   "metadata": {},
   "outputs": [],
   "source": [
    "x_data[\"Candidate Native location\"].replace({'- Cochin- ':'Cochin'},inplace=True)"
   ]
  },
  {
   "cell_type": "code",
   "execution_count": 1012,
   "metadata": {},
   "outputs": [],
   "source": [
    "x_data[\"Candidate Native location\"].fillna(\"NA\", inplace=True)"
   ]
  },
  {
   "cell_type": "code",
   "execution_count": 1013,
   "metadata": {},
   "outputs": [],
   "source": [
    "x_data[\"Candidate Native location\"] = x_data[\"Candidate Native location\"].str.upper()"
   ]
  },
  {
   "cell_type": "code",
   "execution_count": 1014,
   "metadata": {},
   "outputs": [
    {
     "data": {
      "text/plain": [
       "CHENNAI          595\n",
       "HYDERABAD        172\n",
       "BANGALORE        151\n",
       "COCHIN            29\n",
       "GURGAON           26\n",
       "CUTTACK           25\n",
       "PUNE              22\n",
       "COIMBATORE        21\n",
       "ALLAHABAD         20\n",
       "NOIDA             17\n",
       "NAGERCOIL         16\n",
       "VISAKAPATINAM     16\n",
       "TRIVANDRUM        14\n",
       "KOLKATA           14\n",
       "TRICHY            13\n",
       "VELLORE           12\n",
       "MUMBAI             7\n",
       "CHITOOR            6\n",
       "PONDICHERRY        5\n",
       "AHMEDABAD          5\n",
       "CHANDIGARH         5\n",
       "VIJAYAWADA         4\n",
       "TIRUPATI           4\n",
       "DELHI              4\n",
       "SALEM              3\n",
       "WARANGAL           3\n",
       "HOSUR              3\n",
       "PATNA              2\n",
       "AMBUR              2\n",
       "DELHI /NCR         2\n",
       "FAIZABAD           1\n",
       "BELGAUM            1\n",
       "AGRA               1\n",
       "BADDI              1\n",
       "PANJIM             1\n",
       "KURNOOL            1\n",
       "TANJORE            1\n",
       "GHAZIABAD          1\n",
       "MYSORE             1\n",
       "KANPUR             1\n",
       "TUTICORIN          1\n",
       "LUCKNOW            1\n",
       "ANANTAPUR          1\n",
       "BHUBANESHWAR       1\n",
       "HISSAR             1\n",
       "Name: Candidate Native location, dtype: int64"
      ]
     },
     "execution_count": 1014,
     "metadata": {},
     "output_type": "execute_result"
    }
   ],
   "source": [
    "x_data[\"Candidate Native location\"].value_counts()"
   ]
  },
  {
   "cell_type": "code",
   "execution_count": 1015,
   "metadata": {},
   "outputs": [
    {
     "data": {
      "text/plain": [
       "Yes               917\n",
       "No                 79\n",
       "Not yet            19\n",
       "Na                  5\n",
       "yes                 4\n",
       "Yet to confirm      4\n",
       "NO                  1\n",
       "Name: Have you obtained the necessary permission to start at the required time, dtype: int64"
      ]
     },
     "execution_count": 1015,
     "metadata": {},
     "output_type": "execute_result"
    }
   ],
   "source": [
    "x_data[\"Have you obtained the necessary permission to start at the required time\"].value_counts()"
   ]
  },
  {
   "cell_type": "code",
   "execution_count": 1016,
   "metadata": {},
   "outputs": [],
   "source": [
    "x_data[\"Have you obtained the necessary permission to start at the required time\"].replace({'Not yet':'No', 'Yet to confirm':\"UNCERTAIN\", 'NO':'No', 'yes':'Yes'},inplace=True)"
   ]
  },
  {
   "cell_type": "code",
   "execution_count": 1017,
   "metadata": {},
   "outputs": [],
   "source": [
    "x_data[\"Have you obtained the necessary permission to start at the required time\"].fillna(\"NA\", inplace=True)"
   ]
  },
  {
   "cell_type": "code",
   "execution_count": 1018,
   "metadata": {},
   "outputs": [],
   "source": [
    "x_data[\"Have you obtained the necessary permission to start at the required time\"] = x_data[\"Have you obtained the necessary permission to start at the required time\"].str.upper()"
   ]
  },
  {
   "cell_type": "code",
   "execution_count": 1019,
   "metadata": {
    "scrolled": true
   },
   "outputs": [
    {
     "data": {
      "text/plain": [
       "YES          921\n",
       "NA           209\n",
       "NO            99\n",
       "UNCERTAIN      4\n",
       "Name: Have you obtained the necessary permission to start at the required time, dtype: int64"
      ]
     },
     "execution_count": 1019,
     "metadata": {},
     "output_type": "execute_result"
    }
   ],
   "source": [
    "x_data[\"Have you obtained the necessary permission to start at the required time\"].value_counts()"
   ]
  },
  {
   "cell_type": "code",
   "execution_count": 1020,
   "metadata": {},
   "outputs": [
    {
     "data": {
      "text/plain": [
       "Yes         949\n",
       "Na           20\n",
       "No            6\n",
       "yes           5\n",
       "Not sure      4\n",
       "cant Say      1\n",
       "Not Sure      1\n",
       "Name: Hope there will be no unscheduled meetings, dtype: int64"
      ]
     },
     "execution_count": 1020,
     "metadata": {},
     "output_type": "execute_result"
    }
   ],
   "source": [
    "x_data[\"Hope there will be no unscheduled meetings\"].value_counts()"
   ]
  },
  {
   "cell_type": "code",
   "execution_count": 1021,
   "metadata": {},
   "outputs": [],
   "source": [
    "x_data[\"Hope there will be no unscheduled meetings\"].fillna(\"NA\", inplace=True)"
   ]
  },
  {
   "cell_type": "code",
   "execution_count": 1022,
   "metadata": {},
   "outputs": [],
   "source": [
    "x_data[\"Hope there will be no unscheduled meetings\"].replace({'yes':'Yes', 'Not Sure':\"UNCERTAIN\", 'cant Say':'UNCERTAIN',\"NOT SURE\":\"UNCERTAIN\"},inplace=True)"
   ]
  },
  {
   "cell_type": "code",
   "execution_count": 1023,
   "metadata": {},
   "outputs": [],
   "source": [
    "x_data[\"Hope there will be no unscheduled meetings\"] = x_data[\"Hope there will be no unscheduled meetings\"].str.upper()"
   ]
  },
  {
   "cell_type": "code",
   "execution_count": 1024,
   "metadata": {
    "scrolled": true
   },
   "outputs": [
    {
     "data": {
      "text/plain": [
       "YES          954\n",
       "NA           267\n",
       "NO             6\n",
       "NOT SURE       4\n",
       "UNCERTAIN      2\n",
       "Name: Hope there will be no unscheduled meetings, dtype: int64"
      ]
     },
     "execution_count": 1024,
     "metadata": {},
     "output_type": "execute_result"
    }
   ],
   "source": [
    "x_data[\"Hope there will be no unscheduled meetings\"].value_counts()"
   ]
  },
  {
   "cell_type": "code",
   "execution_count": 1025,
   "metadata": {},
   "outputs": [
    {
     "data": {
      "text/plain": [
       "Yes        951\n",
       "Na          20\n",
       "No          10\n",
       "yes          4\n",
       "No Dont      1\n",
       "Name: Can I Call you three hours before the interview and follow up on your attendance for the interview, dtype: int64"
      ]
     },
     "execution_count": 1025,
     "metadata": {},
     "output_type": "execute_result"
    }
   ],
   "source": [
    "x_data[\"Can I Call you three hours before the interview and follow up on your attendance for the interview\"].value_counts()"
   ]
  },
  {
   "cell_type": "code",
   "execution_count": 1026,
   "metadata": {},
   "outputs": [],
   "source": [
    "x_data[\"Can I Call you three hours before the interview and follow up on your attendance for the interview\"].fillna(\"NA\", inplace=True)"
   ]
  },
  {
   "cell_type": "code",
   "execution_count": 1027,
   "metadata": {},
   "outputs": [],
   "source": [
    "x_data[\"Can I Call you three hours before the interview and follow up on your attendance for the interview\"].replace({\"No Dont\":\"NO\"},inplace=True)"
   ]
  },
  {
   "cell_type": "code",
   "execution_count": 1028,
   "metadata": {},
   "outputs": [],
   "source": [
    "x_data[\"Can I Call you three hours before the interview and follow up on your attendance for the interview\"] = x_data[\"Can I Call you three hours before the interview and follow up on your attendance for the interview\"].str.upper()"
   ]
  },
  {
   "cell_type": "code",
   "execution_count": 1029,
   "metadata": {
    "scrolled": false
   },
   "outputs": [
    {
     "data": {
      "text/plain": [
       "YES    955\n",
       "NA     267\n",
       "NO      11\n",
       "Name: Can I Call you three hours before the interview and follow up on your attendance for the interview, dtype: int64"
      ]
     },
     "execution_count": 1029,
     "metadata": {},
     "output_type": "execute_result"
    }
   ],
   "source": [
    "x_data[\"Can I Call you three hours before the interview and follow up on your attendance for the interview\"].value_counts()"
   ]
  },
  {
   "cell_type": "code",
   "execution_count": 1030,
   "metadata": {
    "scrolled": true
   },
   "outputs": [
    {
     "data": {
      "text/plain": [
       "Yes     701\n",
       "No      401\n",
       "yes      81\n",
       "NO       35\n",
       "no        7\n",
       "No        6\n",
       "no        1\n",
       "yes       1\n",
       "Name: Observed Attendance, dtype: int64"
      ]
     },
     "execution_count": 1030,
     "metadata": {},
     "output_type": "execute_result"
    }
   ],
   "source": [
    "x_data[\"Observed Attendance\"].value_counts()"
   ]
  },
  {
   "cell_type": "code",
   "execution_count": 1031,
   "metadata": {},
   "outputs": [],
   "source": [
    "x_data[\"Observed Attendance\"] = x_data[\"Observed Attendance\"].str.upper()"
   ]
  },
  {
   "cell_type": "code",
   "execution_count": 1032,
   "metadata": {},
   "outputs": [],
   "source": [
    "x_data[\"Observed Attendance\"].replace({\"YES \":\"YES\",\"NO \": \"NO\"}, inplace=True)"
   ]
  },
  {
   "cell_type": "code",
   "execution_count": 1033,
   "metadata": {},
   "outputs": [
    {
     "data": {
      "text/plain": [
       "YES    783\n",
       "NO     450\n",
       "Name: Observed Attendance, dtype: int64"
      ]
     },
     "execution_count": 1033,
     "metadata": {},
     "output_type": "execute_result"
    }
   ],
   "source": [
    "x_data[\"Observed Attendance\"].value_counts()"
   ]
  },
  {
   "cell_type": "code",
   "execution_count": 1034,
   "metadata": {
    "scrolled": false
   },
   "outputs": [
    {
     "data": {
      "text/html": [
       "<div>\n",
       "<style scoped>\n",
       "    .dataframe tbody tr th:only-of-type {\n",
       "        vertical-align: middle;\n",
       "    }\n",
       "\n",
       "    .dataframe tbody tr th {\n",
       "        vertical-align: top;\n",
       "    }\n",
       "\n",
       "    .dataframe thead th {\n",
       "        text-align: right;\n",
       "    }\n",
       "</style>\n",
       "<table border=\"1\" class=\"dataframe\">\n",
       "  <thead>\n",
       "    <tr style=\"text-align: right;\">\n",
       "      <th></th>\n",
       "      <th>Date of Interview</th>\n",
       "      <th>Client name</th>\n",
       "      <th>Industry</th>\n",
       "      <th>Location</th>\n",
       "      <th>Position to be closed</th>\n",
       "      <th>Nature of Skillset</th>\n",
       "      <th>Interview Type</th>\n",
       "      <th>Name(Cand ID)</th>\n",
       "      <th>Gender</th>\n",
       "      <th>Candidate Current Location</th>\n",
       "      <th>Candidate Job Location</th>\n",
       "      <th>Interview Venue</th>\n",
       "      <th>Candidate Native location</th>\n",
       "      <th>Have you obtained the necessary permission to start at the required time</th>\n",
       "      <th>Hope there will be no unscheduled meetings</th>\n",
       "      <th>Can I Call you three hours before the interview and follow up on your attendance for the interview</th>\n",
       "      <th>Can I have an alternative number/ desk number. I assure you that I will not trouble you too much</th>\n",
       "      <th>Have you taken a printout of your updated resume. Have you read the JD and understood the same</th>\n",
       "      <th>Are you clear with the venue details and the landmark.</th>\n",
       "      <th>Has the call letter been shared</th>\n",
       "      <th>Expected Attendance</th>\n",
       "      <th>Observed Attendance</th>\n",
       "      <th>Marital Status</th>\n",
       "    </tr>\n",
       "  </thead>\n",
       "  <tbody>\n",
       "    <tr>\n",
       "      <th>0</th>\n",
       "      <td>13.02.2015</td>\n",
       "      <td>Hospira</td>\n",
       "      <td>PHARMACEUTICALS</td>\n",
       "      <td>CHENNAI</td>\n",
       "      <td>PRODUCTION- STERILE</td>\n",
       "      <td>ROUTINE</td>\n",
       "      <td>SCHEDULED WALK IN</td>\n",
       "      <td>Candidate 1</td>\n",
       "      <td>MALE</td>\n",
       "      <td>CHENNAI</td>\n",
       "      <td>HOSUR</td>\n",
       "      <td>HOSUR</td>\n",
       "      <td>HOSUR</td>\n",
       "      <td>YES</td>\n",
       "      <td>YES</td>\n",
       "      <td>YES</td>\n",
       "      <td>YES</td>\n",
       "      <td>YES</td>\n",
       "      <td>YES</td>\n",
       "      <td>YES</td>\n",
       "      <td>YES</td>\n",
       "      <td>NO</td>\n",
       "      <td>SINGLE</td>\n",
       "    </tr>\n",
       "    <tr>\n",
       "      <th>1</th>\n",
       "      <td>13.02.2015</td>\n",
       "      <td>Hospira</td>\n",
       "      <td>PHARMACEUTICALS</td>\n",
       "      <td>CHENNAI</td>\n",
       "      <td>PRODUCTION- STERILE</td>\n",
       "      <td>ROUTINE</td>\n",
       "      <td>SCHEDULED WALK IN</td>\n",
       "      <td>Candidate 2</td>\n",
       "      <td>MALE</td>\n",
       "      <td>CHENNAI</td>\n",
       "      <td>BANGALORE</td>\n",
       "      <td>HOSUR</td>\n",
       "      <td>TRICHY</td>\n",
       "      <td>YES</td>\n",
       "      <td>YES</td>\n",
       "      <td>YES</td>\n",
       "      <td>YES</td>\n",
       "      <td>YES</td>\n",
       "      <td>YES</td>\n",
       "      <td>YES</td>\n",
       "      <td>YES</td>\n",
       "      <td>NO</td>\n",
       "      <td>SINGLE</td>\n",
       "    </tr>\n",
       "    <tr>\n",
       "      <th>2</th>\n",
       "      <td>13.02.2015</td>\n",
       "      <td>Hospira</td>\n",
       "      <td>PHARMACEUTICALS</td>\n",
       "      <td>CHENNAI</td>\n",
       "      <td>PRODUCTION- STERILE</td>\n",
       "      <td>ROUTINE</td>\n",
       "      <td>SCHEDULED WALK IN</td>\n",
       "      <td>Candidate 3</td>\n",
       "      <td>MALE</td>\n",
       "      <td>CHENNAI</td>\n",
       "      <td>CHENNAI</td>\n",
       "      <td>HOSUR</td>\n",
       "      <td>CHENNAI</td>\n",
       "      <td>NA</td>\n",
       "      <td>NA</td>\n",
       "      <td>NA</td>\n",
       "      <td>NA</td>\n",
       "      <td>NA</td>\n",
       "      <td>NA</td>\n",
       "      <td>NA</td>\n",
       "      <td>UNCERTAIN</td>\n",
       "      <td>NO</td>\n",
       "      <td>SINGLE</td>\n",
       "    </tr>\n",
       "    <tr>\n",
       "      <th>3</th>\n",
       "      <td>13.02.2015</td>\n",
       "      <td>Hospira</td>\n",
       "      <td>PHARMACEUTICALS</td>\n",
       "      <td>CHENNAI</td>\n",
       "      <td>PRODUCTION- STERILE</td>\n",
       "      <td>ROUTINE</td>\n",
       "      <td>SCHEDULED WALK IN</td>\n",
       "      <td>Candidate 4</td>\n",
       "      <td>MALE</td>\n",
       "      <td>CHENNAI</td>\n",
       "      <td>CHENNAI</td>\n",
       "      <td>HOSUR</td>\n",
       "      <td>CHENNAI</td>\n",
       "      <td>YES</td>\n",
       "      <td>YES</td>\n",
       "      <td>NO</td>\n",
       "      <td>YES</td>\n",
       "      <td>NO</td>\n",
       "      <td>YES</td>\n",
       "      <td>YES</td>\n",
       "      <td>UNCERTAIN</td>\n",
       "      <td>NO</td>\n",
       "      <td>SINGLE</td>\n",
       "    </tr>\n",
       "    <tr>\n",
       "      <th>4</th>\n",
       "      <td>13.02.2015</td>\n",
       "      <td>Hospira</td>\n",
       "      <td>PHARMACEUTICALS</td>\n",
       "      <td>CHENNAI</td>\n",
       "      <td>PRODUCTION- STERILE</td>\n",
       "      <td>ROUTINE</td>\n",
       "      <td>SCHEDULED WALK IN</td>\n",
       "      <td>Candidate 5</td>\n",
       "      <td>MALE</td>\n",
       "      <td>CHENNAI</td>\n",
       "      <td>BANGALORE</td>\n",
       "      <td>HOSUR</td>\n",
       "      <td>CHENNAI</td>\n",
       "      <td>YES</td>\n",
       "      <td>YES</td>\n",
       "      <td>YES</td>\n",
       "      <td>NO</td>\n",
       "      <td>YES</td>\n",
       "      <td>YES</td>\n",
       "      <td>YES</td>\n",
       "      <td>UNCERTAIN</td>\n",
       "      <td>NO</td>\n",
       "      <td>MARRIED</td>\n",
       "    </tr>\n",
       "    <tr>\n",
       "      <th>5</th>\n",
       "      <td>13.02.2015</td>\n",
       "      <td>Aon Hewitt</td>\n",
       "      <td>IT SERVICES</td>\n",
       "      <td>GURGAON</td>\n",
       "      <td>SELENIUM TESTING</td>\n",
       "      <td>ROUTINE</td>\n",
       "      <td>SCHEDULED WALK IN</td>\n",
       "      <td>Candidate 6</td>\n",
       "      <td>MALE</td>\n",
       "      <td>GURGAON</td>\n",
       "      <td>GURGAON</td>\n",
       "      <td>GURGAON</td>\n",
       "      <td>GURGAON</td>\n",
       "      <td>YES</td>\n",
       "      <td>YES</td>\n",
       "      <td>YES</td>\n",
       "      <td>YES</td>\n",
       "      <td>YES</td>\n",
       "      <td>YES</td>\n",
       "      <td>YES</td>\n",
       "      <td>YES</td>\n",
       "      <td>YES</td>\n",
       "      <td>SINGLE</td>\n",
       "    </tr>\n",
       "    <tr>\n",
       "      <th>6</th>\n",
       "      <td>13.02.2015</td>\n",
       "      <td>Aon Hewitt</td>\n",
       "      <td>IT SERVICES</td>\n",
       "      <td>GURGAON</td>\n",
       "      <td>SELENIUM TESTING</td>\n",
       "      <td>ROUTINE</td>\n",
       "      <td>SCHEDULED WALK IN</td>\n",
       "      <td>Candidate 7</td>\n",
       "      <td>MALE</td>\n",
       "      <td>GURGAON</td>\n",
       "      <td>GURGAON</td>\n",
       "      <td>GURGAON</td>\n",
       "      <td>GURGAON</td>\n",
       "      <td>YES</td>\n",
       "      <td>YES</td>\n",
       "      <td>YES</td>\n",
       "      <td>YES</td>\n",
       "      <td>YES</td>\n",
       "      <td>YES</td>\n",
       "      <td>YES</td>\n",
       "      <td>YES</td>\n",
       "      <td>YES</td>\n",
       "      <td>SINGLE</td>\n",
       "    </tr>\n",
       "    <tr>\n",
       "      <th>7</th>\n",
       "      <td>13.02.2015</td>\n",
       "      <td>Aon Hewitt</td>\n",
       "      <td>IT SERVICES</td>\n",
       "      <td>GURGAON</td>\n",
       "      <td>SELENIUM TESTING</td>\n",
       "      <td>ROUTINE</td>\n",
       "      <td>SCHEDULED WALK IN</td>\n",
       "      <td>Candidate 8</td>\n",
       "      <td>FEMALE</td>\n",
       "      <td>GURGAON</td>\n",
       "      <td>GURGAON</td>\n",
       "      <td>GURGAON</td>\n",
       "      <td>NOIDA</td>\n",
       "      <td>YES</td>\n",
       "      <td>YES</td>\n",
       "      <td>YES</td>\n",
       "      <td>YES</td>\n",
       "      <td>YES</td>\n",
       "      <td>YES</td>\n",
       "      <td>YES</td>\n",
       "      <td>YES</td>\n",
       "      <td>YES</td>\n",
       "      <td>SINGLE</td>\n",
       "    </tr>\n",
       "    <tr>\n",
       "      <th>8</th>\n",
       "      <td>13.02.2015</td>\n",
       "      <td>Aon Hewitt</td>\n",
       "      <td>IT SERVICES</td>\n",
       "      <td>GURGAON</td>\n",
       "      <td>SELENIUM TESTING</td>\n",
       "      <td>ROUTINE</td>\n",
       "      <td>SCHEDULED WALK IN</td>\n",
       "      <td>Candidate 9</td>\n",
       "      <td>MALE</td>\n",
       "      <td>GURGAON</td>\n",
       "      <td>GURGAON</td>\n",
       "      <td>GURGAON</td>\n",
       "      <td>DELHI /NCR</td>\n",
       "      <td>YES</td>\n",
       "      <td>YES</td>\n",
       "      <td>YES</td>\n",
       "      <td>YES</td>\n",
       "      <td>YES</td>\n",
       "      <td>YES</td>\n",
       "      <td>YES</td>\n",
       "      <td>YES</td>\n",
       "      <td>YES</td>\n",
       "      <td>SINGLE</td>\n",
       "    </tr>\n",
       "    <tr>\n",
       "      <th>9</th>\n",
       "      <td>13.02.2015</td>\n",
       "      <td>Aon Hewitt</td>\n",
       "      <td>IT SERVICES</td>\n",
       "      <td>GURGAON</td>\n",
       "      <td>SELENIUM TESTING</td>\n",
       "      <td>ROUTINE</td>\n",
       "      <td>SCHEDULED WALK IN</td>\n",
       "      <td>Candidate 10</td>\n",
       "      <td>FEMALE</td>\n",
       "      <td>GURGAON</td>\n",
       "      <td>GURGAON</td>\n",
       "      <td>GURGAON</td>\n",
       "      <td>DELHI /NCR</td>\n",
       "      <td>YES</td>\n",
       "      <td>YES</td>\n",
       "      <td>YES</td>\n",
       "      <td>YES</td>\n",
       "      <td>YES</td>\n",
       "      <td>YES</td>\n",
       "      <td>YES</td>\n",
       "      <td>YES</td>\n",
       "      <td>NO</td>\n",
       "      <td>SINGLE</td>\n",
       "    </tr>\n",
       "  </tbody>\n",
       "</table>\n",
       "</div>"
      ],
      "text/plain": [
       "  Date of Interview Client name         Industry Location  \\\n",
       "0        13.02.2015     Hospira  PHARMACEUTICALS  CHENNAI   \n",
       "1        13.02.2015     Hospira  PHARMACEUTICALS  CHENNAI   \n",
       "2        13.02.2015     Hospira  PHARMACEUTICALS  CHENNAI   \n",
       "3        13.02.2015     Hospira  PHARMACEUTICALS  CHENNAI   \n",
       "4        13.02.2015     Hospira  PHARMACEUTICALS  CHENNAI   \n",
       "5        13.02.2015  Aon Hewitt      IT SERVICES  GURGAON   \n",
       "6        13.02.2015  Aon Hewitt      IT SERVICES  GURGAON   \n",
       "7        13.02.2015  Aon Hewitt      IT SERVICES  GURGAON   \n",
       "8        13.02.2015  Aon Hewitt      IT SERVICES  GURGAON   \n",
       "9        13.02.2015  Aon Hewitt      IT SERVICES  GURGAON   \n",
       "\n",
       "  Position to be closed Nature of Skillset     Interview Type Name(Cand ID)  \\\n",
       "0   PRODUCTION- STERILE            ROUTINE  SCHEDULED WALK IN   Candidate 1   \n",
       "1   PRODUCTION- STERILE            ROUTINE  SCHEDULED WALK IN   Candidate 2   \n",
       "2   PRODUCTION- STERILE            ROUTINE  SCHEDULED WALK IN   Candidate 3   \n",
       "3   PRODUCTION- STERILE            ROUTINE  SCHEDULED WALK IN   Candidate 4   \n",
       "4   PRODUCTION- STERILE            ROUTINE  SCHEDULED WALK IN   Candidate 5   \n",
       "5      SELENIUM TESTING            ROUTINE  SCHEDULED WALK IN   Candidate 6   \n",
       "6      SELENIUM TESTING            ROUTINE  SCHEDULED WALK IN   Candidate 7   \n",
       "7      SELENIUM TESTING            ROUTINE  SCHEDULED WALK IN   Candidate 8   \n",
       "8      SELENIUM TESTING            ROUTINE  SCHEDULED WALK IN   Candidate 9   \n",
       "9      SELENIUM TESTING            ROUTINE  SCHEDULED WALK IN  Candidate 10   \n",
       "\n",
       "   Gender Candidate Current Location Candidate Job Location Interview Venue  \\\n",
       "0    MALE                    CHENNAI                  HOSUR           HOSUR   \n",
       "1    MALE                    CHENNAI              BANGALORE           HOSUR   \n",
       "2    MALE                    CHENNAI                CHENNAI           HOSUR   \n",
       "3    MALE                    CHENNAI                CHENNAI           HOSUR   \n",
       "4    MALE                    CHENNAI              BANGALORE           HOSUR   \n",
       "5    MALE                    GURGAON                GURGAON         GURGAON   \n",
       "6    MALE                    GURGAON                GURGAON         GURGAON   \n",
       "7  FEMALE                    GURGAON                GURGAON         GURGAON   \n",
       "8    MALE                    GURGAON                GURGAON         GURGAON   \n",
       "9  FEMALE                    GURGAON                GURGAON         GURGAON   \n",
       "\n",
       "  Candidate Native location  \\\n",
       "0                     HOSUR   \n",
       "1                    TRICHY   \n",
       "2                   CHENNAI   \n",
       "3                   CHENNAI   \n",
       "4                   CHENNAI   \n",
       "5                   GURGAON   \n",
       "6                   GURGAON   \n",
       "7                     NOIDA   \n",
       "8                DELHI /NCR   \n",
       "9                DELHI /NCR   \n",
       "\n",
       "  Have you obtained the necessary permission to start at the required time  \\\n",
       "0                                                YES                         \n",
       "1                                                YES                         \n",
       "2                                                 NA                         \n",
       "3                                                YES                         \n",
       "4                                                YES                         \n",
       "5                                                YES                         \n",
       "6                                                YES                         \n",
       "7                                                YES                         \n",
       "8                                                YES                         \n",
       "9                                                YES                         \n",
       "\n",
       "  Hope there will be no unscheduled meetings  \\\n",
       "0                                        YES   \n",
       "1                                        YES   \n",
       "2                                         NA   \n",
       "3                                        YES   \n",
       "4                                        YES   \n",
       "5                                        YES   \n",
       "6                                        YES   \n",
       "7                                        YES   \n",
       "8                                        YES   \n",
       "9                                        YES   \n",
       "\n",
       "  Can I Call you three hours before the interview and follow up on your attendance for the interview  \\\n",
       "0                                                YES                                                   \n",
       "1                                                YES                                                   \n",
       "2                                                 NA                                                   \n",
       "3                                                 NO                                                   \n",
       "4                                                YES                                                   \n",
       "5                                                YES                                                   \n",
       "6                                                YES                                                   \n",
       "7                                                YES                                                   \n",
       "8                                                YES                                                   \n",
       "9                                                YES                                                   \n",
       "\n",
       "  Can I have an alternative number/ desk number. I assure you that I will not trouble you too much  \\\n",
       "0                                                YES                                                 \n",
       "1                                                YES                                                 \n",
       "2                                                 NA                                                 \n",
       "3                                                YES                                                 \n",
       "4                                                 NO                                                 \n",
       "5                                                YES                                                 \n",
       "6                                                YES                                                 \n",
       "7                                                YES                                                 \n",
       "8                                                YES                                                 \n",
       "9                                                YES                                                 \n",
       "\n",
       "  Have you taken a printout of your updated resume. Have you read the JD and understood the same  \\\n",
       "0                                                YES                                               \n",
       "1                                                YES                                               \n",
       "2                                                 NA                                               \n",
       "3                                                 NO                                               \n",
       "4                                                YES                                               \n",
       "5                                                YES                                               \n",
       "6                                                YES                                               \n",
       "7                                                YES                                               \n",
       "8                                                YES                                               \n",
       "9                                                YES                                               \n",
       "\n",
       "  Are you clear with the venue details and the landmark.  \\\n",
       "0                                                YES       \n",
       "1                                                YES       \n",
       "2                                                 NA       \n",
       "3                                                YES       \n",
       "4                                                YES       \n",
       "5                                                YES       \n",
       "6                                                YES       \n",
       "7                                                YES       \n",
       "8                                                YES       \n",
       "9                                                YES       \n",
       "\n",
       "  Has the call letter been shared Expected Attendance Observed Attendance  \\\n",
       "0                             YES                 YES                  NO   \n",
       "1                             YES                 YES                  NO   \n",
       "2                              NA           UNCERTAIN                  NO   \n",
       "3                             YES           UNCERTAIN                  NO   \n",
       "4                             YES           UNCERTAIN                  NO   \n",
       "5                             YES                 YES                 YES   \n",
       "6                             YES                 YES                 YES   \n",
       "7                             YES                 YES                 YES   \n",
       "8                             YES                 YES                 YES   \n",
       "9                             YES                 YES                  NO   \n",
       "\n",
       "  Marital Status  \n",
       "0         SINGLE  \n",
       "1         SINGLE  \n",
       "2         SINGLE  \n",
       "3         SINGLE  \n",
       "4        MARRIED  \n",
       "5         SINGLE  \n",
       "6         SINGLE  \n",
       "7         SINGLE  \n",
       "8         SINGLE  \n",
       "9         SINGLE  "
      ]
     },
     "execution_count": 1034,
     "metadata": {},
     "output_type": "execute_result"
    }
   ],
   "source": [
    "x_data.head(10) # CLEANED DATASET"
   ]
  },
  {
   "cell_type": "code",
   "execution_count": 1035,
   "metadata": {
    "scrolled": true
   },
   "outputs": [
    {
     "name": "stdout",
     "output_type": "stream",
     "text": [
      "0 0 0 0 0 0 0 0 0 0 0 0 0 0 0 0 0 0 0 0 0 0 0 "
     ]
    }
   ],
   "source": [
    "for cols in x_data.columns:\n",
    "    print(x_data[cols].isnull().sum(), end=\" \")    # WE HAVE REMOVED ALL THE NULL VALUES"
   ]
  },
  {
   "cell_type": "markdown",
   "metadata": {},
   "source": [
    "# Countplots"
   ]
  },
  {
   "cell_type": "code",
   "execution_count": 1036,
   "metadata": {},
   "outputs": [
    {
     "data": {
      "text/plain": [
       "[Text(0, 0, 'PHARMACEUTICALS'),\n",
       " Text(0, 0, 'IT SERVICES'),\n",
       " Text(0, 0, 'BFSI'),\n",
       " Text(0, 0, 'IT PRODUCTS AND SERVICES'),\n",
       " Text(0, 0, 'ELECTRONICS'),\n",
       " Text(0, 0, 'TELECOM'),\n",
       " Text(0, 0, 'IT')]"
      ]
     },
     "execution_count": 1036,
     "metadata": {},
     "output_type": "execute_result"
    },
    {
     "data": {
      "image/png": "[encoded data removed]",
      "text/plain": [
       "<Figure size 432x288 with 1 Axes>"
      ]
     },
     "metadata": {
      "needs_background": "light"
     },
     "output_type": "display_data"
    }
   ],
   "source": [
    "inl = sns.countplot(x=\"Industry\", hue=\"Observed Attendance\", data=x_data)\n",
    "inl.set_xticklabels(labels = x_data[\"Industry\"].unique(), rotation=90)"
   ]
  },
  {
   "cell_type": "code",
   "execution_count": 1037,
   "metadata": {
    "scrolled": false
   },
   "outputs": [
    {
     "data": {
      "text/plain": [
       "[Text(0, 0, 'CHENNAI'),\n",
       " Text(0, 0, 'GURGAON'),\n",
       " Text(0, 0, 'BANGALORE'),\n",
       " Text(0, 0, 'HYDERABAD'),\n",
       " Text(0, 0, 'DELHI'),\n",
       " Text(0, 0, 'COCHIN'),\n",
       " Text(0, 0, 'NOIDA')]"
      ]
     },
     "execution_count": 1037,
     "metadata": {},
     "output_type": "execute_result"
    },
    {
     "data": {
      "image/png": "[encoded data removed]",
      "text/plain": [
       "<Figure size 432x288 with 1 Axes>"
      ]
     },
     "metadata": {
      "needs_background": "light"
     },
     "output_type": "display_data"
    }
   ],
   "source": [
    "l = sns.countplot(x=\"Location\", hue=\"Observed Attendance\", data=x_data)\n",
    "l.set_xticklabels(labels = x_data[\"Location\"].unique(), rotation=90)"
   ]
  },
  {
   "cell_type": "code",
   "execution_count": 1038,
   "metadata": {},
   "outputs": [
    {
     "data": {
      "text/plain": [
       "<matplotlib.legend.Legend at 0x1d0844d0>"
      ]
     },
     "execution_count": 1038,
     "metadata": {},
     "output_type": "execute_result"
    },
    {
     "data": {
      "image/png": "[encoded data removed]",
      "text/plain": [
       "<Figure size 432x288 with 1 Axes>"
      ]
     },
     "metadata": {
      "needs_background": "light"
     },
     "output_type": "display_data"
    }
   ],
   "source": [
    "po = sns.countplot(x=\"Position to be closed\", hue=\"Observed Attendance\", data=x_data)\n",
    "po.set_xticklabels(labels=x_data[\"Position to be closed\"].unique(), rotation=90)\n",
    "plt.legend(loc=\"upper left\")"
   ]
  },
  {
   "cell_type": "code",
   "execution_count": 1039,
   "metadata": {},
   "outputs": [
    {
     "data": {
      "text/plain": [
       "<matplotlib.axes._subplots.AxesSubplot at 0x1d0ce2b0>"
      ]
     },
     "execution_count": 1039,
     "metadata": {},
     "output_type": "execute_result"
    },
    {
     "data": {
      "image/png": "[encoded data removed]",
      "text/plain": [
       "<Figure size 432x288 with 1 Axes>"
      ]
     },
     "metadata": {
      "needs_background": "light"
     },
     "output_type": "display_data"
    }
   ],
   "source": [
    "sns.countplot(x=\"Interview Type\", hue=\"Observed Attendance\", data=x_data)"
   ]
  },
  {
   "cell_type": "code",
   "execution_count": 1040,
   "metadata": {},
   "outputs": [
    {
     "data": {
      "text/plain": [
       "<matplotlib.axes._subplots.AxesSubplot at 0x1d0fccf0>"
      ]
     },
     "execution_count": 1040,
     "metadata": {},
     "output_type": "execute_result"
    },
    {
     "data": {
      "image/png": "[encoded data removed]",
      "text/plain": [
       "<Figure size 432x288 with 1 Axes>"
      ]
     },
     "metadata": {
      "needs_background": "light"
     },
     "output_type": "display_data"
    }
   ],
   "source": [
    "sns.countplot(x=\"Gender\", hue=\"Observed Attendance\", data=x_data)"
   ]
  },
  {
   "cell_type": "code",
   "execution_count": 1041,
   "metadata": {},
   "outputs": [
    {
     "data": {
      "text/plain": [
       "[Text(0, 0, 'CHENNAI'),\n",
       " Text(0, 0, 'GURGAON'),\n",
       " Text(0, 0, 'BANGALORE'),\n",
       " Text(0, 0, 'HYDERABAD'),\n",
       " Text(0, 0, 'DELHI'),\n",
       " Text(0, 0, 'COCHIN'),\n",
       " Text(0, 0, 'NOIDA')]"
      ]
     },
     "execution_count": 1041,
     "metadata": {},
     "output_type": "execute_result"
    },
    {
     "data": {
      "image/png": "[encoded data removed]",
      "text/plain": [
       "<Figure size 432x288 with 1 Axes>"
      ]
     },
     "metadata": {
      "needs_background": "light"
     },
     "output_type": "display_data"
    }
   ],
   "source": [
    "cl = sns.countplot(x=\"Candidate Current Location\", hue=\"Observed Attendance\", data=x_data)  # Candidate current location and location are same columns\n",
    "cl.set_xticklabels(labels = x_data[\"Candidate Current Location\"].unique(), rotation=90)"
   ]
  },
  {
   "cell_type": "code",
   "execution_count": 1042,
   "metadata": {},
   "outputs": [
    {
     "data": {
      "text/plain": [
       "[Text(0, 0, 'HOSUR'),\n",
       " Text(0, 0, 'BANGALORE'),\n",
       " Text(0, 0, 'CHENNAI'),\n",
       " Text(0, 0, 'GURGAON'),\n",
       " Text(0, 0, 'VISAKAPATINAM'),\n",
       " Text(0, 0, 'COCHIN'),\n",
       " Text(0, 0, 'NOIDA')]"
      ]
     },
     "execution_count": 1042,
     "metadata": {},
     "output_type": "execute_result"
    },
    {
     "data": {
      "image/png": "[encoded data removed]",
      "text/plain": [
       "<Figure size 432x288 with 1 Axes>"
      ]
     },
     "metadata": {
      "needs_background": "light"
     },
     "output_type": "display_data"
    }
   ],
   "source": [
    "jl = sns.countplot(x=\"Candidate Job Location\", hue=\"Observed Attendance\", data=x_data)\n",
    "jl.set_xticklabels(labels=x_data[\"Candidate Job Location\"].unique(), rotation=90)"
   ]
  },
  {
   "cell_type": "code",
   "execution_count": 1043,
   "metadata": {},
   "outputs": [
    {
     "data": {
      "text/plain": [
       "[Text(0, 0, 'HOSUR'),\n",
       " Text(0, 0, 'GURGAON'),\n",
       " Text(0, 0, 'BANGALORE'),\n",
       " Text(0, 0, 'CHENNAI'),\n",
       " Text(0, 0, 'HYDERABAD'),\n",
       " Text(0, 0, 'COCHIN'),\n",
       " Text(0, 0, 'NOIDA')]"
      ]
     },
     "execution_count": 1043,
     "metadata": {},
     "output_type": "execute_result"
    },
    {
     "data": {
      "image/png": "[encoded data removed]",
      "text/plain": [
       "<Figure size 432x288 with 1 Axes>"
      ]
     },
     "metadata": {
      "needs_background": "light"
     },
     "output_type": "display_data"
    }
   ],
   "source": [
    "iv = sns.countplot(x=\"Interview Venue\", hue=\"Observed Attendance\", data=x_data)\n",
    "iv.set_xticklabels(labels=x_data[\"Interview Venue\"].unique(), rotation=90)"
   ]
  },
  {
   "cell_type": "code",
   "execution_count": 1044,
   "metadata": {},
   "outputs": [
    {
     "data": {
      "text/plain": [
       "[Text(0, 0, 'HOSUR'),\n",
       " Text(0, 0, 'TRICHY'),\n",
       " Text(0, 0, 'CHENNAI'),\n",
       " Text(0, 0, 'GURGAON'),\n",
       " Text(0, 0, 'NOIDA'),\n",
       " Text(0, 0, 'DELHI /NCR'),\n",
       " Text(0, 0, 'COCHIN'),\n",
       " Text(0, 0, 'TRIVANDRUM'),\n",
       " Text(0, 0, 'BANGALORE'),\n",
       " Text(0, 0, 'COIMBATORE'),\n",
       " Text(0, 0, 'SALEM'),\n",
       " Text(0, 0, 'TANJORE'),\n",
       " Text(0, 0, 'HYDERABAD'),\n",
       " Text(0, 0, 'MUMBAI'),\n",
       " Text(0, 0, 'PUNE'),\n",
       " Text(0, 0, 'KOLKATA'),\n",
       " Text(0, 0, 'ALLAHABAD'),\n",
       " Text(0, 0, 'PANJIM'),\n",
       " Text(0, 0, 'CUTTACK'),\n",
       " Text(0, 0, 'VISAKAPATINAM'),\n",
       " Text(0, 0, 'BELGAUM'),\n",
       " Text(0, 0, 'PATNA'),\n",
       " Text(0, 0, 'CHITOOR'),\n",
       " Text(0, 0, 'ANANTAPUR'),\n",
       " Text(0, 0, 'WARANGAL'),\n",
       " Text(0, 0, 'AHMEDABAD'),\n",
       " Text(0, 0, 'KURNOOL'),\n",
       " Text(0, 0, 'VIJAYAWADA'),\n",
       " Text(0, 0, 'VELLORE'),\n",
       " Text(0, 0, 'PONDICHERRY'),\n",
       " Text(0, 0, 'NAGERCOIL'),\n",
       " Text(0, 0, 'AGRA'),\n",
       " Text(0, 0, 'BHUBANESHWAR'),\n",
       " Text(0, 0, 'GHAZIABAD'),\n",
       " Text(0, 0, 'BADDI'),\n",
       " Text(0, 0, 'TUTICORIN'),\n",
       " Text(0, 0, 'TIRUPATI'),\n",
       " Text(0, 0, 'FAIZABAD'),\n",
       " Text(0, 0, 'AMBUR'),\n",
       " Text(0, 0, 'CHANDIGARH'),\n",
       " Text(0, 0, 'MYSORE'),\n",
       " Text(0, 0, 'HISSAR'),\n",
       " Text(0, 0, 'DELHI'),\n",
       " Text(0, 0, 'KANPUR'),\n",
       " Text(0, 0, 'LUCKNOW')]"
      ]
     },
     "execution_count": 1044,
     "metadata": {},
     "output_type": "execute_result"
    },
    {
     "data": {
      "image/png": "[encoded data removed]",
      "text/plain": [
       "<Figure size 2880x720 with 1 Axes>"
      ]
     },
     "metadata": {
      "needs_background": "light"
     },
     "output_type": "display_data"
    }
   ],
   "source": [
    "plt.figure(figsize=(40,10))\n",
    "nl = sns.countplot(x=\"Candidate Native location\", hue=\"Observed Attendance\", data=x_data)\n",
    "nl.set_xticklabels(labels=x_data[\"Candidate Native location\"].unique(), rotation=90)\n"
   ]
  },
  {
   "cell_type": "code",
   "execution_count": 1045,
   "metadata": {},
   "outputs": [
    {
     "data": {
      "text/plain": [
       "<matplotlib.axes._subplots.AxesSubplot at 0x1ea9aa30>"
      ]
     },
     "execution_count": 1045,
     "metadata": {},
     "output_type": "execute_result"
    },
    {
     "data": {
      "image/png": "[encoded data removed]",
      "text/plain": [
       "<Figure size 432x288 with 1 Axes>"
      ]
     },
     "metadata": {
      "needs_background": "light"
     },
     "output_type": "display_data"
    }
   ],
   "source": [
    "sns.countplot(x=\"Have you obtained the necessary permission to start at the required time\", hue=\"Observed Attendance\", data=x_data)"
   ]
  },
  {
   "cell_type": "code",
   "execution_count": 1046,
   "metadata": {},
   "outputs": [
    {
     "data": {
      "text/plain": [
       "<matplotlib.legend.Legend at 0x1ea9a670>"
      ]
     },
     "execution_count": 1046,
     "metadata": {},
     "output_type": "execute_result"
    },
    {
     "data": {
      "image/png": "[encoded data removed]",
      "text/plain": [
       "<Figure size 432x288 with 1 Axes>"
      ]
     },
     "metadata": {
      "needs_background": "light"
     },
     "output_type": "display_data"
    }
   ],
   "source": [
    "sns.countplot(x=\"Hope there will be no unscheduled meetings\", hue=\"Observed Attendance\", data=x_data)\n",
    "plt.legend(loc=\"upper right\")"
   ]
  },
  {
   "cell_type": "code",
   "execution_count": 1047,
   "metadata": {},
   "outputs": [
    {
     "data": {
      "text/plain": [
       "<matplotlib.axes._subplots.AxesSubplot at 0x1eaefcd0>"
      ]
     },
     "execution_count": 1047,
     "metadata": {},
     "output_type": "execute_result"
    },
    {
     "data": {
      "image/png": "[encoded data removed]",
      "text/plain": [
       "<Figure size 432x288 with 1 Axes>"
      ]
     },
     "metadata": {
      "needs_background": "light"
     },
     "output_type": "display_data"
    }
   ],
   "source": [
    "sns.countplot(x=\"Can I Call you three hours before the interview and follow up on your attendance for the interview\", hue=\"Observed Attendance\", data=x_data)"
   ]
  },
  {
   "cell_type": "code",
   "execution_count": 1048,
   "metadata": {},
   "outputs": [
    {
     "data": {
      "text/plain": [
       "<matplotlib.axes._subplots.AxesSubplot at 0x1eb2ad90>"
      ]
     },
     "execution_count": 1048,
     "metadata": {},
     "output_type": "execute_result"
    },
    {
     "data": {
      "image/png": "[encoded data removed]",
      "text/plain": [
       "<Figure size 432x288 with 1 Axes>"
      ]
     },
     "metadata": {
      "needs_background": "light"
     },
     "output_type": "display_data"
    }
   ],
   "source": [
    "sns.countplot(x=\"Can I have an alternative number/ desk number. I assure you that I will not trouble you too much\", hue=\"Observed Attendance\", data=x_data)"
   ]
  },
  {
   "cell_type": "code",
   "execution_count": 1049,
   "metadata": {},
   "outputs": [
    {
     "data": {
      "text/plain": [
       "<matplotlib.axes._subplots.AxesSubplot at 0x1ebfb3d0>"
      ]
     },
     "execution_count": 1049,
     "metadata": {},
     "output_type": "execute_result"
    },
    {
     "data": {
      "image/png": "[encoded data removed]",
      "text/plain": [
       "<Figure size 432x288 with 1 Axes>"
      ]
     },
     "metadata": {
      "needs_background": "light"
     },
     "output_type": "display_data"
    }
   ],
   "source": [
    "sns.countplot(x=\"Have you taken a printout of your updated resume. Have you read the JD and understood the same\", hue=\"Observed Attendance\", data=x_data)"
   ]
  },
  {
   "cell_type": "code",
   "execution_count": 1050,
   "metadata": {},
   "outputs": [
    {
     "data": {
      "text/plain": [
       "<matplotlib.axes._subplots.AxesSubplot at 0x1eb2acd0>"
      ]
     },
     "execution_count": 1050,
     "metadata": {},
     "output_type": "execute_result"
    },
    {
     "data": {
      "image/png": "[encoded data removed]",
      "text/plain": [
       "<Figure size 432x288 with 1 Axes>"
      ]
     },
     "metadata": {
      "needs_background": "light"
     },
     "output_type": "display_data"
    }
   ],
   "source": [
    "sns.countplot(x=\"Are you clear with the venue details and the landmark.\", hue=\"Observed Attendance\", data=x_data)"
   ]
  },
  {
   "cell_type": "code",
   "execution_count": 1051,
   "metadata": {},
   "outputs": [
    {
     "data": {
      "image/png": "[encoded data removed]",
      "text/plain": [
       "<Figure size 432x288 with 1 Axes>"
      ]
     },
     "metadata": {
      "needs_background": "light"
     },
     "output_type": "display_data"
    }
   ],
   "source": [
    "has = sns.countplot(x=\"Has the call letter been shared\", hue=\"Observed Attendance\", data=x_data)\n"
   ]
  },
  {
   "cell_type": "code",
   "execution_count": 1052,
   "metadata": {},
   "outputs": [
    {
     "data": {
      "text/plain": [
       "<matplotlib.axes._subplots.AxesSubplot at 0x1edd5d50>"
      ]
     },
     "execution_count": 1052,
     "metadata": {},
     "output_type": "execute_result"
    },
    {
     "data": {
      "image/png": "[encoded data removed]",
      "text/plain": [
       "<Figure size 432x288 with 1 Axes>"
      ]
     },
     "metadata": {
      "needs_background": "light"
     },
     "output_type": "display_data"
    }
   ],
   "source": [
    "sns.countplot(x=\"Expected Attendance\", hue=\"Observed Attendance\", data=x_data)"
   ]
  },
  {
   "cell_type": "code",
   "execution_count": 1053,
   "metadata": {},
   "outputs": [
    {
     "data": {
      "text/plain": [
       "<matplotlib.axes._subplots.AxesSubplot at 0x1ee148f0>"
      ]
     },
     "execution_count": 1053,
     "metadata": {},
     "output_type": "execute_result"
    },
    {
     "data": {
      "image/png": "[encoded data removed]",
      "text/plain": [
       "<Figure size 432x288 with 1 Axes>"
      ]
     },
     "metadata": {
      "needs_background": "light"
     },
     "output_type": "display_data"
    }
   ],
   "source": [
    "sns.countplot(x=\"Marital Status\", hue=\"Observed Attendance\", data=x_data)"
   ]
  },
  {
   "cell_type": "code",
   "execution_count": 1054,
   "metadata": {},
   "outputs": [
    {
     "data": {
      "text/plain": [
       "<matplotlib.axes._subplots.AxesSubplot at 0x1ee53ed0>"
      ]
     },
     "execution_count": 1054,
     "metadata": {},
     "output_type": "execute_result"
    },
    {
     "data": {
      "image/png": "[encoded data removed]",
      "text/plain": [
       "<Figure size 432x288 with 1 Axes>"
      ]
     },
     "metadata": {
      "needs_background": "light"
     },
     "output_type": "display_data"
    }
   ],
   "source": [
    "sns.countplot(x=\"Observed Attendance\", data=x_data) # RESULT"
   ]
  },
  {
   "cell_type": "markdown",
   "metadata": {},
   "source": [
    "# Column-wise percentage for each type of category"
   ]
  },
  {
   "cell_type": "code",
   "execution_count": 1055,
   "metadata": {},
   "outputs": [
    {
     "data": {
      "text/html": [
       "<div>\n",
       "<style scoped>\n",
       "    .dataframe tbody tr th:only-of-type {\n",
       "        vertical-align: middle;\n",
       "    }\n",
       "\n",
       "    .dataframe tbody tr th {\n",
       "        vertical-align: top;\n",
       "    }\n",
       "\n",
       "    .dataframe thead th {\n",
       "        text-align: right;\n",
       "    }\n",
       "</style>\n",
       "<table border=\"1\" class=\"dataframe\">\n",
       "  <thead>\n",
       "    <tr style=\"text-align: right;\">\n",
       "      <th></th>\n",
       "      <th>YES</th>\n",
       "      <th>NO</th>\n",
       "    </tr>\n",
       "  </thead>\n",
       "  <tbody>\n",
       "    <tr>\n",
       "      <th>CHENNAI</th>\n",
       "      <td>0.614929</td>\n",
       "      <td>0.385071</td>\n",
       "    </tr>\n",
       "    <tr>\n",
       "      <th>GURGAON</th>\n",
       "      <td>0.705882</td>\n",
       "      <td>0.294118</td>\n",
       "    </tr>\n",
       "    <tr>\n",
       "      <th>BANGALORE</th>\n",
       "      <td>0.660959</td>\n",
       "      <td>0.339041</td>\n",
       "    </tr>\n",
       "    <tr>\n",
       "      <th>HYDERABAD</th>\n",
       "      <td>0.684211</td>\n",
       "      <td>0.315789</td>\n",
       "    </tr>\n",
       "    <tr>\n",
       "      <th>DELHI</th>\n",
       "      <td>1.000000</td>\n",
       "      <td>0.000000</td>\n",
       "    </tr>\n",
       "    <tr>\n",
       "      <th>COCHIN</th>\n",
       "      <td>0.666667</td>\n",
       "      <td>0.333333</td>\n",
       "    </tr>\n",
       "    <tr>\n",
       "      <th>NOIDA</th>\n",
       "      <td>0.933333</td>\n",
       "      <td>0.066667</td>\n",
       "    </tr>\n",
       "  </tbody>\n",
       "</table>\n",
       "</div>"
      ],
      "text/plain": [
       "                YES        NO\n",
       "CHENNAI    0.614929  0.385071\n",
       "GURGAON    0.705882  0.294118\n",
       "BANGALORE  0.660959  0.339041\n",
       "HYDERABAD  0.684211  0.315789\n",
       "DELHI      1.000000  0.000000\n",
       "COCHIN     0.666667  0.333333\n",
       "NOIDA      0.933333  0.066667"
      ]
     },
     "execution_count": 1055,
     "metadata": {},
     "output_type": "execute_result"
    }
   ],
   "source": [
    "yes = []\n",
    "no = []\n",
    "for val in list(x_data[\"Candidate Current Location\"].unique()):\n",
    "    temp = x_data[x_data[\"Candidate Current Location\"] == val]\n",
    "    yes.append(temp[temp[\"Observed Attendance\"] == \"YES\"].shape[0]/temp.shape[0])\n",
    "    no.append(temp[temp[\"Observed Attendance\"] == \"NO\"].shape[0]/temp.shape[0])\n",
    "di = {\"YES\":yes,\"NO\":no}\n",
    "loc = pd.DataFrame(di)\n",
    "loc.rename(index=pd.Series(x_data[\"Candidate Current Location\"].unique()))"
   ]
  },
  {
   "cell_type": "code",
   "execution_count": 1056,
   "metadata": {},
   "outputs": [
    {
     "data": {
      "text/html": [
       "<div>\n",
       "<style scoped>\n",
       "    .dataframe tbody tr th:only-of-type {\n",
       "        vertical-align: middle;\n",
       "    }\n",
       "\n",
       "    .dataframe tbody tr th {\n",
       "        vertical-align: top;\n",
       "    }\n",
       "\n",
       "    .dataframe thead th {\n",
       "        text-align: right;\n",
       "    }\n",
       "</style>\n",
       "<table border=\"1\" class=\"dataframe\">\n",
       "  <thead>\n",
       "    <tr style=\"text-align: right;\">\n",
       "      <th></th>\n",
       "      <th>YES</th>\n",
       "      <th>NO</th>\n",
       "    </tr>\n",
       "  </thead>\n",
       "  <tbody>\n",
       "    <tr>\n",
       "      <th>PRODUCTION- STERILE</th>\n",
       "      <td>0.000000</td>\n",
       "      <td>1.000000</td>\n",
       "    </tr>\n",
       "    <tr>\n",
       "      <th>SELENIUM TESTING</th>\n",
       "      <td>0.800000</td>\n",
       "      <td>0.200000</td>\n",
       "    </tr>\n",
       "    <tr>\n",
       "      <th>DOT NET</th>\n",
       "      <td>0.555556</td>\n",
       "      <td>0.444444</td>\n",
       "    </tr>\n",
       "    <tr>\n",
       "      <th>AML</th>\n",
       "      <td>0.625000</td>\n",
       "      <td>0.375000</td>\n",
       "    </tr>\n",
       "    <tr>\n",
       "      <th>TRADE FINANCE</th>\n",
       "      <td>0.636364</td>\n",
       "      <td>0.363636</td>\n",
       "    </tr>\n",
       "    <tr>\n",
       "      <th>ROUTINE</th>\n",
       "      <td>0.622678</td>\n",
       "      <td>0.377322</td>\n",
       "    </tr>\n",
       "    <tr>\n",
       "      <th>NICHE</th>\n",
       "      <td>0.736196</td>\n",
       "      <td>0.263804</td>\n",
       "    </tr>\n",
       "  </tbody>\n",
       "</table>\n",
       "</div>"
      ],
      "text/plain": [
       "                          YES        NO\n",
       "PRODUCTION- STERILE  0.000000  1.000000\n",
       "SELENIUM TESTING     0.800000  0.200000\n",
       "DOT NET              0.555556  0.444444\n",
       "AML                  0.625000  0.375000\n",
       "TRADE FINANCE        0.636364  0.363636\n",
       "ROUTINE              0.622678  0.377322\n",
       "NICHE                0.736196  0.263804"
      ]
     },
     "execution_count": 1056,
     "metadata": {},
     "output_type": "execute_result"
    }
   ],
   "source": [
    "yes = []\n",
    "no = []\n",
    "for val in list(x_data[\"Position to be closed\"].unique()):\n",
    "    temp = x_data[x_data[\"Position to be closed\"] == val]\n",
    "    yes.append(temp[temp[\"Observed Attendance\"] == \"YES\"].shape[0]/temp.shape[0])\n",
    "    no.append(temp[temp[\"Observed Attendance\"] == \"NO\"].shape[0]/temp.shape[0])\n",
    "di = {\"YES\":yes,\"NO\":no}\n",
    "loc = pd.DataFrame(di)\n",
    "loc.rename(index=pd.Series(x_data[\"Position to be closed\"].unique()))"
   ]
  },
  {
   "cell_type": "code",
   "execution_count": 1057,
   "metadata": {},
   "outputs": [
    {
     "data": {
      "text/html": [
       "<div>\n",
       "<style scoped>\n",
       "    .dataframe tbody tr th:only-of-type {\n",
       "        vertical-align: middle;\n",
       "    }\n",
       "\n",
       "    .dataframe tbody tr th {\n",
       "        vertical-align: top;\n",
       "    }\n",
       "\n",
       "    .dataframe thead th {\n",
       "        text-align: right;\n",
       "    }\n",
       "</style>\n",
       "<table border=\"1\" class=\"dataframe\">\n",
       "  <thead>\n",
       "    <tr style=\"text-align: right;\">\n",
       "      <th></th>\n",
       "      <th>YES</th>\n",
       "      <th>NO</th>\n",
       "    </tr>\n",
       "  </thead>\n",
       "  <tbody>\n",
       "    <tr>\n",
       "      <th>SCHEDULED WALK IN</th>\n",
       "      <td>0.630031</td>\n",
       "      <td>0.369969</td>\n",
       "    </tr>\n",
       "    <tr>\n",
       "      <th>SCHEDULED</th>\n",
       "      <td>0.687332</td>\n",
       "      <td>0.312668</td>\n",
       "    </tr>\n",
       "    <tr>\n",
       "      <th>WALKIN</th>\n",
       "      <td>0.560185</td>\n",
       "      <td>0.439815</td>\n",
       "    </tr>\n",
       "  </tbody>\n",
       "</table>\n",
       "</div>"
      ],
      "text/plain": [
       "                        YES        NO\n",
       "SCHEDULED WALK IN  0.630031  0.369969\n",
       "SCHEDULED          0.687332  0.312668\n",
       "WALKIN             0.560185  0.439815"
      ]
     },
     "execution_count": 1057,
     "metadata": {},
     "output_type": "execute_result"
    }
   ],
   "source": [
    "yes = []\n",
    "no = []\n",
    "for val in list(x_data[\"Interview Type\"].unique()):\n",
    "    temp = x_data[x_data[\"Interview Type\"] == val]\n",
    "    yes.append(temp[temp[\"Observed Attendance\"] == \"YES\"].shape[0]/temp.shape[0])\n",
    "    no.append(temp[temp[\"Observed Attendance\"] == \"NO\"].shape[0]/temp.shape[0])\n",
    "di = {\"YES\":yes,\"NO\":no}\n",
    "loc = pd.DataFrame(di)\n",
    "loc.rename(index=pd.Series(x_data[\"Interview Type\"].unique()))"
   ]
  },
  {
   "cell_type": "code",
   "execution_count": 1058,
   "metadata": {},
   "outputs": [
    {
     "data": {
      "text/html": [
       "<div>\n",
       "<style scoped>\n",
       "    .dataframe tbody tr th:only-of-type {\n",
       "        vertical-align: middle;\n",
       "    }\n",
       "\n",
       "    .dataframe tbody tr th {\n",
       "        vertical-align: top;\n",
       "    }\n",
       "\n",
       "    .dataframe thead th {\n",
       "        text-align: right;\n",
       "    }\n",
       "</style>\n",
       "<table border=\"1\" class=\"dataframe\">\n",
       "  <thead>\n",
       "    <tr style=\"text-align: right;\">\n",
       "      <th></th>\n",
       "      <th>YES</th>\n",
       "      <th>NO</th>\n",
       "    </tr>\n",
       "  </thead>\n",
       "  <tbody>\n",
       "    <tr>\n",
       "      <th>MALE</th>\n",
       "      <td>0.636269</td>\n",
       "      <td>0.363731</td>\n",
       "    </tr>\n",
       "    <tr>\n",
       "      <th>FEMALE</th>\n",
       "      <td>0.630597</td>\n",
       "      <td>0.369403</td>\n",
       "    </tr>\n",
       "  </tbody>\n",
       "</table>\n",
       "</div>"
      ],
      "text/plain": [
       "             YES        NO\n",
       "MALE    0.636269  0.363731\n",
       "FEMALE  0.630597  0.369403"
      ]
     },
     "execution_count": 1058,
     "metadata": {},
     "output_type": "execute_result"
    }
   ],
   "source": [
    "yes = []\n",
    "no = []\n",
    "for val in list(x_data[\"Gender\"].unique()):\n",
    "    temp = x_data[x_data[\"Gender\"] == val]\n",
    "    yes.append(temp[temp[\"Observed Attendance\"] == \"YES\"].shape[0]/temp.shape[0])\n",
    "    no.append(temp[temp[\"Observed Attendance\"] == \"NO\"].shape[0]/temp.shape[0])\n",
    "di = {\"YES\":yes,\"NO\":no}\n",
    "loc = pd.DataFrame(di)\n",
    "loc.rename(index=pd.Series(x_data[\"Gender\"].unique()))"
   ]
  },
  {
   "cell_type": "code",
   "execution_count": 1059,
   "metadata": {},
   "outputs": [
    {
     "data": {
      "text/html": [
       "<div>\n",
       "<style scoped>\n",
       "    .dataframe tbody tr th:only-of-type {\n",
       "        vertical-align: middle;\n",
       "    }\n",
       "\n",
       "    .dataframe tbody tr th {\n",
       "        vertical-align: top;\n",
       "    }\n",
       "\n",
       "    .dataframe thead th {\n",
       "        text-align: right;\n",
       "    }\n",
       "</style>\n",
       "<table border=\"1\" class=\"dataframe\">\n",
       "  <thead>\n",
       "    <tr style=\"text-align: right;\">\n",
       "      <th></th>\n",
       "      <th>YES</th>\n",
       "      <th>NO</th>\n",
       "    </tr>\n",
       "  </thead>\n",
       "  <tbody>\n",
       "    <tr>\n",
       "      <th>HOSUR</th>\n",
       "      <td>0.000000</td>\n",
       "      <td>1.000000</td>\n",
       "    </tr>\n",
       "    <tr>\n",
       "      <th>BANGALORE</th>\n",
       "      <td>0.656371</td>\n",
       "      <td>0.343629</td>\n",
       "    </tr>\n",
       "    <tr>\n",
       "      <th>CHENNAI</th>\n",
       "      <td>0.618141</td>\n",
       "      <td>0.381859</td>\n",
       "    </tr>\n",
       "    <tr>\n",
       "      <th>GURGAON</th>\n",
       "      <td>0.714286</td>\n",
       "      <td>0.285714</td>\n",
       "    </tr>\n",
       "    <tr>\n",
       "      <th>VISAKAPATINAM</th>\n",
       "      <td>0.761905</td>\n",
       "      <td>0.238095</td>\n",
       "    </tr>\n",
       "    <tr>\n",
       "      <th>COCHIN</th>\n",
       "      <td>0.666667</td>\n",
       "      <td>0.333333</td>\n",
       "    </tr>\n",
       "    <tr>\n",
       "      <th>NOIDA</th>\n",
       "      <td>0.933333</td>\n",
       "      <td>0.066667</td>\n",
       "    </tr>\n",
       "  </tbody>\n",
       "</table>\n",
       "</div>"
      ],
      "text/plain": [
       "                    YES        NO\n",
       "HOSUR          0.000000  1.000000\n",
       "BANGALORE      0.656371  0.343629\n",
       "CHENNAI        0.618141  0.381859\n",
       "GURGAON        0.714286  0.285714\n",
       "VISAKAPATINAM  0.761905  0.238095\n",
       "COCHIN         0.666667  0.333333\n",
       "NOIDA          0.933333  0.066667"
      ]
     },
     "execution_count": 1059,
     "metadata": {},
     "output_type": "execute_result"
    }
   ],
   "source": [
    "yes = []\n",
    "no = []\n",
    "for val in list(x_data[\"Candidate Job Location\"].unique()):\n",
    "    temp = x_data[x_data[\"Candidate Job Location\"] == val]\n",
    "    yes.append(temp[temp[\"Observed Attendance\"] == \"YES\"].shape[0]/temp.shape[0])\n",
    "    no.append(temp[temp[\"Observed Attendance\"] == \"NO\"].shape[0]/temp.shape[0])\n",
    "di = {\"YES\":yes,\"NO\":no}\n",
    "loc = pd.DataFrame(di)\n",
    "loc.rename(index=pd.Series(x_data[\"Candidate Job Location\"].unique()))"
   ]
  },
  {
   "cell_type": "code",
   "execution_count": 1060,
   "metadata": {},
   "outputs": [
    {
     "data": {
      "text/html": [
       "<div>\n",
       "<style scoped>\n",
       "    .dataframe tbody tr th:only-of-type {\n",
       "        vertical-align: middle;\n",
       "    }\n",
       "\n",
       "    .dataframe tbody tr th {\n",
       "        vertical-align: top;\n",
       "    }\n",
       "\n",
       "    .dataframe thead th {\n",
       "        text-align: right;\n",
       "    }\n",
       "</style>\n",
       "<table border=\"1\" class=\"dataframe\">\n",
       "  <thead>\n",
       "    <tr style=\"text-align: right;\">\n",
       "      <th></th>\n",
       "      <th>YES</th>\n",
       "      <th>NO</th>\n",
       "    </tr>\n",
       "  </thead>\n",
       "  <tbody>\n",
       "    <tr>\n",
       "      <th>HOSUR</th>\n",
       "      <td>0.000000</td>\n",
       "      <td>1.000000</td>\n",
       "    </tr>\n",
       "    <tr>\n",
       "      <th>GURGAON</th>\n",
       "      <td>0.714286</td>\n",
       "      <td>0.285714</td>\n",
       "    </tr>\n",
       "    <tr>\n",
       "      <th>BANGALORE</th>\n",
       "      <td>0.660650</td>\n",
       "      <td>0.339350</td>\n",
       "    </tr>\n",
       "    <tr>\n",
       "      <th>CHENNAI</th>\n",
       "      <td>0.618545</td>\n",
       "      <td>0.381455</td>\n",
       "    </tr>\n",
       "    <tr>\n",
       "      <th>HYDERABAD</th>\n",
       "      <td>0.700000</td>\n",
       "      <td>0.300000</td>\n",
       "    </tr>\n",
       "    <tr>\n",
       "      <th>COCHIN</th>\n",
       "      <td>0.666667</td>\n",
       "      <td>0.333333</td>\n",
       "    </tr>\n",
       "    <tr>\n",
       "      <th>NOIDA</th>\n",
       "      <td>0.933333</td>\n",
       "      <td>0.066667</td>\n",
       "    </tr>\n",
       "  </tbody>\n",
       "</table>\n",
       "</div>"
      ],
      "text/plain": [
       "                YES        NO\n",
       "HOSUR      0.000000  1.000000\n",
       "GURGAON    0.714286  0.285714\n",
       "BANGALORE  0.660650  0.339350\n",
       "CHENNAI    0.618545  0.381455\n",
       "HYDERABAD  0.700000  0.300000\n",
       "COCHIN     0.666667  0.333333\n",
       "NOIDA      0.933333  0.066667"
      ]
     },
     "execution_count": 1060,
     "metadata": {},
     "output_type": "execute_result"
    }
   ],
   "source": [
    "yes = []\n",
    "no = []\n",
    "for val in list(x_data[\"Interview Venue\"].unique()):\n",
    "    temp = x_data[x_data[\"Interview Venue\"] == val]\n",
    "    yes.append(temp[temp[\"Observed Attendance\"] == \"YES\"].shape[0]/temp.shape[0])\n",
    "    no.append(temp[temp[\"Observed Attendance\"] == \"NO\"].shape[0]/temp.shape[0])\n",
    "di = {\"YES\":yes,\"NO\":no}\n",
    "loc = pd.DataFrame(di)\n",
    "loc.rename(index=pd.Series(x_data[\"Interview Venue\"].unique()))"
   ]
  },
  {
   "cell_type": "code",
   "execution_count": 1061,
   "metadata": {},
   "outputs": [
    {
     "data": {
      "text/html": [
       "<div>\n",
       "<style scoped>\n",
       "    .dataframe tbody tr th:only-of-type {\n",
       "        vertical-align: middle;\n",
       "    }\n",
       "\n",
       "    .dataframe tbody tr th {\n",
       "        vertical-align: top;\n",
       "    }\n",
       "\n",
       "    .dataframe thead th {\n",
       "        text-align: right;\n",
       "    }\n",
       "</style>\n",
       "<table border=\"1\" class=\"dataframe\">\n",
       "  <thead>\n",
       "    <tr style=\"text-align: right;\">\n",
       "      <th></th>\n",
       "      <th>YES</th>\n",
       "      <th>NO</th>\n",
       "    </tr>\n",
       "  </thead>\n",
       "  <tbody>\n",
       "    <tr>\n",
       "      <th>HOSUR</th>\n",
       "      <td>0.666667</td>\n",
       "      <td>0.333333</td>\n",
       "    </tr>\n",
       "    <tr>\n",
       "      <th>TRICHY</th>\n",
       "      <td>0.461538</td>\n",
       "      <td>0.538462</td>\n",
       "    </tr>\n",
       "    <tr>\n",
       "      <th>CHENNAI</th>\n",
       "      <td>0.600000</td>\n",
       "      <td>0.400000</td>\n",
       "    </tr>\n",
       "    <tr>\n",
       "      <th>GURGAON</th>\n",
       "      <td>0.730769</td>\n",
       "      <td>0.269231</td>\n",
       "    </tr>\n",
       "    <tr>\n",
       "      <th>NOIDA</th>\n",
       "      <td>0.882353</td>\n",
       "      <td>0.117647</td>\n",
       "    </tr>\n",
       "    <tr>\n",
       "      <th>DELHI /NCR</th>\n",
       "      <td>0.500000</td>\n",
       "      <td>0.500000</td>\n",
       "    </tr>\n",
       "    <tr>\n",
       "      <th>COCHIN</th>\n",
       "      <td>0.758621</td>\n",
       "      <td>0.241379</td>\n",
       "    </tr>\n",
       "    <tr>\n",
       "      <th>TRIVANDRUM</th>\n",
       "      <td>0.571429</td>\n",
       "      <td>0.428571</td>\n",
       "    </tr>\n",
       "    <tr>\n",
       "      <th>BANGALORE</th>\n",
       "      <td>0.688742</td>\n",
       "      <td>0.311258</td>\n",
       "    </tr>\n",
       "    <tr>\n",
       "      <th>COIMBATORE</th>\n",
       "      <td>0.714286</td>\n",
       "      <td>0.285714</td>\n",
       "    </tr>\n",
       "    <tr>\n",
       "      <th>SALEM</th>\n",
       "      <td>0.666667</td>\n",
       "      <td>0.333333</td>\n",
       "    </tr>\n",
       "    <tr>\n",
       "      <th>TANJORE</th>\n",
       "      <td>1.000000</td>\n",
       "      <td>0.000000</td>\n",
       "    </tr>\n",
       "    <tr>\n",
       "      <th>HYDERABAD</th>\n",
       "      <td>0.680233</td>\n",
       "      <td>0.319767</td>\n",
       "    </tr>\n",
       "    <tr>\n",
       "      <th>MUMBAI</th>\n",
       "      <td>0.428571</td>\n",
       "      <td>0.571429</td>\n",
       "    </tr>\n",
       "    <tr>\n",
       "      <th>PUNE</th>\n",
       "      <td>0.636364</td>\n",
       "      <td>0.363636</td>\n",
       "    </tr>\n",
       "    <tr>\n",
       "      <th>KOLKATA</th>\n",
       "      <td>0.500000</td>\n",
       "      <td>0.500000</td>\n",
       "    </tr>\n",
       "    <tr>\n",
       "      <th>ALLAHABAD</th>\n",
       "      <td>0.650000</td>\n",
       "      <td>0.350000</td>\n",
       "    </tr>\n",
       "    <tr>\n",
       "      <th>PANJIM</th>\n",
       "      <td>0.000000</td>\n",
       "      <td>1.000000</td>\n",
       "    </tr>\n",
       "    <tr>\n",
       "      <th>CUTTACK</th>\n",
       "      <td>0.600000</td>\n",
       "      <td>0.400000</td>\n",
       "    </tr>\n",
       "    <tr>\n",
       "      <th>VISAKAPATINAM</th>\n",
       "      <td>0.625000</td>\n",
       "      <td>0.375000</td>\n",
       "    </tr>\n",
       "    <tr>\n",
       "      <th>BELGAUM</th>\n",
       "      <td>0.000000</td>\n",
       "      <td>1.000000</td>\n",
       "    </tr>\n",
       "    <tr>\n",
       "      <th>PATNA</th>\n",
       "      <td>0.500000</td>\n",
       "      <td>0.500000</td>\n",
       "    </tr>\n",
       "    <tr>\n",
       "      <th>CHITOOR</th>\n",
       "      <td>0.666667</td>\n",
       "      <td>0.333333</td>\n",
       "    </tr>\n",
       "    <tr>\n",
       "      <th>ANANTAPUR</th>\n",
       "      <td>1.000000</td>\n",
       "      <td>0.000000</td>\n",
       "    </tr>\n",
       "    <tr>\n",
       "      <th>WARANGAL</th>\n",
       "      <td>0.666667</td>\n",
       "      <td>0.333333</td>\n",
       "    </tr>\n",
       "    <tr>\n",
       "      <th>AHMEDABAD</th>\n",
       "      <td>1.000000</td>\n",
       "      <td>0.000000</td>\n",
       "    </tr>\n",
       "    <tr>\n",
       "      <th>KURNOOL</th>\n",
       "      <td>1.000000</td>\n",
       "      <td>0.000000</td>\n",
       "    </tr>\n",
       "    <tr>\n",
       "      <th>VIJAYAWADA</th>\n",
       "      <td>0.250000</td>\n",
       "      <td>0.750000</td>\n",
       "    </tr>\n",
       "    <tr>\n",
       "      <th>VELLORE</th>\n",
       "      <td>0.583333</td>\n",
       "      <td>0.416667</td>\n",
       "    </tr>\n",
       "    <tr>\n",
       "      <th>PONDICHERRY</th>\n",
       "      <td>0.800000</td>\n",
       "      <td>0.200000</td>\n",
       "    </tr>\n",
       "    <tr>\n",
       "      <th>NAGERCOIL</th>\n",
       "      <td>0.562500</td>\n",
       "      <td>0.437500</td>\n",
       "    </tr>\n",
       "    <tr>\n",
       "      <th>AGRA</th>\n",
       "      <td>0.000000</td>\n",
       "      <td>1.000000</td>\n",
       "    </tr>\n",
       "    <tr>\n",
       "      <th>BHUBANESHWAR</th>\n",
       "      <td>0.000000</td>\n",
       "      <td>1.000000</td>\n",
       "    </tr>\n",
       "    <tr>\n",
       "      <th>GHAZIABAD</th>\n",
       "      <td>1.000000</td>\n",
       "      <td>0.000000</td>\n",
       "    </tr>\n",
       "    <tr>\n",
       "      <th>BADDI</th>\n",
       "      <td>0.000000</td>\n",
       "      <td>1.000000</td>\n",
       "    </tr>\n",
       "    <tr>\n",
       "      <th>TUTICORIN</th>\n",
       "      <td>1.000000</td>\n",
       "      <td>0.000000</td>\n",
       "    </tr>\n",
       "    <tr>\n",
       "      <th>TIRUPATI</th>\n",
       "      <td>0.750000</td>\n",
       "      <td>0.250000</td>\n",
       "    </tr>\n",
       "    <tr>\n",
       "      <th>FAIZABAD</th>\n",
       "      <td>1.000000</td>\n",
       "      <td>0.000000</td>\n",
       "    </tr>\n",
       "    <tr>\n",
       "      <th>AMBUR</th>\n",
       "      <td>0.500000</td>\n",
       "      <td>0.500000</td>\n",
       "    </tr>\n",
       "    <tr>\n",
       "      <th>CHANDIGARH</th>\n",
       "      <td>0.600000</td>\n",
       "      <td>0.400000</td>\n",
       "    </tr>\n",
       "    <tr>\n",
       "      <th>MYSORE</th>\n",
       "      <td>1.000000</td>\n",
       "      <td>0.000000</td>\n",
       "    </tr>\n",
       "    <tr>\n",
       "      <th>HISSAR</th>\n",
       "      <td>1.000000</td>\n",
       "      <td>0.000000</td>\n",
       "    </tr>\n",
       "    <tr>\n",
       "      <th>DELHI</th>\n",
       "      <td>1.000000</td>\n",
       "      <td>0.000000</td>\n",
       "    </tr>\n",
       "    <tr>\n",
       "      <th>KANPUR</th>\n",
       "      <td>0.000000</td>\n",
       "      <td>1.000000</td>\n",
       "    </tr>\n",
       "    <tr>\n",
       "      <th>LUCKNOW</th>\n",
       "      <td>1.000000</td>\n",
       "      <td>0.000000</td>\n",
       "    </tr>\n",
       "  </tbody>\n",
       "</table>\n",
       "</div>"
      ],
      "text/plain": [
       "                    YES        NO\n",
       "HOSUR          0.666667  0.333333\n",
       "TRICHY         0.461538  0.538462\n",
       "CHENNAI        0.600000  0.400000\n",
       "GURGAON        0.730769  0.269231\n",
       "NOIDA          0.882353  0.117647\n",
       "DELHI /NCR     0.500000  0.500000\n",
       "COCHIN         0.758621  0.241379\n",
       "TRIVANDRUM     0.571429  0.428571\n",
       "BANGALORE      0.688742  0.311258\n",
       "COIMBATORE     0.714286  0.285714\n",
       "SALEM          0.666667  0.333333\n",
       "TANJORE        1.000000  0.000000\n",
       "HYDERABAD      0.680233  0.319767\n",
       "MUMBAI         0.428571  0.571429\n",
       "PUNE           0.636364  0.363636\n",
       "KOLKATA        0.500000  0.500000\n",
       "ALLAHABAD      0.650000  0.350000\n",
       "PANJIM         0.000000  1.000000\n",
       "CUTTACK        0.600000  0.400000\n",
       "VISAKAPATINAM  0.625000  0.375000\n",
       "BELGAUM        0.000000  1.000000\n",
       "PATNA          0.500000  0.500000\n",
       "CHITOOR        0.666667  0.333333\n",
       "ANANTAPUR      1.000000  0.000000\n",
       "WARANGAL       0.666667  0.333333\n",
       "AHMEDABAD      1.000000  0.000000\n",
       "KURNOOL        1.000000  0.000000\n",
       "VIJAYAWADA     0.250000  0.750000\n",
       "VELLORE        0.583333  0.416667\n",
       "PONDICHERRY    0.800000  0.200000\n",
       "NAGERCOIL      0.562500  0.437500\n",
       "AGRA           0.000000  1.000000\n",
       "BHUBANESHWAR   0.000000  1.000000\n",
       "GHAZIABAD      1.000000  0.000000\n",
       "BADDI          0.000000  1.000000\n",
       "TUTICORIN      1.000000  0.000000\n",
       "TIRUPATI       0.750000  0.250000\n",
       "FAIZABAD       1.000000  0.000000\n",
       "AMBUR          0.500000  0.500000\n",
       "CHANDIGARH     0.600000  0.400000\n",
       "MYSORE         1.000000  0.000000\n",
       "HISSAR         1.000000  0.000000\n",
       "DELHI          1.000000  0.000000\n",
       "KANPUR         0.000000  1.000000\n",
       "LUCKNOW        1.000000  0.000000"
      ]
     },
     "execution_count": 1061,
     "metadata": {},
     "output_type": "execute_result"
    }
   ],
   "source": [
    "yes = []\n",
    "no = []\n",
    "for val in list(x_data[\"Candidate Native location\"].unique()):\n",
    "    temp = x_data[x_data[\"Candidate Native location\"] == val]\n",
    "    yes.append(temp[temp[\"Observed Attendance\"] == \"YES\"].shape[0]/temp.shape[0])\n",
    "    no.append(temp[temp[\"Observed Attendance\"] == \"NO\"].shape[0]/temp.shape[0])\n",
    "di = {\"YES\":yes,\"NO\":no}\n",
    "loc = pd.DataFrame(di)\n",
    "loc.rename(index=pd.Series(x_data[\"Candidate Native location\"].unique()))"
   ]
  },
  {
   "cell_type": "code",
   "execution_count": 1062,
   "metadata": {},
   "outputs": [
    {
     "data": {
      "text/html": [
       "<div>\n",
       "<style scoped>\n",
       "    .dataframe tbody tr th:only-of-type {\n",
       "        vertical-align: middle;\n",
       "    }\n",
       "\n",
       "    .dataframe tbody tr th {\n",
       "        vertical-align: top;\n",
       "    }\n",
       "\n",
       "    .dataframe thead th {\n",
       "        text-align: right;\n",
       "    }\n",
       "</style>\n",
       "<table border=\"1\" class=\"dataframe\">\n",
       "  <thead>\n",
       "    <tr style=\"text-align: right;\">\n",
       "      <th></th>\n",
       "      <th>YES</th>\n",
       "      <th>NO</th>\n",
       "    </tr>\n",
       "  </thead>\n",
       "  <tbody>\n",
       "    <tr>\n",
       "      <th>YES</th>\n",
       "      <td>0.725299</td>\n",
       "      <td>0.274701</td>\n",
       "    </tr>\n",
       "    <tr>\n",
       "      <th>NA</th>\n",
       "      <td>0.507177</td>\n",
       "      <td>0.492823</td>\n",
       "    </tr>\n",
       "    <tr>\n",
       "      <th>NO</th>\n",
       "      <td>0.090909</td>\n",
       "      <td>0.909091</td>\n",
       "    </tr>\n",
       "    <tr>\n",
       "      <th>UNCERTAIN</th>\n",
       "      <td>0.000000</td>\n",
       "      <td>1.000000</td>\n",
       "    </tr>\n",
       "  </tbody>\n",
       "</table>\n",
       "</div>"
      ],
      "text/plain": [
       "                YES        NO\n",
       "YES        0.725299  0.274701\n",
       "NA         0.507177  0.492823\n",
       "NO         0.090909  0.909091\n",
       "UNCERTAIN  0.000000  1.000000"
      ]
     },
     "execution_count": 1062,
     "metadata": {},
     "output_type": "execute_result"
    }
   ],
   "source": [
    "yes = []\n",
    "no = []\n",
    "for val in list(x_data[\"Have you obtained the necessary permission to start at the required time\"].unique()):\n",
    "    temp = x_data[x_data[\"Have you obtained the necessary permission to start at the required time\"] == val]\n",
    "    yes.append(temp[temp[\"Observed Attendance\"] == \"YES\"].shape[0]/temp.shape[0])\n",
    "    no.append(temp[temp[\"Observed Attendance\"] == \"NO\"].shape[0]/temp.shape[0])\n",
    "di = {\"YES\":yes,\"NO\":no}\n",
    "loc = pd.DataFrame(di)\n",
    "loc.rename(index=pd.Series(x_data[\"Have you obtained the necessary permission to start at the required time\"].unique()))"
   ]
  },
  {
   "cell_type": "code",
   "execution_count": 1063,
   "metadata": {},
   "outputs": [
    {
     "data": {
      "text/html": [
       "<div>\n",
       "<style scoped>\n",
       "    .dataframe tbody tr th:only-of-type {\n",
       "        vertical-align: middle;\n",
       "    }\n",
       "\n",
       "    .dataframe tbody tr th {\n",
       "        vertical-align: top;\n",
       "    }\n",
       "\n",
       "    .dataframe thead th {\n",
       "        text-align: right;\n",
       "    }\n",
       "</style>\n",
       "<table border=\"1\" class=\"dataframe\">\n",
       "  <thead>\n",
       "    <tr style=\"text-align: right;\">\n",
       "      <th></th>\n",
       "      <th>YES</th>\n",
       "      <th>NO</th>\n",
       "    </tr>\n",
       "  </thead>\n",
       "  <tbody>\n",
       "    <tr>\n",
       "      <th>YES</th>\n",
       "      <td>0.706499</td>\n",
       "      <td>0.293501</td>\n",
       "    </tr>\n",
       "    <tr>\n",
       "      <th>NA</th>\n",
       "      <td>0.408240</td>\n",
       "      <td>0.591760</td>\n",
       "    </tr>\n",
       "    <tr>\n",
       "      <th>NO</th>\n",
       "      <td>0.000000</td>\n",
       "      <td>1.000000</td>\n",
       "    </tr>\n",
       "    <tr>\n",
       "      <th>UNCERTAIN</th>\n",
       "      <td>0.000000</td>\n",
       "      <td>1.000000</td>\n",
       "    </tr>\n",
       "    <tr>\n",
       "      <th>NOT SURE</th>\n",
       "      <td>0.000000</td>\n",
       "      <td>1.000000</td>\n",
       "    </tr>\n",
       "  </tbody>\n",
       "</table>\n",
       "</div>"
      ],
      "text/plain": [
       "                YES        NO\n",
       "YES        0.706499  0.293501\n",
       "NA         0.408240  0.591760\n",
       "NO         0.000000  1.000000\n",
       "UNCERTAIN  0.000000  1.000000\n",
       "NOT SURE   0.000000  1.000000"
      ]
     },
     "execution_count": 1063,
     "metadata": {},
     "output_type": "execute_result"
    }
   ],
   "source": [
    "yes = []\n",
    "no = []\n",
    "for val in list(x_data[\"Hope there will be no unscheduled meetings\"].unique()):\n",
    "    temp = x_data[x_data[\"Hope there will be no unscheduled meetings\"] == val]\n",
    "    yes.append(temp[temp[\"Observed Attendance\"] == \"YES\"].shape[0]/temp.shape[0])\n",
    "    no.append(temp[temp[\"Observed Attendance\"] == \"NO\"].shape[0]/temp.shape[0])\n",
    "di = {\"YES\":yes,\"NO\":no}\n",
    "loc = pd.DataFrame(di)\n",
    "loc.rename(index=pd.Series(x_data[\"Hope there will be no unscheduled meetings\"].unique()))"
   ]
  },
  {
   "cell_type": "code",
   "execution_count": 1064,
   "metadata": {},
   "outputs": [
    {
     "data": {
      "text/html": [
       "<div>\n",
       "<style scoped>\n",
       "    .dataframe tbody tr th:only-of-type {\n",
       "        vertical-align: middle;\n",
       "    }\n",
       "\n",
       "    .dataframe tbody tr th {\n",
       "        vertical-align: top;\n",
       "    }\n",
       "\n",
       "    .dataframe thead th {\n",
       "        text-align: right;\n",
       "    }\n",
       "</style>\n",
       "<table border=\"1\" class=\"dataframe\">\n",
       "  <thead>\n",
       "    <tr style=\"text-align: right;\">\n",
       "      <th></th>\n",
       "      <th>YES</th>\n",
       "      <th>NO</th>\n",
       "    </tr>\n",
       "  </thead>\n",
       "  <tbody>\n",
       "    <tr>\n",
       "      <th>YES</th>\n",
       "      <td>0.700524</td>\n",
       "      <td>0.299476</td>\n",
       "    </tr>\n",
       "    <tr>\n",
       "      <th>NA</th>\n",
       "      <td>0.408240</td>\n",
       "      <td>0.591760</td>\n",
       "    </tr>\n",
       "    <tr>\n",
       "      <th>NO</th>\n",
       "      <td>0.454545</td>\n",
       "      <td>0.545455</td>\n",
       "    </tr>\n",
       "  </tbody>\n",
       "</table>\n",
       "</div>"
      ],
      "text/plain": [
       "          YES        NO\n",
       "YES  0.700524  0.299476\n",
       "NA   0.408240  0.591760\n",
       "NO   0.454545  0.545455"
      ]
     },
     "execution_count": 1064,
     "metadata": {},
     "output_type": "execute_result"
    }
   ],
   "source": [
    "yes = []\n",
    "no = []\n",
    "for val in list(x_data[\"Can I Call you three hours before the interview and follow up on your attendance for the interview\"].unique()):\n",
    "    temp = x_data[x_data[\"Can I Call you three hours before the interview and follow up on your attendance for the interview\"] == val]\n",
    "    yes.append(temp[temp[\"Observed Attendance\"] == \"YES\"].shape[0]/temp.shape[0])\n",
    "    no.append(temp[temp[\"Observed Attendance\"] == \"NO\"].shape[0]/temp.shape[0])\n",
    "di = {\"YES\":yes,\"NO\":no}\n",
    "loc = pd.DataFrame(di)\n",
    "loc.rename(index=pd.Series(x_data[\"Can I Call you three hours before the interview and follow up on your attendance for the interview\"].unique()))"
   ]
  },
  {
   "cell_type": "code",
   "execution_count": 1065,
   "metadata": {},
   "outputs": [
    {
     "data": {
      "text/html": [
       "<div>\n",
       "<style scoped>\n",
       "    .dataframe tbody tr th:only-of-type {\n",
       "        vertical-align: middle;\n",
       "    }\n",
       "\n",
       "    .dataframe tbody tr th {\n",
       "        vertical-align: top;\n",
       "    }\n",
       "\n",
       "    .dataframe thead th {\n",
       "        text-align: right;\n",
       "    }\n",
       "</style>\n",
       "<table border=\"1\" class=\"dataframe\">\n",
       "  <thead>\n",
       "    <tr style=\"text-align: right;\">\n",
       "      <th></th>\n",
       "      <th>YES</th>\n",
       "      <th>NO</th>\n",
       "    </tr>\n",
       "  </thead>\n",
       "  <tbody>\n",
       "    <tr>\n",
       "      <th>YES</th>\n",
       "      <td>0.710779</td>\n",
       "      <td>0.289221</td>\n",
       "    </tr>\n",
       "    <tr>\n",
       "      <th>NA</th>\n",
       "      <td>0.408240</td>\n",
       "      <td>0.591760</td>\n",
       "    </tr>\n",
       "    <tr>\n",
       "      <th>NO</th>\n",
       "      <td>0.275862</td>\n",
       "      <td>0.724138</td>\n",
       "    </tr>\n",
       "  </tbody>\n",
       "</table>\n",
       "</div>"
      ],
      "text/plain": [
       "          YES        NO\n",
       "YES  0.710779  0.289221\n",
       "NA   0.408240  0.591760\n",
       "NO   0.275862  0.724138"
      ]
     },
     "execution_count": 1065,
     "metadata": {},
     "output_type": "execute_result"
    }
   ],
   "source": [
    "yes = []\n",
    "no = []\n",
    "for val in list(x_data[\"Can I have an alternative number/ desk number. I assure you that I will not trouble you too much\"].unique()):\n",
    "    temp = x_data[x_data[\"Can I have an alternative number/ desk number. I assure you that I will not trouble you too much\"] == val]\n",
    "    yes.append(temp[temp[\"Observed Attendance\"] == \"YES\"].shape[0]/temp.shape[0])\n",
    "    no.append(temp[temp[\"Observed Attendance\"] == \"NO\"].shape[0]/temp.shape[0])\n",
    "di = {\"YES\":yes,\"NO\":no}\n",
    "loc = pd.DataFrame(di)\n",
    "loc.rename(index=pd.Series(x_data[\"Can I have an alternative number/ desk number. I assure you that I will not trouble you too much\"].unique()))"
   ]
  },
  {
   "cell_type": "code",
   "execution_count": 1066,
   "metadata": {},
   "outputs": [
    {
     "data": {
      "text/html": [
       "<div>\n",
       "<style scoped>\n",
       "    .dataframe tbody tr th:only-of-type {\n",
       "        vertical-align: middle;\n",
       "    }\n",
       "\n",
       "    .dataframe tbody tr th {\n",
       "        vertical-align: top;\n",
       "    }\n",
       "\n",
       "    .dataframe thead th {\n",
       "        text-align: right;\n",
       "    }\n",
       "</style>\n",
       "<table border=\"1\" class=\"dataframe\">\n",
       "  <thead>\n",
       "    <tr style=\"text-align: right;\">\n",
       "      <th></th>\n",
       "      <th>YES</th>\n",
       "      <th>NO</th>\n",
       "    </tr>\n",
       "  </thead>\n",
       "  <tbody>\n",
       "    <tr>\n",
       "      <th>YES</th>\n",
       "      <td>0.711253</td>\n",
       "      <td>0.288747</td>\n",
       "    </tr>\n",
       "    <tr>\n",
       "      <th>NA</th>\n",
       "      <td>0.410448</td>\n",
       "      <td>0.589552</td>\n",
       "    </tr>\n",
       "    <tr>\n",
       "      <th>NO</th>\n",
       "      <td>0.130435</td>\n",
       "      <td>0.869565</td>\n",
       "    </tr>\n",
       "  </tbody>\n",
       "</table>\n",
       "</div>"
      ],
      "text/plain": [
       "          YES        NO\n",
       "YES  0.711253  0.288747\n",
       "NA   0.410448  0.589552\n",
       "NO   0.130435  0.869565"
      ]
     },
     "execution_count": 1066,
     "metadata": {},
     "output_type": "execute_result"
    }
   ],
   "source": [
    "yes = []\n",
    "no = []\n",
    "for val in list(x_data[\"Have you taken a printout of your updated resume. Have you read the JD and understood the same\"].unique()):\n",
    "    temp = x_data[x_data[\"Have you taken a printout of your updated resume. Have you read the JD and understood the same\"] == val]\n",
    "    yes.append(temp[temp[\"Observed Attendance\"] == \"YES\"].shape[0]/temp.shape[0])\n",
    "    no.append(temp[temp[\"Observed Attendance\"] == \"NO\"].shape[0]/temp.shape[0])\n",
    "di = {\"YES\":yes,\"NO\":no}\n",
    "loc = pd.DataFrame(di)\n",
    "loc.rename(index=pd.Series(x_data[\"Have you taken a printout of your updated resume. Have you read the JD and understood the same\"].unique()))"
   ]
  },
  {
   "cell_type": "code",
   "execution_count": 1067,
   "metadata": {},
   "outputs": [
    {
     "data": {
      "text/html": [
       "<div>\n",
       "<style scoped>\n",
       "    .dataframe tbody tr th:only-of-type {\n",
       "        vertical-align: middle;\n",
       "    }\n",
       "\n",
       "    .dataframe tbody tr th {\n",
       "        vertical-align: top;\n",
       "    }\n",
       "\n",
       "    .dataframe thead th {\n",
       "        text-align: right;\n",
       "    }\n",
       "</style>\n",
       "<table border=\"1\" class=\"dataframe\">\n",
       "  <thead>\n",
       "    <tr style=\"text-align: right;\">\n",
       "      <th></th>\n",
       "      <th>YES</th>\n",
       "      <th>NO</th>\n",
       "    </tr>\n",
       "  </thead>\n",
       "  <tbody>\n",
       "    <tr>\n",
       "      <th>YES</th>\n",
       "      <td>0.706751</td>\n",
       "      <td>0.293249</td>\n",
       "    </tr>\n",
       "    <tr>\n",
       "      <th>NA</th>\n",
       "      <td>0.410448</td>\n",
       "      <td>0.589552</td>\n",
       "    </tr>\n",
       "    <tr>\n",
       "      <th>NO</th>\n",
       "      <td>0.176471</td>\n",
       "      <td>0.823529</td>\n",
       "    </tr>\n",
       "  </tbody>\n",
       "</table>\n",
       "</div>"
      ],
      "text/plain": [
       "          YES        NO\n",
       "YES  0.706751  0.293249\n",
       "NA   0.410448  0.589552\n",
       "NO   0.176471  0.823529"
      ]
     },
     "execution_count": 1067,
     "metadata": {},
     "output_type": "execute_result"
    }
   ],
   "source": [
    "yes = []\n",
    "no = []\n",
    "for val in list(x_data[\"Are you clear with the venue details and the landmark.\"].unique()):\n",
    "    temp = x_data[x_data[\"Are you clear with the venue details and the landmark.\"] == val]\n",
    "    yes.append(temp[temp[\"Observed Attendance\"] == \"YES\"].shape[0]/temp.shape[0])\n",
    "    no.append(temp[temp[\"Observed Attendance\"] == \"NO\"].shape[0]/temp.shape[0])\n",
    "di = {\"YES\":yes,\"NO\":no}\n",
    "loc = pd.DataFrame(di)\n",
    "loc.rename(index=pd.Series(x_data[\"Are you clear with the venue details and the landmark.\"].unique()))"
   ]
  },
  {
   "cell_type": "code",
   "execution_count": 1068,
   "metadata": {},
   "outputs": [
    {
     "data": {
      "text/html": [
       "<div>\n",
       "<style scoped>\n",
       "    .dataframe tbody tr th:only-of-type {\n",
       "        vertical-align: middle;\n",
       "    }\n",
       "\n",
       "    .dataframe tbody tr th {\n",
       "        vertical-align: top;\n",
       "    }\n",
       "\n",
       "    .dataframe thead th {\n",
       "        text-align: right;\n",
       "    }\n",
       "</style>\n",
       "<table border=\"1\" class=\"dataframe\">\n",
       "  <thead>\n",
       "    <tr style=\"text-align: right;\">\n",
       "      <th></th>\n",
       "      <th>YES</th>\n",
       "      <th>NO</th>\n",
       "    </tr>\n",
       "  </thead>\n",
       "  <tbody>\n",
       "    <tr>\n",
       "      <th>YES</th>\n",
       "      <td>0.715203</td>\n",
       "      <td>0.284797</td>\n",
       "    </tr>\n",
       "    <tr>\n",
       "      <th>NA</th>\n",
       "      <td>0.411321</td>\n",
       "      <td>0.588679</td>\n",
       "    </tr>\n",
       "    <tr>\n",
       "      <th>UNCERTAIN</th>\n",
       "      <td>0.214286</td>\n",
       "      <td>0.785714</td>\n",
       "    </tr>\n",
       "    <tr>\n",
       "      <th>NO</th>\n",
       "      <td>0.150000</td>\n",
       "      <td>0.850000</td>\n",
       "    </tr>\n",
       "  </tbody>\n",
       "</table>\n",
       "</div>"
      ],
      "text/plain": [
       "                YES        NO\n",
       "YES        0.715203  0.284797\n",
       "NA         0.411321  0.588679\n",
       "UNCERTAIN  0.214286  0.785714\n",
       "NO         0.150000  0.850000"
      ]
     },
     "execution_count": 1068,
     "metadata": {},
     "output_type": "execute_result"
    }
   ],
   "source": [
    "yes = []\n",
    "no = []\n",
    "for val in list(x_data[\"Has the call letter been shared\"].unique()):\n",
    "    temp = x_data[x_data[\"Has the call letter been shared\"] == val]\n",
    "    yes.append(temp[temp[\"Observed Attendance\"] == \"YES\"].shape[0]/temp.shape[0])\n",
    "    no.append(temp[temp[\"Observed Attendance\"] == \"NO\"].shape[0]/temp.shape[0])\n",
    "di = {\"YES\":yes,\"NO\":no}\n",
    "loc = pd.DataFrame(di)\n",
    "loc.rename(index=pd.Series(x_data[\"Has the call letter been shared\"].unique()))"
   ]
  },
  {
   "cell_type": "code",
   "execution_count": 1069,
   "metadata": {},
   "outputs": [
    {
     "data": {
      "text/html": [
       "<div>\n",
       "<style scoped>\n",
       "    .dataframe tbody tr th:only-of-type {\n",
       "        vertical-align: middle;\n",
       "    }\n",
       "\n",
       "    .dataframe tbody tr th {\n",
       "        vertical-align: top;\n",
       "    }\n",
       "\n",
       "    .dataframe thead th {\n",
       "        text-align: right;\n",
       "    }\n",
       "</style>\n",
       "<table border=\"1\" class=\"dataframe\">\n",
       "  <thead>\n",
       "    <tr style=\"text-align: right;\">\n",
       "      <th></th>\n",
       "      <th>YES</th>\n",
       "      <th>NO</th>\n",
       "    </tr>\n",
       "  </thead>\n",
       "  <tbody>\n",
       "    <tr>\n",
       "      <th>YES</th>\n",
       "      <td>0.738983</td>\n",
       "      <td>0.261017</td>\n",
       "    </tr>\n",
       "    <tr>\n",
       "      <th>UNCERTAIN</th>\n",
       "      <td>0.501961</td>\n",
       "      <td>0.498039</td>\n",
       "    </tr>\n",
       "    <tr>\n",
       "      <th>NO</th>\n",
       "      <td>0.010753</td>\n",
       "      <td>0.989247</td>\n",
       "    </tr>\n",
       "  </tbody>\n",
       "</table>\n",
       "</div>"
      ],
      "text/plain": [
       "                YES        NO\n",
       "YES        0.738983  0.261017\n",
       "UNCERTAIN  0.501961  0.498039\n",
       "NO         0.010753  0.989247"
      ]
     },
     "execution_count": 1069,
     "metadata": {},
     "output_type": "execute_result"
    }
   ],
   "source": [
    "yes = []\n",
    "no = []\n",
    "for val in list(x_data[\"Expected Attendance\"].unique()):\n",
    "    temp = x_data[x_data[\"Expected Attendance\"] == val]\n",
    "    yes.append(temp[temp[\"Observed Attendance\"] == \"YES\"].shape[0]/temp.shape[0])\n",
    "    no.append(temp[temp[\"Observed Attendance\"] == \"NO\"].shape[0]/temp.shape[0])\n",
    "di = {\"YES\":yes,\"NO\":no}\n",
    "loc = pd.DataFrame(di)\n",
    "loc.rename(index=pd.Series(x_data[\"Expected Attendance\"].unique()))"
   ]
  },
  {
   "cell_type": "code",
   "execution_count": 1070,
   "metadata": {},
   "outputs": [
    {
     "data": {
      "text/html": [
       "<div>\n",
       "<style scoped>\n",
       "    .dataframe tbody tr th:only-of-type {\n",
       "        vertical-align: middle;\n",
       "    }\n",
       "\n",
       "    .dataframe tbody tr th {\n",
       "        vertical-align: top;\n",
       "    }\n",
       "\n",
       "    .dataframe thead th {\n",
       "        text-align: right;\n",
       "    }\n",
       "</style>\n",
       "<table border=\"1\" class=\"dataframe\">\n",
       "  <thead>\n",
       "    <tr style=\"text-align: right;\">\n",
       "      <th></th>\n",
       "      <th>YES</th>\n",
       "      <th>NO</th>\n",
       "    </tr>\n",
       "  </thead>\n",
       "  <tbody>\n",
       "    <tr>\n",
       "      <th>SINGLE</th>\n",
       "      <td>0.642764</td>\n",
       "      <td>0.357236</td>\n",
       "    </tr>\n",
       "    <tr>\n",
       "      <th>MARRIED</th>\n",
       "      <td>0.622318</td>\n",
       "      <td>0.377682</td>\n",
       "    </tr>\n",
       "  </tbody>\n",
       "</table>\n",
       "</div>"
      ],
      "text/plain": [
       "              YES        NO\n",
       "SINGLE   0.642764  0.357236\n",
       "MARRIED  0.622318  0.377682"
      ]
     },
     "execution_count": 1070,
     "metadata": {},
     "output_type": "execute_result"
    }
   ],
   "source": [
    "yes = []\n",
    "no = []\n",
    "for val in list(x_data[\"Marital Status\"].unique()):\n",
    "    temp = x_data[x_data[\"Marital Status\"] == val]\n",
    "    yes.append(temp[temp[\"Observed Attendance\"] == \"YES\"].shape[0]/temp.shape[0])\n",
    "    no.append(temp[temp[\"Observed Attendance\"] == \"NO\"].shape[0]/temp.shape[0])\n",
    "di = {\"YES\":yes,\"NO\":no}\n",
    "loc = pd.DataFrame(di)\n",
    "loc.rename(index=pd.Series(x_data[\"Marital Status\"].unique()))"
   ]
  },
  {
   "cell_type": "markdown",
   "metadata": {},
   "source": [
    "# Label Encoding"
   ]
  },
  {
   "cell_type": "code",
   "execution_count": 1071,
   "metadata": {},
   "outputs": [],
   "source": [
    "le = preprocessing.LabelEncoder()"
   ]
  },
  {
   "cell_type": "code",
   "execution_count": 1072,
   "metadata": {},
   "outputs": [],
   "source": [
    "for cols in x_data.columns:\n",
    "    x_data[cols] = le.fit_transform(x_data[cols])"
   ]
  },
  {
   "cell_type": "code",
   "execution_count": 1073,
   "metadata": {},
   "outputs": [
    {
     "data": {
      "text/html": [
       "<div>\n",
       "<style scoped>\n",
       "    .dataframe tbody tr th:only-of-type {\n",
       "        vertical-align: middle;\n",
       "    }\n",
       "\n",
       "    .dataframe tbody tr th {\n",
       "        vertical-align: top;\n",
       "    }\n",
       "\n",
       "    .dataframe thead th {\n",
       "        text-align: right;\n",
       "    }\n",
       "</style>\n",
       "<table border=\"1\" class=\"dataframe\">\n",
       "  <thead>\n",
       "    <tr style=\"text-align: right;\">\n",
       "      <th></th>\n",
       "      <th>Date of Interview</th>\n",
       "      <th>Client name</th>\n",
       "      <th>Industry</th>\n",
       "      <th>Location</th>\n",
       "      <th>Position to be closed</th>\n",
       "      <th>Nature of Skillset</th>\n",
       "      <th>Interview Type</th>\n",
       "      <th>Name(Cand ID)</th>\n",
       "      <th>Gender</th>\n",
       "      <th>Candidate Current Location</th>\n",
       "      <th>Candidate Job Location</th>\n",
       "      <th>Interview Venue</th>\n",
       "      <th>Candidate Native location</th>\n",
       "      <th>Have you obtained the necessary permission to start at the required time</th>\n",
       "      <th>Hope there will be no unscheduled meetings</th>\n",
       "      <th>Can I Call you three hours before the interview and follow up on your attendance for the interview</th>\n",
       "      <th>Can I have an alternative number/ desk number. I assure you that I will not trouble you too much</th>\n",
       "      <th>Have you taken a printout of your updated resume. Have you read the JD and understood the same</th>\n",
       "      <th>Are you clear with the venue details and the landmark.</th>\n",
       "      <th>Has the call letter been shared</th>\n",
       "      <th>Expected Attendance</th>\n",
       "      <th>Observed Attendance</th>\n",
       "      <th>Marital Status</th>\n",
       "    </tr>\n",
       "  </thead>\n",
       "  <tbody>\n",
       "    <tr>\n",
       "      <th>0</th>\n",
       "      <td>20</td>\n",
       "      <td>7</td>\n",
       "      <td>5</td>\n",
       "      <td>1</td>\n",
       "      <td>3</td>\n",
       "      <td>47</td>\n",
       "      <td>1</td>\n",
       "      <td>0</td>\n",
       "      <td>1</td>\n",
       "      <td>1</td>\n",
       "      <td>4</td>\n",
       "      <td>4</td>\n",
       "      <td>21</td>\n",
       "      <td>3</td>\n",
       "      <td>4</td>\n",
       "      <td>2</td>\n",
       "      <td>2</td>\n",
       "      <td>2</td>\n",
       "      <td>2</td>\n",
       "      <td>3</td>\n",
       "      <td>2</td>\n",
       "      <td>0</td>\n",
       "      <td>1</td>\n",
       "    </tr>\n",
       "    <tr>\n",
       "      <th>1</th>\n",
       "      <td>20</td>\n",
       "      <td>7</td>\n",
       "      <td>5</td>\n",
       "      <td>1</td>\n",
       "      <td>3</td>\n",
       "      <td>47</td>\n",
       "      <td>1</td>\n",
       "      <td>345</td>\n",
       "      <td>1</td>\n",
       "      <td>1</td>\n",
       "      <td>0</td>\n",
       "      <td>4</td>\n",
       "      <td>38</td>\n",
       "      <td>3</td>\n",
       "      <td>4</td>\n",
       "      <td>2</td>\n",
       "      <td>2</td>\n",
       "      <td>2</td>\n",
       "      <td>2</td>\n",
       "      <td>3</td>\n",
       "      <td>2</td>\n",
       "      <td>0</td>\n",
       "      <td>1</td>\n",
       "    </tr>\n",
       "    <tr>\n",
       "      <th>2</th>\n",
       "      <td>20</td>\n",
       "      <td>7</td>\n",
       "      <td>5</td>\n",
       "      <td>1</td>\n",
       "      <td>3</td>\n",
       "      <td>47</td>\n",
       "      <td>1</td>\n",
       "      <td>456</td>\n",
       "      <td>1</td>\n",
       "      <td>1</td>\n",
       "      <td>1</td>\n",
       "      <td>4</td>\n",
       "      <td>10</td>\n",
       "      <td>0</td>\n",
       "      <td>0</td>\n",
       "      <td>0</td>\n",
       "      <td>0</td>\n",
       "      <td>0</td>\n",
       "      <td>0</td>\n",
       "      <td>0</td>\n",
       "      <td>1</td>\n",
       "      <td>0</td>\n",
       "      <td>1</td>\n",
       "    </tr>\n",
       "    <tr>\n",
       "      <th>3</th>\n",
       "      <td>20</td>\n",
       "      <td>7</td>\n",
       "      <td>5</td>\n",
       "      <td>1</td>\n",
       "      <td>3</td>\n",
       "      <td>47</td>\n",
       "      <td>1</td>\n",
       "      <td>567</td>\n",
       "      <td>1</td>\n",
       "      <td>1</td>\n",
       "      <td>1</td>\n",
       "      <td>4</td>\n",
       "      <td>10</td>\n",
       "      <td>3</td>\n",
       "      <td>4</td>\n",
       "      <td>1</td>\n",
       "      <td>2</td>\n",
       "      <td>1</td>\n",
       "      <td>2</td>\n",
       "      <td>3</td>\n",
       "      <td>1</td>\n",
       "      <td>0</td>\n",
       "      <td>1</td>\n",
       "    </tr>\n",
       "    <tr>\n",
       "      <th>4</th>\n",
       "      <td>20</td>\n",
       "      <td>7</td>\n",
       "      <td>5</td>\n",
       "      <td>1</td>\n",
       "      <td>3</td>\n",
       "      <td>47</td>\n",
       "      <td>1</td>\n",
       "      <td>678</td>\n",
       "      <td>1</td>\n",
       "      <td>1</td>\n",
       "      <td>0</td>\n",
       "      <td>4</td>\n",
       "      <td>10</td>\n",
       "      <td>3</td>\n",
       "      <td>4</td>\n",
       "      <td>2</td>\n",
       "      <td>1</td>\n",
       "      <td>2</td>\n",
       "      <td>2</td>\n",
       "      <td>3</td>\n",
       "      <td>1</td>\n",
       "      <td>0</td>\n",
       "      <td>0</td>\n",
       "    </tr>\n",
       "    <tr>\n",
       "      <th>5</th>\n",
       "      <td>20</td>\n",
       "      <td>1</td>\n",
       "      <td>4</td>\n",
       "      <td>4</td>\n",
       "      <td>5</td>\n",
       "      <td>47</td>\n",
       "      <td>1</td>\n",
       "      <td>789</td>\n",
       "      <td>1</td>\n",
       "      <td>4</td>\n",
       "      <td>3</td>\n",
       "      <td>3</td>\n",
       "      <td>19</td>\n",
       "      <td>3</td>\n",
       "      <td>4</td>\n",
       "      <td>2</td>\n",
       "      <td>2</td>\n",
       "      <td>2</td>\n",
       "      <td>2</td>\n",
       "      <td>3</td>\n",
       "      <td>2</td>\n",
       "      <td>1</td>\n",
       "      <td>1</td>\n",
       "    </tr>\n",
       "    <tr>\n",
       "      <th>6</th>\n",
       "      <td>20</td>\n",
       "      <td>1</td>\n",
       "      <td>4</td>\n",
       "      <td>4</td>\n",
       "      <td>5</td>\n",
       "      <td>47</td>\n",
       "      <td>1</td>\n",
       "      <td>900</td>\n",
       "      <td>1</td>\n",
       "      <td>4</td>\n",
       "      <td>3</td>\n",
       "      <td>3</td>\n",
       "      <td>19</td>\n",
       "      <td>3</td>\n",
       "      <td>4</td>\n",
       "      <td>2</td>\n",
       "      <td>2</td>\n",
       "      <td>2</td>\n",
       "      <td>2</td>\n",
       "      <td>3</td>\n",
       "      <td>2</td>\n",
       "      <td>1</td>\n",
       "      <td>1</td>\n",
       "    </tr>\n",
       "    <tr>\n",
       "      <th>7</th>\n",
       "      <td>20</td>\n",
       "      <td>1</td>\n",
       "      <td>4</td>\n",
       "      <td>4</td>\n",
       "      <td>5</td>\n",
       "      <td>47</td>\n",
       "      <td>1</td>\n",
       "      <td>1011</td>\n",
       "      <td>0</td>\n",
       "      <td>4</td>\n",
       "      <td>3</td>\n",
       "      <td>3</td>\n",
       "      <td>30</td>\n",
       "      <td>3</td>\n",
       "      <td>4</td>\n",
       "      <td>2</td>\n",
       "      <td>2</td>\n",
       "      <td>2</td>\n",
       "      <td>2</td>\n",
       "      <td>3</td>\n",
       "      <td>2</td>\n",
       "      <td>1</td>\n",
       "      <td>1</td>\n",
       "    </tr>\n",
       "    <tr>\n",
       "      <th>8</th>\n",
       "      <td>20</td>\n",
       "      <td>1</td>\n",
       "      <td>4</td>\n",
       "      <td>4</td>\n",
       "      <td>5</td>\n",
       "      <td>47</td>\n",
       "      <td>1</td>\n",
       "      <td>1122</td>\n",
       "      <td>1</td>\n",
       "      <td>4</td>\n",
       "      <td>3</td>\n",
       "      <td>3</td>\n",
       "      <td>16</td>\n",
       "      <td>3</td>\n",
       "      <td>4</td>\n",
       "      <td>2</td>\n",
       "      <td>2</td>\n",
       "      <td>2</td>\n",
       "      <td>2</td>\n",
       "      <td>3</td>\n",
       "      <td>2</td>\n",
       "      <td>1</td>\n",
       "      <td>1</td>\n",
       "    </tr>\n",
       "    <tr>\n",
       "      <th>9</th>\n",
       "      <td>20</td>\n",
       "      <td>1</td>\n",
       "      <td>4</td>\n",
       "      <td>4</td>\n",
       "      <td>5</td>\n",
       "      <td>47</td>\n",
       "      <td>1</td>\n",
       "      <td>1</td>\n",
       "      <td>0</td>\n",
       "      <td>4</td>\n",
       "      <td>3</td>\n",
       "      <td>3</td>\n",
       "      <td>16</td>\n",
       "      <td>3</td>\n",
       "      <td>4</td>\n",
       "      <td>2</td>\n",
       "      <td>2</td>\n",
       "      <td>2</td>\n",
       "      <td>2</td>\n",
       "      <td>3</td>\n",
       "      <td>2</td>\n",
       "      <td>0</td>\n",
       "      <td>1</td>\n",
       "    </tr>\n",
       "  </tbody>\n",
       "</table>\n",
       "</div>"
      ],
      "text/plain": [
       "   Date of Interview  Client name  Industry  Location  Position to be closed  \\\n",
       "0                 20            7         5         1                      3   \n",
       "1                 20            7         5         1                      3   \n",
       "2                 20            7         5         1                      3   \n",
       "3                 20            7         5         1                      3   \n",
       "4                 20            7         5         1                      3   \n",
       "5                 20            1         4         4                      5   \n",
       "6                 20            1         4         4                      5   \n",
       "7                 20            1         4         4                      5   \n",
       "8                 20            1         4         4                      5   \n",
       "9                 20            1         4         4                      5   \n",
       "\n",
       "   Nature of Skillset  Interview Type  Name(Cand ID)  Gender  \\\n",
       "0                  47               1              0       1   \n",
       "1                  47               1            345       1   \n",
       "2                  47               1            456       1   \n",
       "3                  47               1            567       1   \n",
       "4                  47               1            678       1   \n",
       "5                  47               1            789       1   \n",
       "6                  47               1            900       1   \n",
       "7                  47               1           1011       0   \n",
       "8                  47               1           1122       1   \n",
       "9                  47               1              1       0   \n",
       "\n",
       "   Candidate Current Location  Candidate Job Location  Interview Venue  \\\n",
       "0                           1                       4                4   \n",
       "1                           1                       0                4   \n",
       "2                           1                       1                4   \n",
       "3                           1                       1                4   \n",
       "4                           1                       0                4   \n",
       "5                           4                       3                3   \n",
       "6                           4                       3                3   \n",
       "7                           4                       3                3   \n",
       "8                           4                       3                3   \n",
       "9                           4                       3                3   \n",
       "\n",
       "   Candidate Native location  \\\n",
       "0                         21   \n",
       "1                         38   \n",
       "2                         10   \n",
       "3                         10   \n",
       "4                         10   \n",
       "5                         19   \n",
       "6                         19   \n",
       "7                         30   \n",
       "8                         16   \n",
       "9                         16   \n",
       "\n",
       "   Have you obtained the necessary permission to start at the required time  \\\n",
       "0                                                  3                          \n",
       "1                                                  3                          \n",
       "2                                                  0                          \n",
       "3                                                  3                          \n",
       "4                                                  3                          \n",
       "5                                                  3                          \n",
       "6                                                  3                          \n",
       "7                                                  3                          \n",
       "8                                                  3                          \n",
       "9                                                  3                          \n",
       "\n",
       "   Hope there will be no unscheduled meetings  \\\n",
       "0                                           4   \n",
       "1                                           4   \n",
       "2                                           0   \n",
       "3                                           4   \n",
       "4                                           4   \n",
       "5                                           4   \n",
       "6                                           4   \n",
       "7                                           4   \n",
       "8                                           4   \n",
       "9                                           4   \n",
       "\n",
       "   Can I Call you three hours before the interview and follow up on your attendance for the interview  \\\n",
       "0                                                  2                                                    \n",
       "1                                                  2                                                    \n",
       "2                                                  0                                                    \n",
       "3                                                  1                                                    \n",
       "4                                                  2                                                    \n",
       "5                                                  2                                                    \n",
       "6                                                  2                                                    \n",
       "7                                                  2                                                    \n",
       "8                                                  2                                                    \n",
       "9                                                  2                                                    \n",
       "\n",
       "   Can I have an alternative number/ desk number. I assure you that I will not trouble you too much  \\\n",
       "0                                                  2                                                  \n",
       "1                                                  2                                                  \n",
       "2                                                  0                                                  \n",
       "3                                                  2                                                  \n",
       "4                                                  1                                                  \n",
       "5                                                  2                                                  \n",
       "6                                                  2                                                  \n",
       "7                                                  2                                                  \n",
       "8                                                  2                                                  \n",
       "9                                                  2                                                  \n",
       "\n",
       "   Have you taken a printout of your updated resume. Have you read the JD and understood the same  \\\n",
       "0                                                  2                                                \n",
       "1                                                  2                                                \n",
       "2                                                  0                                                \n",
       "3                                                  1                                                \n",
       "4                                                  2                                                \n",
       "5                                                  2                                                \n",
       "6                                                  2                                                \n",
       "7                                                  2                                                \n",
       "8                                                  2                                                \n",
       "9                                                  2                                                \n",
       "\n",
       "   Are you clear with the venue details and the landmark.  \\\n",
       "0                                                  2        \n",
       "1                                                  2        \n",
       "2                                                  0        \n",
       "3                                                  2        \n",
       "4                                                  2        \n",
       "5                                                  2        \n",
       "6                                                  2        \n",
       "7                                                  2        \n",
       "8                                                  2        \n",
       "9                                                  2        \n",
       "\n",
       "   Has the call letter been shared  Expected Attendance  Observed Attendance  \\\n",
       "0                                3                    2                    0   \n",
       "1                                3                    2                    0   \n",
       "2                                0                    1                    0   \n",
       "3                                3                    1                    0   \n",
       "4                                3                    1                    0   \n",
       "5                                3                    2                    1   \n",
       "6                                3                    2                    1   \n",
       "7                                3                    2                    1   \n",
       "8                                3                    2                    1   \n",
       "9                                3                    2                    0   \n",
       "\n",
       "   Marital Status  \n",
       "0               1  \n",
       "1               1  \n",
       "2               1  \n",
       "3               1  \n",
       "4               0  \n",
       "5               1  \n",
       "6               1  \n",
       "7               1  \n",
       "8               1  \n",
       "9               1  "
      ]
     },
     "execution_count": 1073,
     "metadata": {},
     "output_type": "execute_result"
    }
   ],
   "source": [
    "x_data.head(10) # LABEL ENCODED DATASET"
   ]
  },
  {
   "cell_type": "markdown",
   "metadata": {},
   "source": [
    "# Feature Selection"
   ]
  },
  {
   "cell_type": "code",
   "execution_count": 1190,
   "metadata": {
    "scrolled": false
   },
   "outputs": [
    {
     "data": {
      "text/plain": [
       "Index(['Date of Interview', 'Client name', 'Industry', 'Location',\n",
       "       'Position to be closed', 'Nature of Skillset', 'Interview Type',\n",
       "       'Name(Cand ID)', 'Gender', 'Candidate Current Location',\n",
       "       'Candidate Job Location', 'Interview Venue',\n",
       "       'Candidate Native location',\n",
       "       'Have you obtained the necessary permission to start at the required time',\n",
       "       'Hope there will be no unscheduled meetings',\n",
       "       'Can I Call you three hours before the interview and follow up on your attendance for the interview',\n",
       "       'Can I have an alternative number/ desk number. I assure you that I will not trouble you too much',\n",
       "       'Have you taken a printout of your updated resume. Have you read the JD and understood the same',\n",
       "       'Are you clear with the venue details and the landmark.',\n",
       "       'Has the call letter been shared', 'Expected Attendance',\n",
       "       'Observed Attendance', 'Marital Status'],\n",
       "      dtype='object')"
      ]
     },
     "execution_count": 1190,
     "metadata": {},
     "output_type": "execute_result"
    }
   ],
   "source": [
    "x_data.columns"
   ]
  },
  {
   "cell_type": "code",
   "execution_count": 1192,
   "metadata": {},
   "outputs": [],
   "source": [
    "X = x_data.drop(\"Observed Attendance\", axis=1)     # INDEPENDENT VARIABLE\n",
    "y = x_data[\"Observed Attendance\"]                 # DEPENDENT VARIBALE"
   ]
  },
  {
   "cell_type": "code",
   "execution_count": 1193,
   "metadata": {},
   "outputs": [
    {
     "data": {
      "text/html": [
       "<div>\n",
       "<style scoped>\n",
       "    .dataframe tbody tr th:only-of-type {\n",
       "        vertical-align: middle;\n",
       "    }\n",
       "\n",
       "    .dataframe tbody tr th {\n",
       "        vertical-align: top;\n",
       "    }\n",
       "\n",
       "    .dataframe thead th {\n",
       "        text-align: right;\n",
       "    }\n",
       "</style>\n",
       "<table border=\"1\" class=\"dataframe\">\n",
       "  <thead>\n",
       "    <tr style=\"text-align: right;\">\n",
       "      <th></th>\n",
       "      <th>Date of Interview</th>\n",
       "      <th>Client name</th>\n",
       "      <th>Industry</th>\n",
       "      <th>Location</th>\n",
       "      <th>Position to be closed</th>\n",
       "      <th>Nature of Skillset</th>\n",
       "      <th>Interview Type</th>\n",
       "      <th>Name(Cand ID)</th>\n",
       "      <th>Gender</th>\n",
       "      <th>Candidate Current Location</th>\n",
       "      <th>Candidate Job Location</th>\n",
       "      <th>Interview Venue</th>\n",
       "      <th>Candidate Native location</th>\n",
       "      <th>Have you obtained the necessary permission to start at the required time</th>\n",
       "      <th>Hope there will be no unscheduled meetings</th>\n",
       "      <th>Can I Call you three hours before the interview and follow up on your attendance for the interview</th>\n",
       "      <th>Can I have an alternative number/ desk number. I assure you that I will not trouble you too much</th>\n",
       "      <th>Have you taken a printout of your updated resume. Have you read the JD and understood the same</th>\n",
       "      <th>Are you clear with the venue details and the landmark.</th>\n",
       "      <th>Has the call letter been shared</th>\n",
       "      <th>Expected Attendance</th>\n",
       "      <th>Marital Status</th>\n",
       "    </tr>\n",
       "  </thead>\n",
       "  <tbody>\n",
       "    <tr>\n",
       "      <th>F-value</th>\n",
       "      <td>0.022348</td>\n",
       "      <td>7.643471</td>\n",
       "      <td>2.791987</td>\n",
       "      <td>2.525074</td>\n",
       "      <td>2.930216</td>\n",
       "      <td>0.131359</td>\n",
       "      <td>9.678938</td>\n",
       "      <td>3.635705</td>\n",
       "      <td>0.029016</td>\n",
       "      <td>2.525074</td>\n",
       "      <td>3.206110</td>\n",
       "      <td>1.403917</td>\n",
       "      <td>-0.00018</td>\n",
       "      <td>9.785040e+01</td>\n",
       "      <td>9.293990e+01</td>\n",
       "      <td>8.314035e+01</td>\n",
       "      <td>9.561165e+01</td>\n",
       "      <td>9.613106e+01</td>\n",
       "      <td>9.032770e+01</td>\n",
       "      <td>1.015842e+02</td>\n",
       "      <td>248.385208</td>\n",
       "      <td>0.522362</td>\n",
       "    </tr>\n",
       "    <tr>\n",
       "      <th>Probability</th>\n",
       "      <td>0.881189</td>\n",
       "      <td>0.005783</td>\n",
       "      <td>0.094991</td>\n",
       "      <td>0.112306</td>\n",
       "      <td>0.087188</td>\n",
       "      <td>0.717089</td>\n",
       "      <td>0.001907</td>\n",
       "      <td>0.056785</td>\n",
       "      <td>0.864771</td>\n",
       "      <td>0.112306</td>\n",
       "      <td>0.073609</td>\n",
       "      <td>0.236298</td>\n",
       "      <td>NaN</td>\n",
       "      <td>2.972711e-22</td>\n",
       "      <td>2.971117e-21</td>\n",
       "      <td>3.026249e-19</td>\n",
       "      <td>8.480777e-22</td>\n",
       "      <td>6.648576e-22</td>\n",
       "      <td>1.015052e-20</td>\n",
       "      <td>5.197115e-23</td>\n",
       "      <td>0.000000</td>\n",
       "      <td>0.469973</td>\n",
       "    </tr>\n",
       "  </tbody>\n",
       "</table>\n",
       "</div>"
      ],
      "text/plain": [
       "             Date of Interview  Client name  Industry  Location  \\\n",
       "F-value               0.022348     7.643471  2.791987  2.525074   \n",
       "Probability           0.881189     0.005783  0.094991  0.112306   \n",
       "\n",
       "             Position to be closed  Nature of Skillset  Interview Type  \\\n",
       "F-value                   2.930216            0.131359        9.678938   \n",
       "Probability               0.087188            0.717089        0.001907   \n",
       "\n",
       "             Name(Cand ID)    Gender  Candidate Current Location  \\\n",
       "F-value           3.635705  0.029016                    2.525074   \n",
       "Probability       0.056785  0.864771                    0.112306   \n",
       "\n",
       "             Candidate Job Location  Interview Venue  \\\n",
       "F-value                    3.206110         1.403917   \n",
       "Probability                0.073609         0.236298   \n",
       "\n",
       "             Candidate Native location  \\\n",
       "F-value                       -0.00018   \n",
       "Probability                        NaN   \n",
       "\n",
       "             Have you obtained the necessary permission to start at the required time  \\\n",
       "F-value                                           9.785040e+01                          \n",
       "Probability                                       2.972711e-22                          \n",
       "\n",
       "             Hope there will be no unscheduled meetings  \\\n",
       "F-value                                    9.293990e+01   \n",
       "Probability                                2.971117e-21   \n",
       "\n",
       "             Can I Call you three hours before the interview and follow up on your attendance for the interview  \\\n",
       "F-value                                           8.314035e+01                                                    \n",
       "Probability                                       3.026249e-19                                                    \n",
       "\n",
       "             Can I have an alternative number/ desk number. I assure you that I will not trouble you too much  \\\n",
       "F-value                                           9.561165e+01                                                  \n",
       "Probability                                       8.480777e-22                                                  \n",
       "\n",
       "             Have you taken a printout of your updated resume. Have you read the JD and understood the same  \\\n",
       "F-value                                           9.613106e+01                                                \n",
       "Probability                                       6.648576e-22                                                \n",
       "\n",
       "             Are you clear with the venue details and the landmark.  \\\n",
       "F-value                                           9.032770e+01        \n",
       "Probability                                       1.015052e-20        \n",
       "\n",
       "             Has the call letter been shared  Expected Attendance  \\\n",
       "F-value                         1.015842e+02           248.385208   \n",
       "Probability                     5.197115e-23             0.000000   \n",
       "\n",
       "             Marital Status  \n",
       "F-value            0.522362  \n",
       "Probability        0.469973  "
      ]
     },
     "execution_count": 1193,
     "metadata": {},
     "output_type": "execute_result"
    }
   ],
   "source": [
    "di = {}\n",
    "fvalue, prob = feature_selection.f_classif(X,y)\n",
    "for col,f,p in zip(X.columns,fvalue,prob):\n",
    "    di[col] = [f,p]\n",
    "f_p = pd.DataFrame(di)\n",
    "f_p.rename(index={0:\"F-value\",1:\"Probability\"})"
   ]
  },
  {
   "cell_type": "code",
   "execution_count": 1194,
   "metadata": {},
   "outputs": [],
   "source": [
    "X.drop([\"Gender\",\"Marital Status\",\"Candidate Native location\",\"Candidate Job Location\",\"Nature of Skillset\",\"Industry\", \"Location\",\"Name(Cand ID)\",\"Date of Interview\"], axis=1, inplace=True)"
   ]
  },
  {
   "cell_type": "code",
   "execution_count": 1191,
   "metadata": {},
   "outputs": [],
   "source": [
    "X = utils.shuffle(x_data,random_state=42)"
   ]
  },
  {
   "cell_type": "code",
   "execution_count": 1186,
   "metadata": {
    "scrolled": true
   },
   "outputs": [
    {
     "data": {
      "text/plain": [
       "Index(['Client name', 'Position to be closed', 'Interview Type',\n",
       "       'Candidate Current Location', 'Interview Venue',\n",
       "       'Have you obtained the necessary permission to start at the required time',\n",
       "       'Hope there will be no unscheduled meetings',\n",
       "       'Can I Call you three hours before the interview and follow up on your attendance for the interview',\n",
       "       'Can I have an alternative number/ desk number. I assure you that I will not trouble you too much',\n",
       "       'Have you taken a printout of your updated resume. Have you read the JD and understood the same',\n",
       "       'Are you clear with the venue details and the landmark.',\n",
       "       'Has the call letter been shared', 'Expected Attendance'],\n",
       "      dtype='object')"
      ]
     },
     "execution_count": 1186,
     "metadata": {},
     "output_type": "execute_result"
    }
   ],
   "source": [
    "X.columns"
   ]
  },
  {
   "cell_type": "code",
   "execution_count": 1187,
   "metadata": {},
   "outputs": [
    {
     "data": {
      "text/html": [
       "<div>\n",
       "<style scoped>\n",
       "    .dataframe tbody tr th:only-of-type {\n",
       "        vertical-align: middle;\n",
       "    }\n",
       "\n",
       "    .dataframe tbody tr th {\n",
       "        vertical-align: top;\n",
       "    }\n",
       "\n",
       "    .dataframe thead th {\n",
       "        text-align: right;\n",
       "    }\n",
       "</style>\n",
       "<table border=\"1\" class=\"dataframe\">\n",
       "  <thead>\n",
       "    <tr style=\"text-align: right;\">\n",
       "      <th></th>\n",
       "      <th>Client name</th>\n",
       "      <th>Position to be closed</th>\n",
       "      <th>Interview Type</th>\n",
       "      <th>Candidate Current Location</th>\n",
       "      <th>Interview Venue</th>\n",
       "      <th>Have you obtained the necessary permission to start at the required time</th>\n",
       "      <th>Hope there will be no unscheduled meetings</th>\n",
       "      <th>Can I Call you three hours before the interview and follow up on your attendance for the interview</th>\n",
       "      <th>Can I have an alternative number/ desk number. I assure you that I will not trouble you too much</th>\n",
       "      <th>Have you taken a printout of your updated resume. Have you read the JD and understood the same</th>\n",
       "      <th>Are you clear with the venue details and the landmark.</th>\n",
       "      <th>Has the call letter been shared</th>\n",
       "      <th>Expected Attendance</th>\n",
       "    </tr>\n",
       "  </thead>\n",
       "  <tbody>\n",
       "    <tr>\n",
       "      <th>0</th>\n",
       "      <td>7</td>\n",
       "      <td>3</td>\n",
       "      <td>1</td>\n",
       "      <td>1</td>\n",
       "      <td>4</td>\n",
       "      <td>3</td>\n",
       "      <td>4</td>\n",
       "      <td>2</td>\n",
       "      <td>2</td>\n",
       "      <td>2</td>\n",
       "      <td>2</td>\n",
       "      <td>3</td>\n",
       "      <td>2</td>\n",
       "    </tr>\n",
       "    <tr>\n",
       "      <th>1</th>\n",
       "      <td>7</td>\n",
       "      <td>3</td>\n",
       "      <td>1</td>\n",
       "      <td>1</td>\n",
       "      <td>4</td>\n",
       "      <td>3</td>\n",
       "      <td>4</td>\n",
       "      <td>2</td>\n",
       "      <td>2</td>\n",
       "      <td>2</td>\n",
       "      <td>2</td>\n",
       "      <td>3</td>\n",
       "      <td>2</td>\n",
       "    </tr>\n",
       "    <tr>\n",
       "      <th>2</th>\n",
       "      <td>7</td>\n",
       "      <td>3</td>\n",
       "      <td>1</td>\n",
       "      <td>1</td>\n",
       "      <td>4</td>\n",
       "      <td>0</td>\n",
       "      <td>0</td>\n",
       "      <td>0</td>\n",
       "      <td>0</td>\n",
       "      <td>0</td>\n",
       "      <td>0</td>\n",
       "      <td>0</td>\n",
       "      <td>1</td>\n",
       "    </tr>\n",
       "    <tr>\n",
       "      <th>3</th>\n",
       "      <td>7</td>\n",
       "      <td>3</td>\n",
       "      <td>1</td>\n",
       "      <td>1</td>\n",
       "      <td>4</td>\n",
       "      <td>3</td>\n",
       "      <td>4</td>\n",
       "      <td>1</td>\n",
       "      <td>2</td>\n",
       "      <td>1</td>\n",
       "      <td>2</td>\n",
       "      <td>3</td>\n",
       "      <td>1</td>\n",
       "    </tr>\n",
       "    <tr>\n",
       "      <th>4</th>\n",
       "      <td>7</td>\n",
       "      <td>3</td>\n",
       "      <td>1</td>\n",
       "      <td>1</td>\n",
       "      <td>4</td>\n",
       "      <td>3</td>\n",
       "      <td>4</td>\n",
       "      <td>2</td>\n",
       "      <td>1</td>\n",
       "      <td>2</td>\n",
       "      <td>2</td>\n",
       "      <td>3</td>\n",
       "      <td>1</td>\n",
       "    </tr>\n",
       "    <tr>\n",
       "      <th>5</th>\n",
       "      <td>1</td>\n",
       "      <td>5</td>\n",
       "      <td>1</td>\n",
       "      <td>4</td>\n",
       "      <td>3</td>\n",
       "      <td>3</td>\n",
       "      <td>4</td>\n",
       "      <td>2</td>\n",
       "      <td>2</td>\n",
       "      <td>2</td>\n",
       "      <td>2</td>\n",
       "      <td>3</td>\n",
       "      <td>2</td>\n",
       "    </tr>\n",
       "    <tr>\n",
       "      <th>6</th>\n",
       "      <td>1</td>\n",
       "      <td>5</td>\n",
       "      <td>1</td>\n",
       "      <td>4</td>\n",
       "      <td>3</td>\n",
       "      <td>3</td>\n",
       "      <td>4</td>\n",
       "      <td>2</td>\n",
       "      <td>2</td>\n",
       "      <td>2</td>\n",
       "      <td>2</td>\n",
       "      <td>3</td>\n",
       "      <td>2</td>\n",
       "    </tr>\n",
       "    <tr>\n",
       "      <th>7</th>\n",
       "      <td>1</td>\n",
       "      <td>5</td>\n",
       "      <td>1</td>\n",
       "      <td>4</td>\n",
       "      <td>3</td>\n",
       "      <td>3</td>\n",
       "      <td>4</td>\n",
       "      <td>2</td>\n",
       "      <td>2</td>\n",
       "      <td>2</td>\n",
       "      <td>2</td>\n",
       "      <td>3</td>\n",
       "      <td>2</td>\n",
       "    </tr>\n",
       "    <tr>\n",
       "      <th>8</th>\n",
       "      <td>1</td>\n",
       "      <td>5</td>\n",
       "      <td>1</td>\n",
       "      <td>4</td>\n",
       "      <td>3</td>\n",
       "      <td>3</td>\n",
       "      <td>4</td>\n",
       "      <td>2</td>\n",
       "      <td>2</td>\n",
       "      <td>2</td>\n",
       "      <td>2</td>\n",
       "      <td>3</td>\n",
       "      <td>2</td>\n",
       "    </tr>\n",
       "    <tr>\n",
       "      <th>9</th>\n",
       "      <td>1</td>\n",
       "      <td>5</td>\n",
       "      <td>1</td>\n",
       "      <td>4</td>\n",
       "      <td>3</td>\n",
       "      <td>3</td>\n",
       "      <td>4</td>\n",
       "      <td>2</td>\n",
       "      <td>2</td>\n",
       "      <td>2</td>\n",
       "      <td>2</td>\n",
       "      <td>3</td>\n",
       "      <td>2</td>\n",
       "    </tr>\n",
       "  </tbody>\n",
       "</table>\n",
       "</div>"
      ],
      "text/plain": [
       "   Client name  Position to be closed  Interview Type  \\\n",
       "0            7                      3               1   \n",
       "1            7                      3               1   \n",
       "2            7                      3               1   \n",
       "3            7                      3               1   \n",
       "4            7                      3               1   \n",
       "5            1                      5               1   \n",
       "6            1                      5               1   \n",
       "7            1                      5               1   \n",
       "8            1                      5               1   \n",
       "9            1                      5               1   \n",
       "\n",
       "   Candidate Current Location  Interview Venue  \\\n",
       "0                           1                4   \n",
       "1                           1                4   \n",
       "2                           1                4   \n",
       "3                           1                4   \n",
       "4                           1                4   \n",
       "5                           4                3   \n",
       "6                           4                3   \n",
       "7                           4                3   \n",
       "8                           4                3   \n",
       "9                           4                3   \n",
       "\n",
       "   Have you obtained the necessary permission to start at the required time  \\\n",
       "0                                                  3                          \n",
       "1                                                  3                          \n",
       "2                                                  0                          \n",
       "3                                                  3                          \n",
       "4                                                  3                          \n",
       "5                                                  3                          \n",
       "6                                                  3                          \n",
       "7                                                  3                          \n",
       "8                                                  3                          \n",
       "9                                                  3                          \n",
       "\n",
       "   Hope there will be no unscheduled meetings  \\\n",
       "0                                           4   \n",
       "1                                           4   \n",
       "2                                           0   \n",
       "3                                           4   \n",
       "4                                           4   \n",
       "5                                           4   \n",
       "6                                           4   \n",
       "7                                           4   \n",
       "8                                           4   \n",
       "9                                           4   \n",
       "\n",
       "   Can I Call you three hours before the interview and follow up on your attendance for the interview  \\\n",
       "0                                                  2                                                    \n",
       "1                                                  2                                                    \n",
       "2                                                  0                                                    \n",
       "3                                                  1                                                    \n",
       "4                                                  2                                                    \n",
       "5                                                  2                                                    \n",
       "6                                                  2                                                    \n",
       "7                                                  2                                                    \n",
       "8                                                  2                                                    \n",
       "9                                                  2                                                    \n",
       "\n",
       "   Can I have an alternative number/ desk number. I assure you that I will not trouble you too much  \\\n",
       "0                                                  2                                                  \n",
       "1                                                  2                                                  \n",
       "2                                                  0                                                  \n",
       "3                                                  2                                                  \n",
       "4                                                  1                                                  \n",
       "5                                                  2                                                  \n",
       "6                                                  2                                                  \n",
       "7                                                  2                                                  \n",
       "8                                                  2                                                  \n",
       "9                                                  2                                                  \n",
       "\n",
       "   Have you taken a printout of your updated resume. Have you read the JD and understood the same  \\\n",
       "0                                                  2                                                \n",
       "1                                                  2                                                \n",
       "2                                                  0                                                \n",
       "3                                                  1                                                \n",
       "4                                                  2                                                \n",
       "5                                                  2                                                \n",
       "6                                                  2                                                \n",
       "7                                                  2                                                \n",
       "8                                                  2                                                \n",
       "9                                                  2                                                \n",
       "\n",
       "   Are you clear with the venue details and the landmark.  \\\n",
       "0                                                  2        \n",
       "1                                                  2        \n",
       "2                                                  0        \n",
       "3                                                  2        \n",
       "4                                                  2        \n",
       "5                                                  2        \n",
       "6                                                  2        \n",
       "7                                                  2        \n",
       "8                                                  2        \n",
       "9                                                  2        \n",
       "\n",
       "   Has the call letter been shared  Expected Attendance  \n",
       "0                                3                    2  \n",
       "1                                3                    2  \n",
       "2                                0                    1  \n",
       "3                                3                    1  \n",
       "4                                3                    1  \n",
       "5                                3                    2  \n",
       "6                                3                    2  \n",
       "7                                3                    2  \n",
       "8                                3                    2  \n",
       "9                                3                    2  "
      ]
     },
     "execution_count": 1187,
     "metadata": {},
     "output_type": "execute_result"
    }
   ],
   "source": [
    "X.head(10)"
   ]
  },
  {
   "cell_type": "markdown",
   "metadata": {},
   "source": [
    "# Model Selection"
   ]
  },
  {
   "cell_type": "code",
   "execution_count": 1195,
   "metadata": {},
   "outputs": [],
   "source": [
    "Xtrain, Xtest, ytrain, ytest = model_selection.train_test_split(X, y, test_size=0.3, random_state=42, stratify=y)"
   ]
  },
  {
   "cell_type": "markdown",
   "metadata": {},
   "source": [
    "## 1. Logistic Regression"
   ]
  },
  {
   "cell_type": "code",
   "execution_count": 1196,
   "metadata": {
    "scrolled": true
   },
   "outputs": [
    {
     "name": "stdout",
     "output_type": "stream",
     "text": [
      "TEST\n",
      "Recall : 0.89\n",
      "Precision : 0.71\n",
      "Accuracy : 0.70\n",
      "AUC : 0.72\n",
      "\n",
      "TRAIN\n",
      "Recall : 0.89\n",
      "Precision : 0.72\n",
      "Accuracy : 0.71\n",
      "AUC : 0.73\n"
     ]
    },
    {
     "name": "stderr",
     "output_type": "stream",
     "text": [
      "c:\\users\\bhawana\\appdata\\local\\programs\\python\\python37-32\\lib\\site-packages\\sklearn\\linear_model\\logistic.py:433: FutureWarning: Default solver will be changed to 'lbfgs' in 0.22. Specify a solver to silence this warning.\n",
      "  FutureWarning)\n"
     ]
    }
   ],
   "source": [
    "model1 = linear_model.LogisticRegression()\n",
    "model1.fit(Xtrain,ytrain)\n",
    "auc1 = metrics.roc_auc_score(ytest,model1.predict_proba(Xtest)[:,1])\n",
    "print(\"TEST\\nRecall : %.2f\"%metrics.recall_score(ytest,model1.predict(Xtest)))\n",
    "print(\"Precision : %.2f\"%metrics.precision_score(ytest,model1.predict(Xtest)))\n",
    "print(\"Accuracy : %.2f\"%metrics.accuracy_score(ytest,model1.predict(Xtest)))\n",
    "print(\"AUC : %.2f\"%auc1)\n",
    "print(\"\\nTRAIN\\nRecall : %.2f\"%metrics.recall_score(ytrain,model1.predict(Xtrain)))\n",
    "print(\"Precision : %.2f\"%metrics.precision_score(ytrain,model1.predict(Xtrain)))\n",
    "print(\"Accuracy : %.2f\"%metrics.accuracy_score(ytrain,model1.predict(Xtrain)))\n",
    "print(\"AUC : %.2f\"%metrics.roc_auc_score(ytrain,model1.predict_proba(Xtrain)[:,1]))"
   ]
  },
  {
   "cell_type": "code",
   "execution_count": 1197,
   "metadata": {},
   "outputs": [
    {
     "data": {
      "text/plain": [
       "Text(0, 0.5, 'TPR')"
      ]
     },
     "execution_count": 1197,
     "metadata": {},
     "output_type": "execute_result"
    },
    {
     "data": {
      "image/png": "[encoded data removed]",
      "text/plain": [
       "<Figure size 432x288 with 1 Axes>"
      ]
     },
     "metadata": {
      "needs_background": "light"
     },
     "output_type": "display_data"
    }
   ],
   "source": [
    "fpr, tpr, thr = metrics.roc_curve(ytest, model1.predict_proba(Xtest)[:,1])\n",
    "plt.plot(fpr, tpr, label=\"ROC Area:%.2f\"%auc1)\n",
    "plt.plot([0,1], [0,1], \"r-\")\n",
    "plt.legend()\n",
    "plt.title(\"Logistic Regression ROC Curve\")\n",
    "plt.xlabel(\"FPR\")\n",
    "plt.ylabel(\"TPR\")"
   ]
  },
  {
   "cell_type": "markdown",
   "metadata": {},
   "source": [
    "## 2. Decision Tree"
   ]
  },
  {
   "cell_type": "code",
   "execution_count": 1198,
   "metadata": {
    "scrolled": false
   },
   "outputs": [
    {
     "name": "stdout",
     "output_type": "stream",
     "text": [
      "TEST\n",
      "Recall : 0.86\n",
      "Precision : 0.72\n",
      "Accuracy : 0.71\n",
      "AUC : 0.71\n",
      "\n",
      "TRAIN\n",
      "Recall : 0.91\n",
      "Precision : 0.75\n",
      "Accuracy : 0.74\n",
      "AUC : 0.77\n"
     ]
    }
   ],
   "source": [
    "model2 = tree.DecisionTreeClassifier()\n",
    "model2.fit(Xtrain,ytrain)\n",
    "auc2 = metrics.roc_auc_score(ytest,model2.predict_proba(Xtest)[:,1])\n",
    "print(\"TEST\\nRecall : %.2f\"%metrics.recall_score(ytest,model2.predict(Xtest)))\n",
    "print(\"Precision : %.2f\"%metrics.precision_score(ytest,model2.predict(Xtest)))\n",
    "print(\"Accuracy : %.2f\"%metrics.accuracy_score(ytest,model2.predict(Xtest)))\n",
    "print(\"AUC : %.2f\"%auc2)\n",
    "print(\"\\nTRAIN\\nRecall : %.2f\"%metrics.recall_score(ytrain,model2.predict(Xtrain)))\n",
    "print(\"Precision : %.2f\"%metrics.precision_score(ytrain,model2.predict(Xtrain)))\n",
    "print(\"Accuracy : %.2f\"%metrics.accuracy_score(ytrain,model2.predict(Xtrain)))\n",
    "print(\"AUC : %.2f\"%metrics.roc_auc_score(ytrain,model2.predict_proba(Xtrain)[:,1]))"
   ]
  },
  {
   "cell_type": "code",
   "execution_count": 1199,
   "metadata": {},
   "outputs": [
    {
     "data": {
      "text/plain": [
       "Text(0, 0.5, 'TPR')"
      ]
     },
     "execution_count": 1199,
     "metadata": {},
     "output_type": "execute_result"
    },
    {
     "data": {
      "image/png": "[encoded data removed]",
      "text/plain": [
       "<Figure size 432x288 with 1 Axes>"
      ]
     },
     "metadata": {
      "needs_background": "light"
     },
     "output_type": "display_data"
    }
   ],
   "source": [
    "fpr, tpr, thr = metrics.roc_curve(ytest, model2.predict_proba(Xtest)[:,1])\n",
    "plt.plot(fpr, tpr, label=\"ROC Area:%0.2f\"%auc2)\n",
    "plt.plot([0,1], [0,1], \"r-\")\n",
    "plt.legend()\n",
    "plt.title(\"Decision Tree ROC Curve\")\n",
    "plt.xlabel(\"FPR\")\n",
    "plt.ylabel(\"TPR\")"
   ]
  },
  {
   "cell_type": "code",
   "execution_count": 1200,
   "metadata": {},
   "outputs": [
    {
     "name": "stderr",
     "output_type": "stream",
     "text": [
      "c:\\users\\bhawana\\appdata\\local\\programs\\python\\python37-32\\lib\\site-packages\\sklearn\\model_selection\\_split.py:2053: FutureWarning: You should specify a value for 'cv' instead of relying on the default value. The default value will change from 3 to 5 in version 0.22.\n",
      "  warnings.warn(CV_WARNING, FutureWarning)\n"
     ]
    },
    {
     "data": {
      "text/plain": [
       "{'max_depth': 2, 'min_samples_split': 20}"
      ]
     },
     "execution_count": 1200,
     "metadata": {},
     "output_type": "execute_result"
    }
   ],
   "source": [
    "# HYPER PARAMETER TUNING\n",
    "g=[i for i in range(2,20)]\n",
    "h=[j for j in range(20,40)]\n",
    "grid={\"max_depth\": g,\"min_samples_split\": h}\n",
    "\n",
    "gridobj=model_selection.GridSearchCV(estimator=model2, param_grid=grid, scoring='precision')\n",
    "gridobj.fit(Xtrain,ytrain)\n",
    "model=gridobj.best_estimator_\n",
    "model.fit(Xtrain,ytrain)\n",
    "\n",
    "gridobj.best_params_"
   ]
  },
  {
   "cell_type": "code",
   "execution_count": 1201,
   "metadata": {},
   "outputs": [
    {
     "name": "stdout",
     "output_type": "stream",
     "text": [
      "TEST\n",
      "Recall : 0.83\n",
      "Precision : 0.73\n",
      "Accuracy : 0.70\n",
      "f1-score : 0.78\n",
      "AUC score : 0.67\n",
      "TRAIN\n",
      "Recall : 0.84\n",
      "Precision : 0.74\n",
      "Accuracy : 0.71\n",
      "f1-score : 0.79\n",
      "AUC score : 0.68\n"
     ]
    }
   ],
   "source": [
    "auc2 = metrics.roc_auc_score(ytest,model.predict_proba(Xtest)[:,1])\n",
    "print(\"TEST\\nRecall : %.2f\"%metrics.recall_score(ytest,model.predict(Xtest)))\n",
    "print(\"Precision : %.2f\"%metrics.precision_score(ytest,model.predict(Xtest)))\n",
    "print(\"Accuracy : %.2f\"%metrics.accuracy_score(ytest,model.predict(Xtest)))\n",
    "print(\"f1-score : %.2f\"%metrics.f1_score(ytest,model.predict(Xtest)))\n",
    "print(\"AUC score : %.2f\"%auc2)\n",
    "print(\"TRAIN\\nRecall : %.2f\"%metrics.recall_score(ytrain,model.predict(Xtrain)))\n",
    "print(\"Precision : %.2f\"%metrics.precision_score(ytrain,model.predict(Xtrain)))\n",
    "print(\"Accuracy : %.2f\"%metrics.accuracy_score(ytrain,model.predict(Xtrain)))\n",
    "print(\"f1-score : %.2f\"%metrics.f1_score(ytrain,model.predict(Xtrain)))\n",
    "print(\"AUC score : %.2f\"%metrics.roc_auc_score(ytrain,model.predict_proba(Xtrain)[:,1]))"
   ]
  },
  {
   "cell_type": "code",
   "execution_count": 1202,
   "metadata": {},
   "outputs": [
    {
     "data": {
      "text/plain": [
       "Text(0, 0.5, 'TPR')"
      ]
     },
     "execution_count": 1202,
     "metadata": {},
     "output_type": "execute_result"
    },
    {
     "data": {
      "image/png": "[encoded data removed]",
      "text/plain": [
       "<Figure size 432x288 with 1 Axes>"
      ]
     },
     "metadata": {
      "needs_background": "light"
     },
     "output_type": "display_data"
    }
   ],
   "source": [
    "fpr, tpr, thr = metrics.roc_curve(ytest, model2.predict_proba(Xtest)[:,1])\n",
    "plt.plot(fpr, tpr, label=\"ROC Area:%.2f\"%auc2)\n",
    "plt.plot([0,1], [0,1], \"r-\")\n",
    "plt.legend()\n",
    "plt.title(\"Decision Tree (Hyper Parameter Tuning) ROC Curve\")\n",
    "plt.xlabel(\"FPR\")\n",
    "plt.ylabel(\"TPR\")"
   ]
  },
  {
   "cell_type": "markdown",
   "metadata": {},
   "source": [
    "## 3. Naive Baye's "
   ]
  },
  {
   "cell_type": "code",
   "execution_count": 1207,
   "metadata": {},
   "outputs": [
    {
     "name": "stdout",
     "output_type": "stream",
     "text": [
      "TEST\n",
      "Recall : 0.85\n",
      "Precision : 0.72\n",
      "Accuracy : 0.69\n",
      "AUC : 0.68\n",
      "\n",
      "TRAIN\n",
      "Recall : 0.86\n",
      "Precision : 0.73\n",
      "Accuracy : 0.71\n",
      "AUC : 0.71\n"
     ]
    }
   ],
   "source": [
    "model3 = naive_bayes.GaussianNB()\n",
    "model3.fit(Xtrain,ytrain)\n",
    "auc3 = metrics.roc_auc_score(ytest,model3.predict_proba(Xtest)[:,1])\n",
    "print(\"TEST\\nRecall : %.2f\"%metrics.recall_score(ytest,model3.predict(Xtest)))\n",
    "print(\"Precision : %.2f\"%metrics.precision_score(ytest,model3.predict(Xtest)))\n",
    "print(\"Accuracy : %.2f\"%metrics.accuracy_score(ytest,model3.predict(Xtest)))\n",
    "print(\"AUC : %.2f\"%auc3)\n",
    "print(\"\\nTRAIN\\nRecall : %.2f\"%metrics.recall_score(ytrain,model3.predict(Xtrain)))\n",
    "print(\"Precision : %.2f\"%metrics.precision_score(ytrain,model3.predict(Xtrain)))\n",
    "print(\"Accuracy : %.2f\"%metrics.accuracy_score(ytrain,model3.predict(Xtrain)))\n",
    "print(\"AUC : %.2f\"%metrics.roc_auc_score(ytrain,model3.predict_proba(Xtrain)[:,1]))"
   ]
  },
  {
   "cell_type": "code",
   "execution_count": 1208,
   "metadata": {},
   "outputs": [
    {
     "data": {
      "text/plain": [
       "Text(0, 0.5, 'TPR')"
      ]
     },
     "execution_count": 1208,
     "metadata": {},
     "output_type": "execute_result"
    },
    {
     "data": {
      "image/png": "[encoded data removed]",
      "text/plain": [
       "<Figure size 432x288 with 1 Axes>"
      ]
     },
     "metadata": {
      "needs_background": "light"
     },
     "output_type": "display_data"
    }
   ],
   "source": [
    "fpr, tpr, thr = metrics.roc_curve(ytest, model2.predict_proba(Xtest)[:,1])\n",
    "plt.plot(fpr, tpr, label=\"ROC Area:%.2f\"%auc3)\n",
    "plt.plot([0,1], [0,1], \"r-\")\n",
    "plt.legend()\n",
    "plt.title(\"Naive Baye's ROC Curve\")\n",
    "plt.xlabel(\"FPR\")\n",
    "plt.ylabel(\"TPR\")"
   ]
  },
  {
   "cell_type": "markdown",
   "metadata": {},
   "source": [
    "## 4. Random Forest "
   ]
  },
  {
   "cell_type": "code",
   "execution_count": 1209,
   "metadata": {},
   "outputs": [
    {
     "name": "stdout",
     "output_type": "stream",
     "text": [
      "TEST\n",
      "Recall : 0.89\n",
      "Precision : 0.73\n",
      "Accuracy : 0.72\n",
      "AUC : 0.71\n",
      "\n",
      "TRAIN\n",
      "Recall : 0.92\n",
      "Precision : 0.74\n",
      "Accuracy : 0.74\n",
      "AUC : 0.77\n"
     ]
    },
    {
     "name": "stderr",
     "output_type": "stream",
     "text": [
      "c:\\users\\bhawana\\appdata\\local\\programs\\python\\python37-32\\lib\\site-packages\\sklearn\\ensemble\\forest.py:246: FutureWarning: The default value of n_estimators will change from 10 in version 0.20 to 100 in 0.22.\n",
      "  \"10 in version 0.20 to 100 in 0.22.\", FutureWarning)\n"
     ]
    }
   ],
   "source": [
    "model4 = ensemble.RandomForestClassifier()\n",
    "model4.fit(Xtrain,ytrain)\n",
    "auc4 = metrics.roc_auc_score(ytest,model4.predict_proba(Xtest)[:,1])\n",
    "print(\"TEST\\nRecall : %.2f\"%metrics.recall_score(ytest,model4.predict(Xtest)))\n",
    "print(\"Precision : %.2f\"%metrics.precision_score(ytest,model4.predict(Xtest)))\n",
    "print(\"Accuracy : %.2f\"%metrics.accuracy_score(ytest,model4.predict(Xtest)))\n",
    "print(\"AUC : %.2f\"%auc4)\n",
    "print(\"\\nTRAIN\\nRecall : %.2f\"%metrics.recall_score(ytrain,model4.predict(Xtrain)))\n",
    "print(\"Precision : %.2f\"%metrics.precision_score(ytrain,model4.predict(Xtrain)))\n",
    "print(\"Accuracy : %.2f\"%metrics.accuracy_score(ytrain,model4.predict(Xtrain)))\n",
    "print(\"AUC : %.2f\"%metrics.roc_auc_score(ytrain,model4.predict_proba(Xtrain)[:,1]))"
   ]
  },
  {
   "cell_type": "code",
   "execution_count": 1210,
   "metadata": {},
   "outputs": [
    {
     "data": {
      "text/plain": [
       "Text(0, 0.5, 'TPR')"
      ]
     },
     "execution_count": 1210,
     "metadata": {},
     "output_type": "execute_result"
    },
    {
     "data": {
      "image/png": "[encoded data removed]",
      "text/plain": [
       "<Figure size 432x288 with 1 Axes>"
      ]
     },
     "metadata": {
      "needs_background": "light"
     },
     "output_type": "display_data"
    }
   ],
   "source": [
    "fpr, tpr, thr = metrics.roc_curve(ytest, model2.predict_proba(Xtest)[:,1])\n",
    "plt.plot(fpr, tpr, label=\"ROC Area:%.2f\"%auc4)\n",
    "plt.plot([0,1], [0,1], \"r-\")\n",
    "plt.legend()\n",
    "plt.title(\"Random Forest ROC Curve\")\n",
    "plt.xlabel(\"FPR\")\n",
    "plt.ylabel(\"TPR\")"
   ]
  },
  {
   "cell_type": "markdown",
   "metadata": {},
   "source": [
    "## 5. K-Nearest Neighbors (KNN)"
   ]
  },
  {
   "cell_type": "code",
   "execution_count": 1211,
   "metadata": {},
   "outputs": [
    {
     "name": "stderr",
     "output_type": "stream",
     "text": [
      "c:\\users\\bhawana\\appdata\\local\\programs\\python\\python37-32\\lib\\site-packages\\sklearn\\model_selection\\_split.py:2053: FutureWarning: You should specify a value for 'cv' instead of relying on the default value. The default value will change from 3 to 5 in version 0.22.\n",
      "  warnings.warn(CV_WARNING, FutureWarning)\n"
     ]
    },
    {
     "name": "stdout",
     "output_type": "stream",
     "text": [
      "TEST\n",
      "Recall : 0.86\n",
      "Precision : 0.73\n",
      "Accuracy : 0.71\n",
      "AUC : 0.69\n",
      "\n",
      "TRAIN\n",
      "Recall : 0.87\n",
      "Precision : 0.73\n",
      "Accuracy : 0.72\n",
      "AUC : 0.72\n"
     ]
    }
   ],
   "source": [
    "g=[i for i in range(11,37,2)]\n",
    "grid={\"n_neighbors\": g}\n",
    "model=neighbors.KNeighborsClassifier()\n",
    "gridobj=model_selection.GridSearchCV(estimator=model,param_grid=grid,scoring='precision')\n",
    "gridobj.fit(Xtrain,ytrain)\n",
    "best=gridobj.best_estimator_\n",
    "gridobj.best_params_\n",
    "\n",
    "model5 = neighbors.KNeighborsClassifier(n_neighbors=15)\n",
    "model5.fit(Xtrain,ytrain)\n",
    "auc5 = metrics.roc_auc_score(ytest,model5.predict_proba(Xtest)[:,1])\n",
    "print(\"TEST\\nRecall : %.2f\"%metrics.recall_score(ytest,model5.predict(Xtest)))\n",
    "print(\"Precision : %.2f\"%metrics.precision_score(ytest,model5.predict(Xtest)))\n",
    "print(\"Accuracy : %.2f\"%metrics.accuracy_score(ytest,model5.predict(Xtest)))\n",
    "print(\"AUC : %.2f\"%auc5)\n",
    "print(\"\\nTRAIN\\nRecall : %.2f\"%metrics.recall_score(ytrain,model5.predict(Xtrain)))\n",
    "print(\"Precision : %.2f\"%metrics.precision_score(ytrain,model5.predict(Xtrain)))\n",
    "print(\"Accuracy : %.2f\"%metrics.accuracy_score(ytrain,model5.predict(Xtrain)))\n",
    "print(\"AUC : %.2f\"%metrics.roc_auc_score(ytrain,model5.predict_proba(Xtrain)[:,1]))"
   ]
  },
  {
   "cell_type": "code",
   "execution_count": 1212,
   "metadata": {},
   "outputs": [
    {
     "data": {
      "text/plain": [
       "Text(0, 0.5, 'TPR')"
      ]
     },
     "execution_count": 1212,
     "metadata": {},
     "output_type": "execute_result"
    },
    {
     "data": {
      "image/png": "[encoded data removed]",
      "text/plain": [
       "<Figure size 432x288 with 1 Axes>"
      ]
     },
     "metadata": {
      "needs_background": "light"
     },
     "output_type": "display_data"
    }
   ],
   "source": [
    "fpr, tpr, thr = metrics.roc_curve(ytest, model2.predict_proba(Xtest)[:,1])\n",
    "plt.plot(fpr, tpr, label=\"ROC Area:%.2f\"%auc5)\n",
    "plt.plot([0,1], [0,1], \"r-\")\n",
    "plt.legend()\n",
    "plt.title(\"KNN ROC Curve\")\n",
    "plt.xlabel(\"FPR\")\n",
    "plt.ylabel(\"TPR\")"
   ]
  },
  {
   "cell_type": "markdown",
   "metadata": {},
   "source": [
    "# Model Comparison"
   ]
  },
  {
   "cell_type": "code",
   "execution_count": 1251,
   "metadata": {},
   "outputs": [
    {
     "data": {
      "text/html": [
       "<div>\n",
       "<style scoped>\n",
       "    .dataframe tbody tr th:only-of-type {\n",
       "        vertical-align: middle;\n",
       "    }\n",
       "\n",
       "    .dataframe tbody tr th {\n",
       "        vertical-align: top;\n",
       "    }\n",
       "\n",
       "    .dataframe thead th {\n",
       "        text-align: right;\n",
       "    }\n",
       "</style>\n",
       "<table border=\"1\" class=\"dataframe\">\n",
       "  <thead>\n",
       "    <tr style=\"text-align: right;\">\n",
       "      <th></th>\n",
       "      <th>LogisticRegression</th>\n",
       "      <th>DecisionTreeClassifier</th>\n",
       "      <th>GaussianNB</th>\n",
       "      <th>RandomForestClassifier</th>\n",
       "      <th>KNeighborsClassifier</th>\n",
       "    </tr>\n",
       "  </thead>\n",
       "  <tbody>\n",
       "    <tr>\n",
       "      <th>Recall</th>\n",
       "      <td>0.885106</td>\n",
       "      <td>0.863830</td>\n",
       "      <td>0.851064</td>\n",
       "      <td>0.889362</td>\n",
       "      <td>0.859574</td>\n",
       "    </tr>\n",
       "    <tr>\n",
       "      <th>Precision</th>\n",
       "      <td>0.714777</td>\n",
       "      <td>0.725000</td>\n",
       "      <td>0.719424</td>\n",
       "      <td>0.728223</td>\n",
       "      <td>0.729242</td>\n",
       "    </tr>\n",
       "    <tr>\n",
       "      <th>Accuracy</th>\n",
       "      <td>0.702703</td>\n",
       "      <td>0.705405</td>\n",
       "      <td>0.694595</td>\n",
       "      <td>0.718919</td>\n",
       "      <td>0.708108</td>\n",
       "    </tr>\n",
       "    <tr>\n",
       "      <th>AUC</th>\n",
       "      <td>0.723751</td>\n",
       "      <td>0.671883</td>\n",
       "      <td>0.683530</td>\n",
       "      <td>0.712072</td>\n",
       "      <td>0.688526</td>\n",
       "    </tr>\n",
       "  </tbody>\n",
       "</table>\n",
       "</div>"
      ],
      "text/plain": [
       "           LogisticRegression  DecisionTreeClassifier  GaussianNB  \\\n",
       "Recall               0.885106                0.863830    0.851064   \n",
       "Precision            0.714777                0.725000    0.719424   \n",
       "Accuracy             0.702703                0.705405    0.694595   \n",
       "AUC                  0.723751                0.671883    0.683530   \n",
       "\n",
       "           RandomForestClassifier  KNeighborsClassifier  \n",
       "Recall                   0.889362              0.859574  \n",
       "Precision                0.728223              0.729242  \n",
       "Accuracy                 0.718919              0.708108  \n",
       "AUC                      0.712072              0.688526  "
      ]
     },
     "execution_count": 1251,
     "metadata": {},
     "output_type": "execute_result"
    }
   ],
   "source": [
    "dic = {}\n",
    "models = [linear_model.LogisticRegression(),tree.DecisionTreeClassifier(),naive_bayes.GaussianNB(),ensemble.RandomForestClassifier(), neighbors.KNeighborsClassifier(n_neighbors=15)]\n",
    "models_ = [model1, model2, model3, model4, model5]\n",
    "aucs = [auc1, auc2, auc3, auc4, auc5]\n",
    "for i in range(5):\n",
    "    dic[models[i].__class__.__name__] = [metrics.recall_score(ytest,models_[i].predict(Xtest)), metrics.precision_score(ytest,models_[i].predict(Xtest)), metrics.accuracy_score(ytest,models_[i].predict(Xtest)), aucs[i]]\n",
    "model_comparison = pd.DataFrame(dic)\n",
    "model_comparison.index=[\"Recall\", \"Precision\", \"Accuracy\", \"AUC\"]\n",
    "model_comparison"
   ]
  },
  {
   "cell_type": "code",
   "execution_count": null,
   "metadata": {},
   "outputs": [],
   "source": []
  }
 ],
 "metadata": {
  "kernelspec": {
   "display_name": "Python 3",
   "language": "python",
   "name": "python3"
  },
  "language_info": {
   "codemirror_mode": {
    "name": "ipython",
    "version": 3
   },
   "file_extension": ".py",
   "mimetype": "text/x-python",
   "name": "python",
   "nbconvert_exporter": "python",
   "pygments_lexer": "ipython3",
   "version": "3.7.2"
  }
 },
 "nbformat": 4,
 "nbformat_minor": 2
}
